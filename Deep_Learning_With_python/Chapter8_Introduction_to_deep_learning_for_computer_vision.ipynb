{
 "cells": [
  {
   "cell_type": "markdown",
   "metadata": {},
   "source": [
    "# Chapter 8 Introduction to Deep Learning for Computer Vision"
   ]
  },
  {
   "cell_type": "markdown",
   "metadata": {},
   "source": [
    "This chapter introduces convolutional neural networks, also known as convnets, the\n",
    " type of deep learning model that is now used almost universally in computer vision\n",
    " applications. You’ll learn to apply convnets to image-classification problems—in particular those involving small training datasets, which are the most common use case i \n",
    " you aren’t a large tech company"
   ]
  },
  {
   "cell_type": "markdown",
   "metadata": {},
   "source": [
    "## 8.1 Introduction to convnets"
   ]
  },
  {
   "cell_type": "markdown",
   "metadata": {},
   "source": [
    "First, let’s take a practical look at a simple convnet example that classifies MNIST digits, a task we performed in chapter 2 using a\n",
    "densely connected network (our test accuracy then was 97.8%). Even though the\n",
    "convnet will be basic, its accuracy will blow our densely connected model from chapter 2 out of the water"
   ]
  },
  {
   "cell_type": "markdown",
   "metadata": {},
   "source": [
    "The following listing shows what a basic convnet looks like. \n",
    "\n",
    "It’s a stack of Conv2D and MaxPooling2D layers. \n",
    "\n",
    "You’ll see in a minute exactly what they do. We’ll build the\n",
    "model using the Functional API, which we introduced in the previous chapter."
   ]
  },
  {
   "cell_type": "code",
   "execution_count": 1,
   "metadata": {},
   "outputs": [],
   "source": [
    "from tensorflow import keras\n",
    "from keras import layers"
   ]
  },
  {
   "cell_type": "code",
   "execution_count": 3,
   "metadata": {},
   "outputs": [],
   "source": [
    "inputs = keras.Input(shape=(28,28,1))\n",
    "\n",
    "x = layers.Conv2D(filters=32,kernel_size=3,activation='relu')(inputs)\n",
    "x = layers.MaxPooling2D(pool_size=2)(x)\n",
    "x = layers.Conv2D(filters=64,kernel_size=3,activation='relu')(x)\n",
    "x = layers.MaxPooling2D(pool_size=2)(x)\n",
    "x = layers.Conv2D(filters=128,kernel_size=3,activation='relu')(x)\n",
    "x = layers.Flatten()(x)\n",
    "outputs = layers.Dense(10,activation='softmax')(x)\n",
    "\n",
    "model = keras.Model(inputs = inputs,outputs=outputs)\n",
    "\n",
    "\n"
   ]
  },
  {
   "cell_type": "markdown",
   "metadata": {},
   "source": [
    "Importantly, a convnet takes as input tensors of shape __(image_height, image_width,\n",
    "image_channels)__, not including the batch dimension. \n",
    "\n",
    "In this case, we’ll configure the\n",
    "convnet to process inputs of size __(28, 28, 1)__, which is the format of MNIST images."
   ]
  },
  {
   "cell_type": "markdown",
   "metadata": {},
   "source": [
    "Listing 8.2 Displaying the model’s summary"
   ]
  },
  {
   "cell_type": "code",
   "execution_count": 15,
   "metadata": {},
   "outputs": [
    {
     "name": "stdout",
     "output_type": "stream",
     "text": [
      "Model: \"model_1\"\n",
      "_________________________________________________________________\n",
      " Layer (type)                Output Shape              Param #   \n",
      "=================================================================\n",
      " input_2 (InputLayer)        [(None, 28, 28, 1)]       0         \n",
      "                                                                 \n",
      " conv2d_3 (Conv2D)           (None, 26, 26, 32)        320       \n",
      "                                                                 \n",
      " max_pooling2d_2 (MaxPooling  (None, 13, 13, 32)       0         \n",
      " 2D)                                                             \n",
      "                                                                 \n",
      " conv2d_4 (Conv2D)           (None, 11, 11, 64)        18496     \n",
      "                                                                 \n",
      " max_pooling2d_3 (MaxPooling  (None, 5, 5, 64)         0         \n",
      " 2D)                                                             \n",
      "                                                                 \n",
      " conv2d_5 (Conv2D)           (None, 3, 3, 128)         73856     \n",
      "                                                                 \n",
      " flatten_1 (Flatten)         (None, 1152)              0         \n",
      "                                                                 \n",
      " dense_1 (Dense)             (None, 10)                11530     \n",
      "                                                                 \n",
      "=================================================================\n",
      "Total params: 104,202\n",
      "Trainable params: 104,202\n",
      "Non-trainable params: 0\n",
      "_________________________________________________________________\n"
     ]
    }
   ],
   "source": [
    "model.summary()"
   ]
  },
  {
   "cell_type": "markdown",
   "metadata": {},
   "source": [
    "1. You can see that the output of every Conv2D and MaxPooling2D layer is a rank-3 tensor\n",
    "of shape (height, width, channels). The width and height dimensions tend to\n",
    "shrink as you go deeper in the model. The number of channels is controlled by the\n",
    "first argument passed to the Conv2D layers (32, 64, or 128).\n",
    "\n",
    "\n",
    "2. After the last Conv2D layer, we end up with an output of shape (3, 3, 128)—a 3 × 3\n",
    "feature map of 128 channels. The next step is to feed this output into a densely connected classifier like those you’re already familiar with: a stack of Dense layers. These\n",
    "classifiers process vectors, which are 1D, whereas the current output is a rank-3 tensor.\n",
    "\n",
    "\n",
    "3. To bridge the gap, we flatten the 3D outputs to 1D with a Flatten layer before adding\n",
    "the Dense layers.\n",
    " \n",
    " \n",
    "4. Finally, we do 10-way classification, so our last layer has 10 outputs and a softmax\n",
    "activation."
   ]
  },
  {
   "cell_type": "markdown",
   "metadata": {},
   "source": [
    "Now, let’s train the convnet on the MNIST digits. We’ll reuse a lot of the code from\n",
    " the MNIST example in chapter 2. \n",
    " \n",
    "Because we’re doing 10-way classification with a\n",
    " softmax output, we’ll use the categorical crossentropy loss, and because our labels are\n",
    " integers, we’ll use the sparse version, sparse_categorical_crossentropy."
   ]
  },
  {
   "cell_type": "markdown",
   "metadata": {},
   "source": [
    "Listing 8.3 Training the convnet on MNIST images"
   ]
  },
  {
   "cell_type": "code",
   "execution_count": 9,
   "metadata": {},
   "outputs": [],
   "source": [
    "from keras.datasets import mnist\n",
    "import numpy as np\n",
    "\n",
    "(train_images,train_labels),(test_images,test_labels) = mnist.load_data()\n",
    "train_images = train_images.reshape((60000,28,28,1))\n",
    "train_images = train_images.astype('float32')/255\n",
    "\n",
    "test_images = test_images.reshape((10000,28,28,1))\n",
    "test_images = test_images.astype('float32')/255\n",
    "\n"
   ]
  },
  {
   "cell_type": "code",
   "execution_count": 11,
   "metadata": {},
   "outputs": [
    {
     "name": "stdout",
     "output_type": "stream",
     "text": [
      "Epoch 1/5\n",
      "938/938 [==============================] - 13s 8ms/step - loss: 0.1518 - accuracy: 0.9530\n",
      "Epoch 2/5\n",
      "938/938 [==============================] - 7s 7ms/step - loss: 0.0431 - accuracy: 0.9866\n",
      "Epoch 3/5\n",
      "938/938 [==============================] - 7s 8ms/step - loss: 0.0296 - accuracy: 0.9910\n",
      "Epoch 4/5\n",
      "938/938 [==============================] - 8s 8ms/step - loss: 0.0226 - accuracy: 0.9930\n",
      "Epoch 5/5\n",
      "938/938 [==============================] - 8s 8ms/step - loss: 0.0173 - accuracy: 0.9949\n"
     ]
    },
    {
     "data": {
      "text/plain": [
       "<keras.callbacks.History at 0x17382379370>"
      ]
     },
     "execution_count": 11,
     "metadata": {},
     "output_type": "execute_result"
    }
   ],
   "source": [
    "model.compile(\n",
    "    optimizer = keras.optimizers.RMSprop(),\n",
    "    loss = keras.losses.SparseCategoricalCrossentropy(),\n",
    "    metrics = ['accuracy']\n",
    ")\n",
    "\n",
    "model.fit(train_images,train_labels,epochs=5,batch_size=64)"
   ]
  },
  {
   "cell_type": "markdown",
   "metadata": {},
   "source": [
    "Let's check the evaluation accuacy"
   ]
  },
  {
   "cell_type": "code",
   "execution_count": 12,
   "metadata": {},
   "outputs": [
    {
     "name": "stdout",
     "output_type": "stream",
     "text": [
      "313/313 [==============================] - 2s 6ms/step - loss: 0.0258 - accuracy: 0.9916\n",
      "Test Accuracy: 0.991599977016449\n"
     ]
    }
   ],
   "source": [
    "test_loss, test_acc = model.evaluate(test_images,test_labels)\n",
    "print(\"Test Accuracy: {}\".format(test_acc))"
   ]
  },
  {
   "cell_type": "markdown",
   "metadata": {},
   "source": [
    "### 8.1.1 The convolution operation"
   ]
  },
  {
   "cell_type": "markdown",
   "metadata": {},
   "source": [
    "The Foundamental difference between a __densely connected layer__ and a __convolution layer__:\n",
    "\n",
    "__Dense layers__ learn __global patterns__ in their input feature space (for exam ple, for a MNIST digit, patterns involving all pixels), \n",
    "\n",
    "whereas __convolution layers__ learn\n",
    " __local patterns__—in the case of images, patterns found in small 2D windows of the\n",
    " inputs, in previous example, this window has size of 3x3"
   ]
  },
  {
   "cell_type": "markdown",
   "metadata": {},
   "source": [
    "This Key characteristic gives convnets TWO interesting properties:\n",
    "\n",
    "1. The patterns they learn are ${translation-invariant}$. \n",
    "\n",
    "After learning a certain pattern in\n",
    "the lower-right corner of a picture, a convnet can recognize it anywhere: for\n",
    "example, in the upper-left corner. A densely connected model would have to\n",
    "learn the pattern anew if it appeared at a new location. \n",
    "\n",
    "This makes convnets data-efficient when processing images (because the visual world is fundamentally\n",
    "translation-invariant): they need fewer training samples to learn representations\n",
    "that have generalization power.\n",
    "\n",
    "2. They can learn ${spatial}$ ${hierarchies}$ ${of}$ ${patterns}$. \n",
    "\n",
    "A first convolution layer will learn\n",
    "small local patterns such as edges, a second convolution layer will learn larger\n",
    "patterns made of the features of the first layers, and so on\n",
    "\n",
    "This allows convnets to efficiently learn increasingly complex and abstract visual concepts, because the visual world is fundamentally spatially hierarchical"
   ]
  },
  {
   "cell_type": "markdown",
   "metadata": {},
   "source": [
    "Convolutions operate over rank-3 tensors called ${feature}$ ${maps}$: \n",
    "\n",
    "With two $spatial$ $axes$\n",
    "(height and width) as well as a $depth$ $axis$ (also called the channels axis). \n",
    "\n",
    "+ For an RGB image, the dimension of the depth axis is 3, because the image has three color channels: red, green, and blue. \n",
    "\n",
    "+ For a black-and-white picture, like the MNIST digits, the\n",
    "depth is 1 (levels of gray)."
   ]
  },
  {
   "cell_type": "markdown",
   "metadata": {},
   "source": [
    "The convolution operation extracts patches from its $input$\n",
    "$feature$ $map$ and applies the same transformation to all of these patches, producing\n",
    "an $output$ $feature$ $map$."
   ]
  },
  {
   "cell_type": "markdown",
   "metadata": {},
   "source": [
    "$output$ $feature$ $map$:\n",
    "\n",
    "+ Has  $spatial$ $axes$ size maybe not same as input\n",
    "\n",
    "+ Its $depth$ can be __arbitrary__, because the output depth is a parameter of the\n",
    "    layer, and the different channels in that __depth axis__  __no longer__ stand for specific __colors__\n",
    "    as in RGB input; rather, they stand for __filters__."
   ]
  },
  {
   "cell_type": "markdown",
   "metadata": {},
   "source": [
    "__Filters__ encode specific aspects of the\n",
    " input data: at a high level, a single filter could encode the concept “presence of a face\n",
    " in the input,"
   ]
  },
  {
   "cell_type": "markdown",
   "metadata": {},
   "source": [
    "In the MNIST example, the first convolution layer takes a feature map of size __(28,\n",
    "28, 1)__ and __outputs__ a feature map of size __(26, 26, 32)__: it computes __32 filters__ over its\n",
    "input. \n",
    "\n",
    "__Each__ of these 32 output channels __contains a 26 × 26 grid of values__, which is a\n",
    "__response map of the filter over the input__, indicating the response of that filter pattern at\n",
    "different locations in the input"
   ]
  },
  {
   "cell_type": "markdown",
   "metadata": {},
   "source": [
    "That is what the term $feature$ $map$ means: \n",
    "\n",
    "Every dimension in the __depth axis__ is a __feature\n",
    "(or filter)__ , and the $nth$ __rank-2 tensor output__ $[:, :, n]$ is the __2D spatial map__ of the response\n",
    "of this filter over the input."
   ]
  },
  {
   "cell_type": "markdown",
   "metadata": {},
   "source": [
    " Convolutions are defined by two key parameters:\n",
    "+ $Size$ $of$ $the$ $patches$ $extracted$ $from$ $the$ $inputs$— These are typically 3 × 3 or 5 × 5. In the\n",
    "example, they were 3 × 3, which is a common choice.\n",
    "\n",
    "+ $Depth$ $of$ $the$ $output$ $feature$ $map$— This is the number of filters computed by the convolution. The example started with a depth of 32 and ended with a depth of 64."
   ]
  },
  {
   "cell_type": "markdown",
   "metadata": {},
   "source": [
    "In Keras Conv2D layers, these parameters are the first arguments passed to the layer:\n",
    "\n",
    "\n",
    "__Conv2D(output_depth, (window_height, window_width))__"
   ]
  },
  {
   "cell_type": "markdown",
   "metadata": {},
   "source": [
    "A convolution works by _sliding_ these windows of size 3 × 3 or 5 × 5 over the 3D\n",
    " input feature map, stopping at every possible location, and extracting the 3D patch o \n",
    " surrounding features __(shape (window_height, window_width, input_depth))__"
   ]
  },
  {
   "cell_type": "markdown",
   "metadata": {},
   "source": [
    "Each such 3D patch is then transformed into a __1D vector__ of __shape (output_depth,)__ , which is\n",
    "done via a tensor product with a learned weight matrix\n",
    "\n",
    "It is called the $convolution$ $kernel$ —\n",
    "the same kernel is reused across every patch.\n",
    "\n",
    "All of these vectors (one per patch) are\n",
    " then __spatially__ reassembled into a __3D__ output map of shape = ___(height, width, output_\n",
    " depth)__"
   ]
  },
  {
   "cell_type": "markdown",
   "metadata": {},
   "source": [
    "Every spatial location in the output feature map corresponds to the same\n",
    " location in the input feature map"
   ]
  },
  {
   "cell_type": "markdown",
   "metadata": {},
   "source": [
    "Note that the output width and height may differ from the input width and height for\n",
    "two reasons:\n",
    "\n",
    "1.  __Border effects__, which can be countered by __padding__ the input feature map\n",
    "\n",
    "2.  The use of strides, which I’ll define in a second"
   ]
  },
  {
   "cell_type": "markdown",
   "metadata": {},
   "source": [
    "#### Understand Border effect and padding"
   ]
  },
  {
   "cell_type": "markdown",
   "metadata": {},
   "source": [
    "Consider a 5 × 5 feature map (25 tiles total). There are only 9 tiles around which you\n",
    "can center a 3 × 3 window, forming a 3 × 3 grid. \n",
    "\n",
    "\n",
    "Hence, the output feature map will be 3 × 3. It shrinks a little: by exactly two tiles alongside each dimension,\n",
    "in this case. \n",
    "\n",
    "You can see this border effect in action in the earlier example: you start\n",
    "with 28 × 28 inputs, which become 26 × 26 after the first convolution layer"
   ]
  },
  {
   "cell_type": "markdown",
   "metadata": {},
   "source": [
    "If you want to get an output feature map with the same spatial dimensions as the\n",
    " input, you can use $padding$:  \n",
    " \n",
    " $Padding$ consists of __adding an appropriate number of rows and columns on each side of the input feature map__ so as to make it possible to fit center convolution windows around every input tile."
   ]
  },
  {
   "cell_type": "markdown",
   "metadata": {},
   "source": [
    "In __Conv2D()__ layers, padding is configurable via the padding argument, which takes two\n",
    " values: \n",
    " \n",
    " 1. __\"valid\"__, which means no padding (only valid window locations will be used),\n",
    " \n",
    " 2. __\"same\"__, which means “pad in such a way as to have an output with the same width\n",
    " and height as the input.” \n",
    " \n",
    " The padding argument defaults to \"valid\"."
   ]
  },
  {
   "cell_type": "markdown",
   "metadata": {},
   "source": [
    "#### Understanding Convolution Strides"
   ]
  },
  {
   "cell_type": "markdown",
   "metadata": {},
   "source": [
    "The other factor that can influence output size is the notion of __strides__. \n",
    "\n",
    "Our description  of convolution so far has assumed that the center tiles of the convolution windows are\n",
    " all contiguous.\n",
    "\n",
    "$stride$: __distance between two successive windows__ , default = 1"
   ]
  },
  {
   "cell_type": "markdown",
   "metadata": {},
   "source": [
    "$strided$ $convolutions$: convolutions with a $stride$ higher than 1"
   ]
  },
  {
   "cell_type": "markdown",
   "metadata": {},
   "source": [
    "Using $stride$= 2 means the $width$ and $height$ of the feature map are __downsampled__ by a\n",
    " __factor of 2__ (in addition to any changes induced by border effects). \n",
    " \n",
    "Strided convolutions are rarely used in classification models, but they come in handy for some types o \n",
    " models, as you will see in the next chapter"
   ]
  },
  {
   "cell_type": "markdown",
   "metadata": {},
   "source": [
    "### 8.1.2 The max-pooling operation"
   ]
  },
  {
   "cell_type": "markdown",
   "metadata": {},
   "source": [
    "The __role__ of max pooling: To aggressively __downsample__ feature maps, much like\n",
    " strided convolutions."
   ]
  },
  {
   "cell_type": "markdown",
   "metadata": {},
   "source": [
    "It’s conceptually similar to convolution,\n",
    " except that __instead of transforming local patches__ via a learned linear transformation (the convolution kernel), they’re __transformed via a hardcoded max tensor\n",
    " operation__."
   ]
  },
  {
   "cell_type": "markdown",
   "metadata": {},
   "source": [
    "A big difference from convolution is that \n",
    "\n",
    "+  max pooling is usually done\n",
    " with __2 × 2__ windows and __stride 2__, in order to downsample the feature maps by a factor of 2. \n",
    " \n",
    "+  On the other hand, __convolution__ is typically done with __3 × 3__ windows and __no\n",
    " stride (stride 1)__"
   ]
  },
  {
   "cell_type": "markdown",
   "metadata": {},
   "source": [
    "Why downsample feature maps this way? Why not remove the max-pooling layers\n",
    "and keep fairly large feature maps all the way up? Let’s look at this option. Our model\n",
    "would then look like the following listing."
   ]
  },
  {
   "cell_type": "markdown",
   "metadata": {},
   "source": [
    "Listing 8.5 An incorrectly structured convnet missing its max-pooling layers"
   ]
  },
  {
   "cell_type": "code",
   "execution_count": 13,
   "metadata": {},
   "outputs": [],
   "source": [
    "inputs = keras.Input(shape=(28,28,1))\n",
    "\n",
    "x = layers.Conv2D(filters=32,kernel_size=3,activation='relu')(inputs)\n",
    "x = layers.Conv2D(filters=64,kernel_size=3,activation='relu')(x)\n",
    "x = layers.Conv2D(filters=128,kernel_size=3,activation='relu')(x)\n",
    "x = layers.Flatten()(x)\n",
    "\n",
    "outputs = layers.Dense(10,activation='softmax')(x)\n",
    "\n",
    "model_no_max_pool = keras.Model(inputs,outputs)"
   ]
  },
  {
   "cell_type": "code",
   "execution_count": 14,
   "metadata": {},
   "outputs": [
    {
     "name": "stdout",
     "output_type": "stream",
     "text": [
      "Model: \"model_2\"\n",
      "_________________________________________________________________\n",
      " Layer (type)                Output Shape              Param #   \n",
      "=================================================================\n",
      " input_3 (InputLayer)        [(None, 28, 28, 1)]       0         \n",
      "                                                                 \n",
      " conv2d_6 (Conv2D)           (None, 26, 26, 32)        320       \n",
      "                                                                 \n",
      " conv2d_7 (Conv2D)           (None, 24, 24, 64)        18496     \n",
      "                                                                 \n",
      " conv2d_8 (Conv2D)           (None, 22, 22, 128)       73856     \n",
      "                                                                 \n",
      " flatten_2 (Flatten)         (None, 61952)             0         \n",
      "                                                                 \n",
      " dense_2 (Dense)             (None, 10)                619530    \n",
      "                                                                 \n",
      "=================================================================\n",
      "Total params: 712,202\n",
      "Trainable params: 712,202\n",
      "Non-trainable params: 0\n",
      "_________________________________________________________________\n"
     ]
    }
   ],
   "source": [
    "model_no_max_pool.summary()"
   ]
  },
  {
   "cell_type": "markdown",
   "metadata": {},
   "source": [
    "There is __TWO__ problems"
   ]
  },
  {
   "cell_type": "markdown",
   "metadata": {},
   "source": [
    "1. It isn’t conducive to learning a spatial hierarchy of features. The __3 × 3__ windows\n",
    "in the __third layer__ will only contain information coming from __7 × 7__ windows in\n",
    "the __initial input__. \n",
    "The high-level patterns learned by the convnet will still be very\n",
    "small with regard to the initial input, which may __not be enough__ to learn to classify digits (try recognizing a digit by only looking at it through windows that are\n",
    "7 × 7 pixels!). We need the features from the last convolution layer to contain\n",
    "information about the totality of the input.\n",
    "\n",
    "\n",
    "2. The final feature map has 22 × 22 × 128 = __61,952 total coefficients per sample__.\n",
    "This is huge. When you flatten it to stick a Dense layer of size 10 on top, that\n",
    "layer would have over half a million parameters. __This is far too large for such a\n",
    "small model and would result in intense overfitting__"
   ]
  },
  {
   "cell_type": "markdown",
   "metadata": {},
   "source": [
    "The Reason of using downsampling :\n",
    "\n",
    "1. __Reduce__ the number of feature-map coefficients to process\n",
    "\n",
    "2. __Induce__ spatial-filter hierarchies by making successive convolution layers look at increasingly large windows"
   ]
  },
  {
   "cell_type": "markdown",
   "metadata": {},
   "source": [
    "Alternative : \n",
    "\n",
    "1. Use strides in the prior convolution layer. \n",
    "\n",
    "2. Use average pooling instead of max pooling, where each local input patch is transformed by taking the average value of each channel over the patch\n",
    "\n"
   ]
  },
  {
   "cell_type": "markdown",
   "metadata": {},
   "source": [
    "__Max pooling__ tends to work __better__ than these alternative solutions. \n",
    "\n",
    "The reason is that :\n",
    "\n",
    "1. Features tend to encode the spatial presence of some pattern or concept\n",
    " over the different tiles of the feature map.\n",
    "\n",
    "2. it’s more\n",
    " informative to look at the maximal presence of different features than at their average\n",
    " presence."
   ]
  },
  {
   "cell_type": "markdown",
   "metadata": {},
   "source": [
    "The __most reasonable subsampling strategy__ \n",
    "\n",
    "1. Produce dense maps of features (via unstrided convolutions)  \n",
    "\n",
    "2. Look at the maximal activation of the features over small patches"
   ]
  },
  {
   "cell_type": "markdown",
   "metadata": {},
   "source": [
    " ## 8.2 Training a convnet from scratch on a small dataset"
   ]
  },
  {
   "cell_type": "markdown",
   "metadata": {},
   "source": [
    "In this section, we’ll review one basic strategy to tackle this problem: training a new\n",
    "model from scratch using what little data you have."
   ]
  },
  {
   "cell_type": "markdown",
   "metadata": {},
   "source": [
    "### 8.2.1 The relevance of deep learning for small-data problems"
   ]
  },
  {
   "cell_type": "markdown",
   "metadata": {},
   "source": [
    "What qualifies as “enough samples” to train a model is relative—relative to the size\n",
    " and depth of the model you’re trying to train, for starters.\n",
    "\n",
    " Because convnets learn local, translation-invariant features, they’re highly data-efficient\n",
    " on perceptual problems\n",
    "\n",
    " What’s more, deep learning models are by nature highly repurposable: you can\n",
    " take, say, an image-classification or speech-to-text model trained on a large-scale dataset and reuse it on a significantly different problem with only minor changes."
   ]
  },
  {
   "cell_type": "markdown",
   "metadata": {},
   "source": [
    "### 8.2.2 Downloading the data"
   ]
  },
  {
   "cell_type": "markdown",
   "metadata": {},
   "source": [
    "The Dogs vs. Cats dataset that we will use isn’t packaged with Keras. It was made available by Kaggle as part of a computer vision competition in late 2013, back when convnets weren’t mainstream."
   ]
  },
  {
   "cell_type": "markdown",
   "metadata": {},
   "source": [
    "You can download the original dataset from www.kaggle\n",
    ".com/c/dogs-vs-cats/data"
   ]
  },
  {
   "cell_type": "markdown",
   "metadata": {},
   "source": [
    "Listing 8.6 Copying images to training, validation, and test directories"
   ]
  },
  {
   "cell_type": "code",
   "execution_count": 76,
   "metadata": {},
   "outputs": [],
   "source": [
    "import os, shutil,pathlib\n",
    "\n",
    "original_dir = pathlib.Path(\"E:\\\\Deep Learning with Python\\\\Datas\\\\train\\\\\")\n",
    "new_base_dir = pathlib.Path(\"E:\\\\Python-Machine-Learning\\\\Deep_Learning_With_python\\\\cats_vs_dogs_small\\\\\")\n",
    "\n",
    "def make_subset(subset_name,start_index,end_index):\n",
    "    for category in (\"cat\",'dog'):\n",
    "        dir = new_base_dir / subset_name / category\n",
    "        os.makedirs(dir)\n",
    "        fnames = [ f\"{category}.{i}.jpg\"\n",
    "                       for i in range(start_index,end_index)  ]\n",
    "        for fname in fnames:\n",
    "            shutil.copyfile(src=original_dir/fname,dst=dir/fname)\n"
   ]
  },
  {
   "cell_type": "code",
   "execution_count": 78,
   "metadata": {},
   "outputs": [],
   "source": [
    "# make_subset(\"train\",start_index=0,end_index=1000)\n",
    "# make_subset(\"validation\",start_index=1000,end_index=1500)\n",
    "# # make_subset(\"test\",start_index=1500,end_index=2500)"
   ]
  },
  {
   "cell_type": "markdown",
   "metadata": {},
   "source": [
    "We now have 2,000 training images, 1,000 validation images, and 2,000 test images.\n",
    "Each split contains the same number of samples from each class: this is a balanced\n",
    "binary-classification problem, which means classification accuracy will be an appropriate measure of success."
   ]
  },
  {
   "cell_type": "markdown",
   "metadata": {},
   "source": [
    "### 8.2.3 Building the model"
   ]
  },
  {
   "cell_type": "markdown",
   "metadata": {},
   "source": [
    "Main difference:\n",
    "\n",
    "+  Two more Conv2D and MaxPooling2D\n",
    "stages. This serves both to augment the capacity of the model and to further reduce the\n",
    "size of the feature maps so they aren’t overly large when we reach the Flatten layer.\n",
    "\n",
    "+  End the model with a\n",
    "single unit (a Dense layer of size 1) and a sigmoid activation\n",
    "\n",
    "+  One last small difference: we will start the model with a Rescaling layer, which will\n",
    "rescale image inputs (whose values are originally in the [0, 255] range) to the [0, 1] range."
   ]
  },
  {
   "cell_type": "markdown",
   "metadata": {},
   "source": [
    "NOTE : The depth of the feature maps progressively increases in the model\n",
    " (from 32 to 256), whereas the size of the feature maps decreases (from 180 ×\n",
    " 180 to 7 × 7). This is a pattern you’ll see in almost all convnets."
   ]
  },
  {
   "cell_type": "markdown",
   "metadata": {},
   "source": [
    "Listing 8.7 Instantiating a small convnet for dogs vs. cats classification"
   ]
  },
  {
   "cell_type": "code",
   "execution_count": 18,
   "metadata": {},
   "outputs": [],
   "source": [
    "from tensorflow import keras\n",
    "from keras import layers\n",
    "\n",
    "inputs = keras.Input(shape=(180,180,3))\n",
    "\n",
    "x = layers.Rescaling(1./255)(inputs)\n",
    "\n",
    "x = layers.Conv2D(filters=32,kernel_size=3,activation='relu')(x)\n",
    "x = layers.MaxPooling2D(pool_size=2)(x)\n",
    "\n",
    "x = layers.Conv2D(filters=64,kernel_size=3,activation='relu')(x)\n",
    "x = layers.MaxPooling2D(pool_size=2)(x)\n",
    "\n",
    "x = layers.Conv2D(filters=128,kernel_size=3,activation='relu')(x)\n",
    "x = layers.MaxPooling2D(pool_size=2)(x)\n",
    "\n",
    "x = layers.Conv2D(filters=256,kernel_size=3,activation='relu')(x)\n",
    "x = layers.MaxPooling2D(pool_size=2)(x)\n",
    "\n",
    "x = layers.Conv2D(filters=256,kernel_size=3,activation='relu')(x)\n",
    "x = layers.Flatten()(x)\n",
    "\n",
    "outputs = layers.Dense(1,activation='sigmoid')(x)\n",
    "\n",
    "model = keras.Model(inputs,outputs)"
   ]
  },
  {
   "cell_type": "code",
   "execution_count": 19,
   "metadata": {},
   "outputs": [
    {
     "name": "stdout",
     "output_type": "stream",
     "text": [
      "Model: \"model_3\"\n",
      "_________________________________________________________________\n",
      " Layer (type)                Output Shape              Param #   \n",
      "=================================================================\n",
      " input_4 (InputLayer)        [(None, 180, 180, 3)]     0         \n",
      "                                                                 \n",
      " rescaling (Rescaling)       (None, 180, 180, 3)       0         \n",
      "                                                                 \n",
      " conv2d_9 (Conv2D)           (None, 178, 178, 32)      896       \n",
      "                                                                 \n",
      " max_pooling2d_4 (MaxPooling  (None, 89, 89, 32)       0         \n",
      " 2D)                                                             \n",
      "                                                                 \n",
      " conv2d_10 (Conv2D)          (None, 87, 87, 64)        18496     \n",
      "                                                                 \n",
      " max_pooling2d_5 (MaxPooling  (None, 43, 43, 64)       0         \n",
      " 2D)                                                             \n",
      "                                                                 \n",
      " conv2d_11 (Conv2D)          (None, 41, 41, 128)       73856     \n",
      "                                                                 \n",
      " max_pooling2d_6 (MaxPooling  (None, 20, 20, 128)      0         \n",
      " 2D)                                                             \n",
      "                                                                 \n",
      " conv2d_12 (Conv2D)          (None, 18, 18, 256)       295168    \n",
      "                                                                 \n",
      " max_pooling2d_7 (MaxPooling  (None, 9, 9, 256)        0         \n",
      " 2D)                                                             \n",
      "                                                                 \n",
      " conv2d_13 (Conv2D)          (None, 7, 7, 32)          73760     \n",
      "                                                                 \n",
      " flatten_3 (Flatten)         (None, 1568)              0         \n",
      "                                                                 \n",
      " dense_3 (Dense)             (None, 1)                 1569      \n",
      "                                                                 \n",
      "=================================================================\n",
      "Total params: 463,745\n",
      "Trainable params: 463,745\n",
      "Non-trainable params: 0\n",
      "_________________________________________________________________\n"
     ]
    }
   ],
   "source": [
    "model.summary()"
   ]
  },
  {
   "cell_type": "code",
   "execution_count": 20,
   "metadata": {},
   "outputs": [
    {
     "data": {
      "image/png": "[encoded data removed]",
      "text/plain": [
       "<IPython.core.display.Image object>"
      ]
     },
     "execution_count": 20,
     "metadata": {},
     "output_type": "execute_result"
    }
   ],
   "source": [
    "keras.utils.plot_model(model,'CNN.png')"
   ]
  },
  {
   "cell_type": "markdown",
   "metadata": {},
   "source": [
    "Listing 8.8 Configuring the model for training"
   ]
  },
  {
   "cell_type": "code",
   "execution_count": 21,
   "metadata": {},
   "outputs": [],
   "source": [
    "model.compile(\n",
    "            optimizer = keras.optimizers.RMSprop(),\n",
    "            loss = keras.losses.BinaryCrossentropy(),\n",
    "            metrics = ['accuracy']\n",
    ")"
   ]
  },
  {
   "cell_type": "markdown",
   "metadata": {},
   "source": [
    "### 8.2.4 Data Preprocessing"
   ]
  },
  {
   "cell_type": "markdown",
   "metadata": {},
   "source": [
    "Currently, the data sits on a drive as\n",
    " JPEG files, so the steps for getting it into the model are roughly as follows:\n",
    "1.  Read the picture files.\n",
    " \n",
    "2. Decode the JPEG content to RGB grids of pixels.\n",
    "\n",
    "3. Convert these into floating-point tensors.\n",
    "\n",
    "4. Resize them to a shared size (we’ll use 180 × 180).\n",
    "\n",
    "5. Pack them into batches (we’ll use batches of 32 images)."
   ]
  },
  {
   "cell_type": "markdown",
   "metadata": {},
   "source": [
    "In particular, Keras features the utility function \n",
    "__image_dataset_from_directory()__, which lets you quickly set up a data pipeline that can automatically turn\n",
    "image files on disk into batches of preprocessed tensors. This is what we’ll use here"
   ]
  },
  {
   "cell_type": "markdown",
   "metadata": {},
   "source": [
    "Calling __image_dataset_from_directory(directory)__ \n",
    "\n",
    "1. list the subdirectories of directory and assume each one contains images from one of our classes.\n",
    "\n",
    "2. Index the image files in each subdirectory\n",
    "\n",
    "3. Finally it will create and return a\n",
    " __tf.data.Dataset__ object configured to read these files, shuffle them, decode them to\n",
    " tensors, resize them to a shared size, and pack them into batches."
   ]
  },
  {
   "cell_type": "markdown",
   "metadata": {},
   "source": [
    "Listing 8.9 Using image_dataset_from_directory to read images"
   ]
  },
  {
   "cell_type": "code",
   "execution_count": 22,
   "metadata": {},
   "outputs": [
    {
     "name": "stdout",
     "output_type": "stream",
     "text": [
      "Found 2000 files belonging to 2 classes.\n",
      "Found 2000 files belonging to 2 classes.\n",
      "Found 1000 files belonging to 2 classes.\n"
     ]
    }
   ],
   "source": [
    "from keras.utils import image_dataset_from_directory\n",
    "\n",
    "train_dataset = image_dataset_from_directory(new_base_dir/'train',\n",
    "                                            image_size=(180,180),\n",
    "                                            batch_size=32)\n",
    "\n",
    "\n",
    "test_dataset = image_dataset_from_directory(new_base_dir/'test',\n",
    "                                            image_size=(180,180),\n",
    "                                            batch_size=32)\n",
    "\n",
    "\n",
    "validation_dataset = image_dataset_from_directory(new_base_dir/'validation',\n",
    "                                                image_size=(180,180),\n",
    "                                                batch_size=32)"
   ]
  },
  {
   "cell_type": "markdown",
   "metadata": {},
   "source": [
    "#### Understanding Tensorflow Dataset objects "
   ]
  },
  {
   "cell_type": "markdown",
   "metadata": {},
   "source": [
    "+  A Dataset object is an iterator: you can use it in a for loop. It will typically return\n",
    "batches of input data and labels. You can pass a Dataset object directly to the fit()\n",
    "method of a Keras model.\n",
    "\n",
    "+  Asynchronous data prefetching (preprocessing\n",
    " the next batch of data while the previous one is being handled by the model, which\n",
    " keeps execution flowing without interruptions)\n",
    "\n",
    "+  The Dataset class also exposes a functional-style API for modifying datasets."
   ]
  },
  {
   "cell_type": "markdown",
   "metadata": {},
   "source": [
    "Here is a quick example"
   ]
  },
  {
   "cell_type": "code",
   "execution_count": 23,
   "metadata": {},
   "outputs": [],
   "source": [
    "import tensorflow as tf\n",
    "random_numbers = np.random.normal(size=(1000,16))\n",
    "dataset  = tf.data.Dataset.from_tensor_slices(random_numbers)\n"
   ]
  },
  {
   "cell_type": "code",
   "execution_count": 25,
   "metadata": {},
   "outputs": [
    {
     "name": "stdout",
     "output_type": "stream",
     "text": [
      "(16,)\n",
      "(16,)\n",
      "(16,)\n"
     ]
    }
   ],
   "source": [
    "for i, element in enumerate(dataset):\n",
    "    print(element.shape)\n",
    "    if i >=2 : \n",
    "        break"
   ]
  },
  {
   "cell_type": "markdown",
   "metadata": {},
   "source": [
    "We can use __.batch()__ to batch the data"
   ]
  },
  {
   "cell_type": "code",
   "execution_count": 26,
   "metadata": {},
   "outputs": [
    {
     "name": "stdout",
     "output_type": "stream",
     "text": [
      "(32, 16)\n",
      "(32, 16)\n",
      "(32, 16)\n"
     ]
    }
   ],
   "source": [
    "batched_dataset = dataset.batch(32)\n",
    "\n",
    "for i, element in enumerate(batched_dataset):\n",
    "    print(element.shape)\n",
    "    if i >=2 : \n",
    "        break"
   ]
  },
  {
   "cell_type": "markdown",
   "metadata": {},
   "source": [
    "More broadly, we have access to a range of useful dataset methods, such as:\n",
    "\n",
    "\n",
    "1 __.shuffle(buffer_size)__—Shuffles elements within a buffer\n",
    "\n",
    "\n",
    "2 __.prefetch(buffer_size)__—Prefetches a buffer of elements in GPU memory\n",
    " to achieve better device utilization.\n",
    "\n",
    "\n",
    "3 __.map(callable)__—Applies an arbitrary transformation to each element of the\n",
    " dataset (the function callable, which expects to take as input a single ele\u0002 ment yielded by the dataset)"
   ]
  },
  {
   "cell_type": "markdown",
   "metadata": {},
   "source": [
    "Among them the __.map()__ is the one that you will see often, Which is always combined with __lambda__"
   ]
  },
  {
   "cell_type": "code",
   "execution_count": 27,
   "metadata": {},
   "outputs": [
    {
     "name": "stdout",
     "output_type": "stream",
     "text": [
      "(4, 4)\n",
      "(4, 4)\n",
      "(4, 4)\n"
     ]
    }
   ],
   "source": [
    "reshaped_dataset = dataset.map(lambda x : tf.reshape(x,(4,4)))\n",
    "\n",
    "\n",
    "for i, element in enumerate(reshaped_dataset):\n",
    "    print(element.shape)\n",
    "    if i >=2 : \n",
    "        break"
   ]
  },
  {
   "cell_type": "markdown",
   "metadata": {},
   "source": [
    "Let’s look at the output of one of these Dataset objects: it yields batches of 180 × 180\n",
    "RGB images __(shape (32, 180, 180, 3))__ and integer labels __(shape (32,))__. There are\n",
    "32 samples in each batch (the batch size)."
   ]
  },
  {
   "cell_type": "markdown",
   "metadata": {},
   "source": [
    "Listing 8.10 Displaying the shapes of the data and labels yielded by the Dataset"
   ]
  },
  {
   "cell_type": "code",
   "execution_count": 29,
   "metadata": {},
   "outputs": [
    {
     "name": "stdout",
     "output_type": "stream",
     "text": [
      "The data batch size = (32, 180, 180, 3)\n",
      "The label batch size = (32,)\n"
     ]
    }
   ],
   "source": [
    "\n",
    "for data_batch, label_batch in train_dataset:\n",
    "    print(\"The data batch size = {}\".format(data_batch.shape))\n",
    "    print(\"The label batch size = {}\".format(label_batch.shape))\n",
    "    break"
   ]
  },
  {
   "cell_type": "markdown",
   "metadata": {},
   "source": [
    "Note that we’ll also use a ModelCheckpoint callback to save the model after each\n",
    " epoch.\n",
    "\n",
    "__save_best_only=True__ and __monitor=\"val_loss\"__\n",
    "\n",
    "This guarantees\n",
    " that your saved file will always contain the state of the model corresponding to its best performing training epoch, in terms of its performance on the validation data. \n",
    " \n",
    " As a\n",
    " result, we won’t have to retrain a new model for a lower number of epochs if we start\n",
    " overfitting: we can just reload our saved file.\n",
    "\n"
   ]
  },
  {
   "cell_type": "markdown",
   "metadata": {},
   "source": [
    "Listing 8.11 Fitting the model using a Dataset"
   ]
  },
  {
   "cell_type": "code",
   "execution_count": 79,
   "metadata": {},
   "outputs": [],
   "source": [
    "callbacks = [\n",
    "        keras.callbacks.ModelCheckpoint(\n",
    "            filepath = \"E:\\\\Python-Machine-Learning\\\\Deep_Learning_With_python\\\\Model_8_2\\\\convert_from_scratch.keras\",\n",
    "            save_best_only= True,\n",
    "            monitor = 'val_loss'\n",
    "        )\n",
    "]"
   ]
  },
  {
   "cell_type": "code",
   "execution_count": 80,
   "metadata": {},
   "outputs": [
    {
     "name": "stdout",
     "output_type": "stream",
     "text": [
      "Epoch 1/30\n",
      "63/63 [==============================] - 4s 66ms/step - loss: 0.0909 - accuracy: 0.9915 - val_loss: 5.8455 - val_accuracy: 0.7440\n",
      "Epoch 2/30\n",
      "63/63 [==============================] - 4s 68ms/step - loss: 0.0657 - accuracy: 0.9900 - val_loss: 5.4401 - val_accuracy: 0.7650\n",
      "Epoch 3/30\n",
      "63/63 [==============================] - 4s 70ms/step - loss: 0.0736 - accuracy: 0.9905 - val_loss: 5.3393 - val_accuracy: 0.7570\n",
      "Epoch 4/30\n",
      "63/63 [==============================] - 4s 67ms/step - loss: 0.1057 - accuracy: 0.9840 - val_loss: 5.6907 - val_accuracy: 0.7250\n",
      "Epoch 5/30\n",
      "63/63 [==============================] - 4s 66ms/step - loss: 0.0324 - accuracy: 0.9945 - val_loss: 6.5997 - val_accuracy: 0.7500\n",
      "Epoch 6/30\n",
      "63/63 [==============================] - 4s 66ms/step - loss: 0.0942 - accuracy: 0.9885 - val_loss: 6.5453 - val_accuracy: 0.7450\n",
      "Epoch 7/30\n",
      "63/63 [==============================] - 4s 67ms/step - loss: 0.0550 - accuracy: 0.9910 - val_loss: 7.7007 - val_accuracy: 0.7330\n",
      "Epoch 8/30\n",
      "63/63 [==============================] - 4s 66ms/step - loss: 0.0641 - accuracy: 0.9915 - val_loss: 5.8255 - val_accuracy: 0.7590\n",
      "Epoch 9/30\n",
      "63/63 [==============================] - 4s 69ms/step - loss: 0.0531 - accuracy: 0.9935 - val_loss: 6.6544 - val_accuracy: 0.7540\n",
      "Epoch 10/30\n",
      "63/63 [==============================] - 4s 68ms/step - loss: 0.0478 - accuracy: 0.9900 - val_loss: 8.4134 - val_accuracy: 0.7250\n",
      "Epoch 11/30\n",
      "63/63 [==============================] - 4s 69ms/step - loss: 0.1322 - accuracy: 0.9870 - val_loss: 6.1443 - val_accuracy: 0.7560\n",
      "Epoch 12/30\n",
      "63/63 [==============================] - 4s 65ms/step - loss: 0.0319 - accuracy: 0.9950 - val_loss: 6.8280 - val_accuracy: 0.7670\n",
      "Epoch 13/30\n",
      "63/63 [==============================] - 4s 67ms/step - loss: 0.1282 - accuracy: 0.9865 - val_loss: 6.3192 - val_accuracy: 0.7660\n",
      "Epoch 14/30\n",
      "63/63 [==============================] - 4s 67ms/step - loss: 0.0309 - accuracy: 0.9945 - val_loss: 6.5087 - val_accuracy: 0.7840\n",
      "Epoch 15/30\n",
      "63/63 [==============================] - 4s 66ms/step - loss: 0.0483 - accuracy: 0.9940 - val_loss: 7.1914 - val_accuracy: 0.7650\n",
      "Epoch 16/30\n",
      "63/63 [==============================] - 4s 64ms/step - loss: 0.0629 - accuracy: 0.9900 - val_loss: 8.4537 - val_accuracy: 0.7570\n",
      "Epoch 17/30\n",
      "63/63 [==============================] - 4s 64ms/step - loss: 0.0374 - accuracy: 0.9930 - val_loss: 7.3553 - val_accuracy: 0.7700\n",
      "Epoch 18/30\n",
      "63/63 [==============================] - 4s 65ms/step - loss: 0.0907 - accuracy: 0.9910 - val_loss: 5.7958 - val_accuracy: 0.7730\n",
      "Epoch 19/30\n",
      "63/63 [==============================] - 4s 64ms/step - loss: 0.0330 - accuracy: 0.9945 - val_loss: 7.2131 - val_accuracy: 0.7630\n",
      "Epoch 20/30\n",
      "63/63 [==============================] - 4s 64ms/step - loss: 0.1375 - accuracy: 0.9900 - val_loss: 5.8727 - val_accuracy: 0.7710\n",
      "Epoch 21/30\n",
      "63/63 [==============================] - 4s 65ms/step - loss: 0.0481 - accuracy: 0.9935 - val_loss: 7.5166 - val_accuracy: 0.7480\n",
      "Epoch 22/30\n",
      "63/63 [==============================] - 4s 64ms/step - loss: 0.0226 - accuracy: 0.9965 - val_loss: 8.6423 - val_accuracy: 0.7490\n",
      "Epoch 23/30\n",
      "63/63 [==============================] - 4s 64ms/step - loss: 0.1022 - accuracy: 0.9895 - val_loss: 8.1033 - val_accuracy: 0.7730\n",
      "Epoch 24/30\n",
      "63/63 [==============================] - 4s 64ms/step - loss: 0.1053 - accuracy: 0.9910 - val_loss: 7.7052 - val_accuracy: 0.7600\n",
      "Epoch 25/30\n",
      "63/63 [==============================] - 4s 64ms/step - loss: 0.0331 - accuracy: 0.9950 - val_loss: 8.5509 - val_accuracy: 0.7470\n",
      "Epoch 26/30\n",
      "63/63 [==============================] - 4s 64ms/step - loss: 0.0570 - accuracy: 0.9910 - val_loss: 9.4543 - val_accuracy: 0.7340\n",
      "Epoch 27/30\n",
      "63/63 [==============================] - 4s 64ms/step - loss: 0.0706 - accuracy: 0.9925 - val_loss: 7.2091 - val_accuracy: 0.7560\n",
      "Epoch 28/30\n",
      "63/63 [==============================] - 4s 64ms/step - loss: 0.0485 - accuracy: 0.9930 - val_loss: 7.1446 - val_accuracy: 0.7570\n",
      "Epoch 29/30\n",
      "63/63 [==============================] - 4s 64ms/step - loss: 0.0801 - accuracy: 0.9930 - val_loss: 7.1292 - val_accuracy: 0.7580\n",
      "Epoch 30/30\n",
      "63/63 [==============================] - 4s 64ms/step - loss: 0.0753 - accuracy: 0.9950 - val_loss: 7.7398 - val_accuracy: 0.7780\n"
     ]
    }
   ],
   "source": [
    "history = model.fit(\n",
    "                train_dataset,\n",
    "                epochs = 30 ,\n",
    "                validation_data = (validation_dataset),\n",
    "                callbacks = callbacks\n",
    ")"
   ]
  },
  {
   "cell_type": "markdown",
   "metadata": {},
   "source": [
    "Listing 8.12 Displaying curves of loss and accuracy during training"
   ]
  },
  {
   "cell_type": "code",
   "execution_count": 81,
   "metadata": {},
   "outputs": [],
   "source": [
    "from matplotlib import pyplot as plt\n",
    "\n",
    "accuarcy = history.history['accuracy']\n",
    "loss = history.history['loss']\n",
    "\n",
    "val_accuarcy = history.history['val_accuracy']\n",
    "val_loss = history.history['val_loss']\n",
    "\n",
    "epochs = np.arange(1,len(loss)+1)\n",
    "\n"
   ]
  },
  {
   "cell_type": "code",
   "execution_count": 82,
   "metadata": {},
   "outputs": [
    {
     "data": {
      "image/png": "[encoded data removed]",
      "text/plain": [
       "<Figure size 432x288 with 1 Axes>"
      ]
     },
     "metadata": {
      "needs_background": "light"
     },
     "output_type": "display_data"
    }
   ],
   "source": [
    "plt.plot(epochs,accuarcy,'-or',lw=2.5,label = 'Traning Accuracy')\n",
    "plt.plot(epochs,val_accuarcy,'-ob',lw=2.5,label = 'Validation Accuracy')\n",
    "plt.legend()\n",
    "plt.xlabel(\"Epochs\")\n",
    "plt.ylabel('Accuracy')\n",
    "plt.show()"
   ]
  },
  {
   "cell_type": "code",
   "execution_count": 83,
   "metadata": {},
   "outputs": [
    {
     "data": {
      "image/png": "[encoded data removed]",
      "text/plain": [
       "<Figure size 432x288 with 1 Axes>"
      ]
     },
     "metadata": {
      "needs_background": "light"
     },
     "output_type": "display_data"
    }
   ],
   "source": [
    "plt.plot(epochs,loss,'-or',lw=2.5,label = 'Traning loss')\n",
    "plt.plot(epochs,val_loss,'-ob',lw=2.5,label = 'Validation loss')\n",
    "plt.legend()\n",
    "plt.xlabel(\"Epochs\")\n",
    "plt.ylabel('loss')\n",
    "plt.show()\n"
   ]
  },
  {
   "cell_type": "markdown",
   "metadata": {},
   "source": [
    "These plots are characteristic of overfitting. The training accuracy increases linearly\n",
    "over time, until it reaches nearly 100%, whereas the validation accuracy peaks at 75%.\n",
    "The validation loss reaches its minimum after only ten epochs and then stalls, whereas\n",
    "the training loss keeps decreasing linearly as training proceeds.\n",
    " \n",
    " \n",
    " Let’s check the test accuracy. We’ll reload the model from its saved file to evaluate\n",
    "it as it was before it started overfitting"
   ]
  },
  {
   "cell_type": "markdown",
   "metadata": {},
   "source": [
    "Listing 8.13 Evaluating the model on the test set"
   ]
  },
  {
   "cell_type": "code",
   "execution_count": 84,
   "metadata": {},
   "outputs": [],
   "source": [
    "test_model = keras.models.load_model(\"E:\\\\Python-Machine-Learning\\\\Deep_Learning_With_python\\\\Model_8_2\\\\convert_from_scratch.keras\")\n",
    "\n"
   ]
  },
  {
   "cell_type": "code",
   "execution_count": 85,
   "metadata": {},
   "outputs": [
    {
     "name": "stdout",
     "output_type": "stream",
     "text": [
      "63/63 [==============================] - 2s 27ms/step - loss: 5.1648 - accuracy: 0.7505\n",
      "Test accuracy = 0.7505\n"
     ]
    }
   ],
   "source": [
    "test_loss, test_acc  = test_model.evaluate(test_dataset)\n",
    "print(\"Test accuracy = {:.4f}\".format(test_acc))"
   ]
  },
  {
   "cell_type": "markdown",
   "metadata": {},
   "source": [
    "Because we have relatively few training samples (2,000), overfitting will be our\n",
    "number one concern. \n",
    "\n",
    "You already know about a number of techniques that can help\n",
    "mitigate overfitting, such as dropout and weight decay (L2 regularization). \n",
    "\n",
    "We’re now going to work with a new one, specific to computer vision and used almost universally\n",
    "when processing images with deep learning models: $data$ $augmentation$."
   ]
  },
  {
   "cell_type": "markdown",
   "metadata": {},
   "source": [
    "### 8.2.5 Using data Argumentation"
   ]
  },
  {
   "cell_type": "markdown",
   "metadata": {},
   "source": [
    "Data augmentation takes the approach of generating more training data\n",
    "from existing training samples by $augmenting$ the samples via a number of random\n",
    " transformations that yield believable-looking images\n",
    "\n",
    " The __goal__ is that, at training time,\n",
    " __your model will never see the exact same picture twice__."
   ]
  },
  {
   "cell_type": "markdown",
   "metadata": {},
   "source": [
    "In Keras, this can be done by adding a number of data augmentation layers at the\n",
    " start of your model"
   ]
  },
  {
   "cell_type": "markdown",
   "metadata": {},
   "source": [
    "Listing 8.14 Define a data augmentation stage to add to an image model"
   ]
  },
  {
   "cell_type": "code",
   "execution_count": 86,
   "metadata": {},
   "outputs": [],
   "source": [
    "data_argumentation = keras.Sequential([\n",
    "                layers.RandomFlip('horizontal'),\n",
    "                layers.RandomRotation(0.1),\n",
    "                layers.RandomZoom(0.2)\n",
    "])"
   ]
  },
  {
   "cell_type": "markdown",
   "metadata": {},
   "source": [
    "1. __RandomFlip(\"horizontal\")__—Applies horizontal flipping to a random 50% o \n",
    " the images that go through it\n",
    "\n",
    "\n",
    "2. __RandomRotation(0.1)__—Rotates the input images by a random value in the range\n",
    " [–10%, +10%] (these are fractions of a full circle—in degrees, the range would\n",
    " be [–36 degrees, +36 degrees])\n",
    "\n",
    "3. __RandomZoom(0.2)__—Zooms in or out of the image by a random factor in the\n",
    " range [-20%, +20%] "
   ]
  },
  {
   "cell_type": "markdown",
   "metadata": {},
   "source": [
    "Listing 8.15 Displaying some randomly augmented training images"
   ]
  },
  {
   "cell_type": "code",
   "execution_count": 87,
   "metadata": {},
   "outputs": [
    {
     "data": {
      "image/png": "[encoded data removed]",
      "text/plain": [
       "<Figure size 720x720 with 9 Axes>"
      ]
     },
     "metadata": {
      "needs_background": "light"
     },
     "output_type": "display_data"
    }
   ],
   "source": [
    "plt.figure(figsize=(10,10))\n",
    "for images, _ in train_dataset.take(1):\n",
    "    \n",
    "\n",
    "    for i in range(9):\n",
    "        argumed_images = data_argumentation(images)\n",
    "        ax = plt.subplot(3,3,i+1)\n",
    "        plt.imshow(argumed_images[0].numpy().astype('uint8'))\n",
    "        plt.axis('off')\n"
   ]
  },
  {
   "cell_type": "markdown",
   "metadata": {},
   "source": [
    "But the inputs it sees are still __heavily intercorrelated__\n",
    "\n",
    "because they come from a small number of original images—we can’t produce new\n",
    " information; we can only remix existing information.\n",
    "\n"
   ]
  },
  {
   "cell_type": "markdown",
   "metadata": {},
   "source": [
    " One last thing you should know about random image augmentation layers: just\n",
    "like __Dropout__, they’re inactive during __inference__ (when we call __predict()__ or __evaluate()__).\n",
    "\n",
    "\n",
    "During evaluation, our model will behave just the same as when it did not include\n",
    "data augmentation and dropout."
   ]
  },
  {
   "cell_type": "markdown",
   "metadata": {},
   "source": [
    "Listing 8.16 Defining a new convnet that includes image augmentation and dropout"
   ]
  },
  {
   "cell_type": "code",
   "execution_count": 92,
   "metadata": {},
   "outputs": [],
   "source": [
    "from tensorflow import keras\n",
    "from keras import layers\n",
    "\n",
    "inputs = keras.Input(shape=(180,180,3))\n",
    "\n",
    "### Adding data_argumentation\n",
    "inputs = data_argumentation(inputs)\n",
    "\n",
    "x = layers.Rescaling(1./255)(inputs)\n",
    "\n",
    "x = layers.Conv2D(filters=32,kernel_size=3,activation='relu')(x)\n",
    "x = layers.MaxPooling2D(pool_size=2)(x)\n",
    "\n",
    "x = layers.Conv2D(filters=64,kernel_size=3,activation='relu')(x)\n",
    "x = layers.MaxPooling2D(pool_size=2)(x)\n",
    "\n",
    "x = layers.Conv2D(filters=128,kernel_size=3,activation='relu')(x)\n",
    "x = layers.MaxPooling2D(pool_size=2)(x)\n",
    "\n",
    "x = layers.Conv2D(filters=256,kernel_size=3,activation='relu')(x)\n",
    "x = layers.MaxPooling2D(pool_size=2)(x)\n",
    "\n",
    "x = layers.Conv2D(filters=256,kernel_size=3,activation='relu')(x)\n",
    "x = layers.Flatten()(x)\n",
    "\n",
    "### Addition Dropout\n",
    "x = layers.Dropout(rate=0.5)(x)\n",
    "\n",
    "outputs = layers.Dense(1,activation='sigmoid')(x)\n",
    "\n",
    "model = keras.Model(inputs,outputs)\n",
    "\n",
    "\n",
    "model = keras.Model(inputs=inputs, outputs=outputs)\n",
    "model.compile(loss=\"binary_crossentropy\",\n",
    " optimizer=\"rmsprop\",\n",
    " metrics=[\"accuracy\"])"
   ]
  },
  {
   "cell_type": "markdown",
   "metadata": {},
   "source": [
    "Listing 8.17 Training the regularized convnet"
   ]
  },
  {
   "cell_type": "code",
   "execution_count": 93,
   "metadata": {},
   "outputs": [],
   "source": [
    "callbacks = [\n",
    "        keras.callbacks.ModelCheckpoint(\n",
    "            filepath = \"E:\\\\Python-Machine-Learning\\\\Deep_Learning_With_python\\\\Model_8_2\\\\convert_from_scratch_with_argumentation.keras\",\n",
    "            save_best_only= True,\n",
    "            monitor = 'val_loss'\n",
    "        )\n",
    "]"
   ]
  },
  {
   "cell_type": "code",
   "execution_count": 94,
   "metadata": {},
   "outputs": [],
   "source": [
    "history = model.fit(\n",
    "                train_dataset,\n",
    "                epochs = 100 ,\n",
    "                validation_data = (validation_dataset),\n",
    "                callbacks = callbacks,\n",
    "                verbose = 0\n",
    ")"
   ]
  },
  {
   "cell_type": "code",
   "execution_count": 69,
   "metadata": {},
   "outputs": [],
   "source": [
    "from matplotlib import pyplot as plt\n",
    "\n",
    "accuarcy = history.history['accuracy']\n",
    "loss = history.history['loss']\n",
    "\n",
    "val_accuarcy = history.history['val_accuracy']\n",
    "val_loss = history.history['val_loss']\n",
    "\n",
    "epochs = np.arange(1,len(loss)+1)"
   ]
  },
  {
   "cell_type": "code",
   "execution_count": 70,
   "metadata": {},
   "outputs": [
    {
     "data": {
      "image/png": "[encoded data removed]",
      "text/plain": [
       "<Figure size 432x288 with 1 Axes>"
      ]
     },
     "metadata": {
      "needs_background": "light"
     },
     "output_type": "display_data"
    }
   ],
   "source": [
    "plt.plot(epochs,accuarcy,'-or',lw=2.5,label = 'Traning Accuracy')\n",
    "plt.plot(epochs,val_accuarcy,'-ob',lw=2.5,label = 'Validation Accuracy')\n",
    "plt.legend()\n",
    "plt.xlabel(\"Epochs\")\n",
    "plt.ylabel('Accuracy')\n",
    "plt.show()"
   ]
  },
  {
   "cell_type": "code",
   "execution_count": 71,
   "metadata": {},
   "outputs": [
    {
     "data": {
      "image/png": "[encoded data removed]",
      "text/plain": [
       "<Figure size 432x288 with 1 Axes>"
      ]
     },
     "metadata": {
      "needs_background": "light"
     },
     "output_type": "display_data"
    }
   ],
   "source": [
    "plt.plot(epochs,loss,'-or',lw=2.5,label = 'Traning loss')\n",
    "plt.plot(epochs,val_loss,'-ob',lw=2.5,label = 'Validation loss')\n",
    "plt.legend()\n",
    "plt.xlabel(\"Epochs\")\n",
    "plt.ylabel('loss')\n",
    "plt.show()"
   ]
  },
  {
   "cell_type": "code",
   "execution_count": 104,
   "metadata": {},
   "outputs": [],
   "source": [
    "test_model = keras.models.load_model(\"E:\\\\Python-Machine-Learning\\\\Deep_Learning_With_python\\\\Model_8_2\\\\convert_from_scratch_with_argumentation.keras\")\n",
    "\n"
   ]
  },
  {
   "cell_type": "code",
   "execution_count": 105,
   "metadata": {},
   "outputs": [
    {
     "name": "stdout",
     "output_type": "stream",
     "text": [
      "63/63 [==============================] - 2s 28ms/step - loss: 0.5345 - accuracy: 0.7505\n",
      "Test accuracy = 0.751\n"
     ]
    }
   ],
   "source": [
    "test_loss, test_acc  = test_model.evaluate(test_dataset)\n",
    "print(\"Test accuracy = {:.3f}\".format(test_acc))"
   ]
  },
  {
   "cell_type": "markdown",
   "metadata": {},
   "source": [
    "By further tuning the model’s configuration (such as the number of filters per\n",
    "convolution layer, or the number of layers in the model), we might be able to get an\n",
    "even better accuracy, likely up to 90%. \n",
    "\n",
    "But it would prove difficult to go any higher\n",
    "just by training our own convnet from scratch, because we have so little data to work\n",
    "with. \n",
    "\n",
    "As a next step to improve our accuracy on this problem, we’ll have to use a pretrained model, which is the focus of the next two sections."
   ]
  },
  {
   "cell_type": "markdown",
   "metadata": {},
   "source": [
    "## 8.3 Leveraging a pretrained model "
   ]
  },
  {
   "cell_type": "markdown",
   "metadata": {},
   "source": [
    "A common and highly effective approach to deep learning on small image datasets is\n",
    " to use a pretrained model."
   ]
  },
  {
   "cell_type": "markdown",
   "metadata": {},
   "source": [
    "If this original dataset is large enough and general enough, the spatial hierarchy of features learned by\n",
    " the pretrained model can effectively act as a generic model of the visual world, and\n",
    " hence, its features can prove useful for many different computer vision problems,\n",
    " even though these new problems may involve completely different classes than those\n",
    " of the original task."
   ]
  },
  {
   "cell_type": "markdown",
   "metadata": {},
   "source": [
    "There are two ways to use a pretrained model: feature extraction and fine-tuning.\n",
    " We’ll cover both of them. Let’s start with feature extraction."
   ]
  },
  {
   "cell_type": "markdown",
   "metadata": {},
   "source": [
    "### 8.3.1 Feature Extraction with a pretrained model"
   ]
  },
  {
   "cell_type": "markdown",
   "metadata": {},
   "source": [
    "Feature extraction consists of using the representations learned by a previously\n",
    " trained model to extract interesting features from new samples. These features are\n",
    " then run through a new classifier, which is trained from scratch."
   ]
  },
  {
   "cell_type": "markdown",
   "metadata": {},
   "source": [
    "Why only reuse the convolutional base? \n",
    "\n",
    "Could we reuse the densely connected classifier as well?\n",
    "\n",
    "__NO__"
   ]
  },
  {
   "cell_type": "markdown",
   "metadata": {},
   "source": [
    "Reason:\n",
    "\n",
    "1. The __representations learned by the convolutional base__ are likely to be __more generic__ and, therefore, more reusable: the feature maps of a convnet are presence maps of generic\n",
    " concepts over a picture, which are likely to be useful regardless of the computer vision\n",
    " problem at hand.\n",
    "\n",
    "    + But the __representations learned by the classifier__ will necessarily be\n",
    " __specific__ to the set of classes on which the model was trained—they will only contain\n",
    " information about the presence probability of this or that class in the entire picture.\n",
    "\n",
    "\n",
    "2. Representations found in __densely connected layers__   __no longer contain any information about where objects are located in the input image__; \n",
    "\n",
    "   + these layers get rid of \n",
    " the notion of space, whereas the object location is still described by convolutional fea\u0002 ture maps. For problems where object location matters, densely connected features\n",
    " are largely useless.\n"
   ]
  },
  {
   "cell_type": "markdown",
   "metadata": {},
   "source": [
    "#### NOTE: \n",
    "+  The __level of generality__ (and therefore reusability) of the representations\n",
    " extracted by specific convolution layers __depends on the depth of the layer in the\n",
    " model__\n",
    "\n",
    "+  Layers that come __earlier__ in the model extract local, __highly generic feature\n",
    " maps__ (such as visual edges, colors, and textures), whereas layers that are higher up\n",
    " extract more-abstract concepts (such as “cat ear” or “dog eye”)."
   ]
  },
  {
   "cell_type": "markdown",
   "metadata": {},
   "source": [
    " In this case, because the __ImageNet__ class set contains multiple dog and cat\n",
    "classes, it’s likely to be beneficial to reuse the information contained in the densely\n",
    "connected layers of the original model."
   ]
  },
  {
   "cell_type": "markdown",
   "metadata": {},
   "source": [
    "The $VGG16$ model, among others, comes prepackaged with Keras. \n",
    "\n",
    "You can import\n",
    "it from the __keras.applications__ module. Many other image-classification models (all\n",
    "pretrained on the ImageNet dataset) are available as part of keras.applications:\n",
    "\n",
    "1. Xception\n",
    "2. ResNet\n",
    "3. MobileNet\n",
    "4. EfficientNet\n",
    "5. DenseNet\n",
    "6. etc."
   ]
  },
  {
   "cell_type": "markdown",
   "metadata": {},
   "source": [
    "Listing 8.19 Instantiating the VGG16 convolutional base"
   ]
  },
  {
   "cell_type": "code",
   "execution_count": 106,
   "metadata": {},
   "outputs": [
    {
     "name": "stdout",
     "output_type": "stream",
     "text": [
      "Downloading data from https://storage.googleapis.com/tensorflow/keras-applications/vgg16/vgg16_weights_tf_dim_ordering_tf_kernels_notop.h5\n",
      "58889256/58889256 [==============================] - 5s 0us/step\n"
     ]
    }
   ],
   "source": [
    "conv_base = keras.applications.vgg16.VGG16(\n",
    "    weights = 'imagenet',\n",
    "    include_top = False,\n",
    "    input_shape = (180,180,3)\n",
    ")"
   ]
  },
  {
   "cell_type": "markdown",
   "metadata": {},
   "source": [
    "1. __weights__ specifies the weight checkpoint from which to initialize the model.\n",
    "\n",
    "\n",
    "2. __include_top__ refers to including (or not) the __densely connected classifier on\n",
    "top of the network__. By default, this densely connected classifier corresponds to\n",
    "the 1,000 classes from ImageNet. Because we intend to use our own densely\n",
    "connected classifier (with only two classes: cat and dog), we don’t need to\n",
    "include it.\n",
    "\n",
    "3. __input_shape__ is the shape of the image tensors that we’ll feed to the network.\n",
    "This argument is purely optional: if we don’t pass it, the network will be able to\n",
    "process inputs of any size. Here we pass it so that we can visualize (in the follow\u0002 ing summary) how the size of the feature maps shrinks with each new convolu\u0002 tion and pooling layer."
   ]
  },
  {
   "cell_type": "markdown",
   "metadata": {},
   "source": [
    "Here is the summary of VGG16"
   ]
  },
  {
   "cell_type": "code",
   "execution_count": 110,
   "metadata": {},
   "outputs": [
    {
     "name": "stdout",
     "output_type": "stream",
     "text": [
      "Model: \"vgg16\"\n",
      "_________________________________________________________________\n",
      " Layer (type)                Output Shape              Param #   \n",
      "=================================================================\n",
      " input_17 (InputLayer)       [(None, 180, 180, 3)]     0         \n",
      "                                                                 \n",
      " block1_conv1 (Conv2D)       (None, 180, 180, 64)      1792      \n",
      "                                                                 \n",
      " block1_conv2 (Conv2D)       (None, 180, 180, 64)      36928     \n",
      "                                                                 \n",
      " block1_pool (MaxPooling2D)  (None, 90, 90, 64)        0         \n",
      "                                                                 \n",
      " block2_conv1 (Conv2D)       (None, 90, 90, 128)       73856     \n",
      "                                                                 \n",
      " block2_conv2 (Conv2D)       (None, 90, 90, 128)       147584    \n",
      "                                                                 \n",
      " block2_pool (MaxPooling2D)  (None, 45, 45, 128)       0         \n",
      "                                                                 \n",
      " block3_conv1 (Conv2D)       (None, 45, 45, 256)       295168    \n",
      "                                                                 \n",
      " block3_conv2 (Conv2D)       (None, 45, 45, 256)       590080    \n",
      "                                                                 \n",
      " block3_conv3 (Conv2D)       (None, 45, 45, 256)       590080    \n",
      "                                                                 \n",
      " block3_pool (MaxPooling2D)  (None, 22, 22, 256)       0         \n",
      "                                                                 \n",
      " block4_conv1 (Conv2D)       (None, 22, 22, 512)       1180160   \n",
      "                                                                 \n",
      " block4_conv2 (Conv2D)       (None, 22, 22, 512)       2359808   \n",
      "                                                                 \n",
      " block4_conv3 (Conv2D)       (None, 22, 22, 512)       2359808   \n",
      "                                                                 \n",
      " block4_pool (MaxPooling2D)  (None, 11, 11, 512)       0         \n",
      "                                                                 \n",
      " block5_conv1 (Conv2D)       (None, 11, 11, 512)       2359808   \n",
      "                                                                 \n",
      " block5_conv2 (Conv2D)       (None, 11, 11, 512)       2359808   \n",
      "                                                                 \n",
      " block5_conv3 (Conv2D)       (None, 11, 11, 512)       2359808   \n",
      "                                                                 \n",
      " block5_pool (MaxPooling2D)  (None, 5, 5, 512)         0         \n",
      "                                                                 \n",
      "=================================================================\n",
      "Total params: 14,714,688\n",
      "Trainable params: 14,714,688\n",
      "Non-trainable params: 0\n",
      "_________________________________________________________________\n"
     ]
    }
   ],
   "source": [
    "conv_base.summary()"
   ]
  },
  {
   "cell_type": "markdown",
   "metadata": {},
   "source": [
    "The final feature map has shape (5, 5, 512). That’s the feature map on top of which\n",
    "we’ll stick a densely connected classifier.\n",
    " At this point, there are two ways we could proceed:\n",
    "\n",
    "\n",
    "1. Run the convolutional base over our dataset, record its output to a NumPy array\n",
    "on disk, and then use this data as input to a standalone, densely connected classifier similar to those you saw in chapter 4 of this book. This solution is fast and\n",
    "cheap to run, because it only requires running the convolutional base once for\n",
    "every input image, and the convolutional base is by far the most expensive part\n",
    "of the pipeline. But for the same reason, this technique __won’t allow us to use\n",
    "data augmentation__.\n",
    "\n",
    "\n",
    "\n",
    "2. Extend the model we have (conv_base) by __adding Dense layers on top__, and run\n",
    "the whole thing from end to end on the input data. This will __allow us to use\n",
    "data augmentation__, because every input image goes through the convolutional\n",
    "base every time it’s seen by the model. But for the same reason, this technique is\n",
    "far more __expensive__ than the first."
   ]
  },
  {
   "cell_type": "markdown",
   "metadata": {},
   "source": [
    "#### FAST FEATURE EXTRACTION WITHOUT DATA AUGMENTATION"
   ]
  },
  {
   "cell_type": "markdown",
   "metadata": {},
   "source": [
    "Listing 8.20 Extracting the VGG16 features and corresponding labels"
   ]
  },
  {
   "cell_type": "code",
   "execution_count": 111,
   "metadata": {},
   "outputs": [],
   "source": [
    "import numpy as np \n",
    "\n",
    "def get_features_and_lables(dataset):\n",
    "    all_features = []\n",
    "    all_labels  = []\n",
    "    for images,labels in dataset:\n",
    "        \n",
    "        proprecessed_images = keras.applications.vgg16.preprocess_input(images)\n",
    "        \n",
    "        ## Since we didn't extract the upper classification dense layer, the predction of the conv_base is a series of features\n",
    "        features = conv_base.predict(proprecessed_images)\n",
    "        all_features.append(features)\n",
    "        all_labels.append(labels)\n",
    "    \n",
    "    return np.concatenate(all_features),np.concatenate(all_labels)\n",
    "\n"
   ]
  },
  {
   "cell_type": "code",
   "execution_count": 112,
   "metadata": {},
   "outputs": [
    {
     "name": "stdout",
     "output_type": "stream",
     "text": [
      "1/1 [==============================] - 3s 3s/step\n",
      "1/1 [==============================] - 0s 31ms/step\n",
      "1/1 [==============================] - 0s 24ms/step\n",
      "1/1 [==============================] - 0s 24ms/step\n",
      "1/1 [==============================] - 0s 23ms/step\n",
      "1/1 [==============================] - 0s 23ms/step\n",
      "1/1 [==============================] - 0s 26ms/step\n",
      "1/1 [==============================] - 0s 29ms/step\n",
      "1/1 [==============================] - 0s 21ms/step\n",
      "1/1 [==============================] - 0s 21ms/step\n",
      "1/1 [==============================] - 0s 29ms/step\n",
      "1/1 [==============================] - 0s 22ms/step\n",
      "1/1 [==============================] - 0s 24ms/step\n",
      "1/1 [==============================] - 0s 39ms/step\n",
      "1/1 [==============================] - 0s 23ms/step\n",
      "1/1 [==============================] - 0s 20ms/step\n",
      "1/1 [==============================] - 0s 31ms/step\n",
      "1/1 [==============================] - 0s 25ms/step\n",
      "1/1 [==============================] - 0s 23ms/step\n",
      "1/1 [==============================] - 0s 36ms/step\n",
      "1/1 [==============================] - 0s 25ms/step\n",
      "1/1 [==============================] - 0s 27ms/step\n",
      "1/1 [==============================] - 0s 30ms/step\n",
      "1/1 [==============================] - 0s 25ms/step\n",
      "1/1 [==============================] - 0s 23ms/step\n",
      "1/1 [==============================] - 0s 30ms/step\n",
      "1/1 [==============================] - 0s 23ms/step\n",
      "1/1 [==============================] - 0s 22ms/step\n",
      "1/1 [==============================] - 0s 26ms/step\n",
      "1/1 [==============================] - 0s 23ms/step\n",
      "1/1 [==============================] - 0s 22ms/step\n",
      "1/1 [==============================] - 0s 21ms/step\n",
      "1/1 [==============================] - 0s 21ms/step\n",
      "1/1 [==============================] - 0s 22ms/step\n",
      "1/1 [==============================] - 0s 25ms/step\n",
      "1/1 [==============================] - 0s 22ms/step\n",
      "1/1 [==============================] - 0s 20ms/step\n",
      "1/1 [==============================] - 0s 21ms/step\n",
      "1/1 [==============================] - 0s 20ms/step\n",
      "1/1 [==============================] - 0s 21ms/step\n",
      "1/1 [==============================] - 0s 21ms/step\n",
      "1/1 [==============================] - 0s 21ms/step\n",
      "1/1 [==============================] - 0s 21ms/step\n",
      "1/1 [==============================] - 0s 22ms/step\n",
      "1/1 [==============================] - 0s 20ms/step\n",
      "1/1 [==============================] - 0s 20ms/step\n",
      "1/1 [==============================] - 0s 20ms/step\n",
      "1/1 [==============================] - 0s 20ms/step\n",
      "1/1 [==============================] - 0s 21ms/step\n",
      "1/1 [==============================] - 0s 21ms/step\n",
      "1/1 [==============================] - 0s 21ms/step\n",
      "1/1 [==============================] - 0s 23ms/step\n",
      "1/1 [==============================] - 0s 20ms/step\n",
      "1/1 [==============================] - 0s 21ms/step\n",
      "1/1 [==============================] - 0s 23ms/step\n",
      "1/1 [==============================] - 0s 22ms/step\n",
      "1/1 [==============================] - 0s 26ms/step\n",
      "1/1 [==============================] - 0s 27ms/step\n",
      "1/1 [==============================] - 0s 25ms/step\n",
      "1/1 [==============================] - 0s 26ms/step\n",
      "1/1 [==============================] - 0s 22ms/step\n",
      "1/1 [==============================] - 0s 23ms/step\n",
      "1/1 [==============================] - 1s 1s/step\n",
      "1/1 [==============================] - 0s 20ms/step\n",
      "1/1 [==============================] - 0s 31ms/step\n",
      "1/1 [==============================] - 0s 21ms/step\n",
      "1/1 [==============================] - 0s 21ms/step\n",
      "1/1 [==============================] - 0s 20ms/step\n",
      "1/1 [==============================] - 0s 23ms/step\n",
      "1/1 [==============================] - 0s 27ms/step\n",
      "1/1 [==============================] - 0s 22ms/step\n",
      "1/1 [==============================] - 0s 21ms/step\n",
      "1/1 [==============================] - 0s 22ms/step\n",
      "1/1 [==============================] - 0s 21ms/step\n",
      "1/1 [==============================] - 0s 24ms/step\n",
      "1/1 [==============================] - 0s 22ms/step\n",
      "1/1 [==============================] - 0s 21ms/step\n",
      "1/1 [==============================] - 0s 21ms/step\n",
      "1/1 [==============================] - 0s 21ms/step\n",
      "1/1 [==============================] - 0s 22ms/step\n",
      "1/1 [==============================] - 0s 21ms/step\n",
      "1/1 [==============================] - 0s 23ms/step\n",
      "1/1 [==============================] - 0s 22ms/step\n",
      "1/1 [==============================] - 0s 22ms/step\n",
      "1/1 [==============================] - 0s 20ms/step\n",
      "1/1 [==============================] - 0s 20ms/step\n",
      "1/1 [==============================] - 0s 20ms/step\n",
      "1/1 [==============================] - 0s 20ms/step\n",
      "1/1 [==============================] - 0s 21ms/step\n",
      "1/1 [==============================] - 0s 21ms/step\n",
      "1/1 [==============================] - 0s 20ms/step\n",
      "1/1 [==============================] - 0s 20ms/step\n",
      "1/1 [==============================] - 0s 20ms/step\n",
      "1/1 [==============================] - 0s 19ms/step\n",
      "1/1 [==============================] - 1s 878ms/step\n",
      "1/1 [==============================] - 0s 23ms/step\n",
      "1/1 [==============================] - 0s 27ms/step\n",
      "1/1 [==============================] - 0s 22ms/step\n",
      "1/1 [==============================] - 0s 21ms/step\n",
      "1/1 [==============================] - 0s 21ms/step\n",
      "1/1 [==============================] - 0s 21ms/step\n",
      "1/1 [==============================] - 0s 20ms/step\n",
      "1/1 [==============================] - 0s 21ms/step\n",
      "1/1 [==============================] - 0s 20ms/step\n",
      "1/1 [==============================] - 0s 21ms/step\n",
      "1/1 [==============================] - 0s 21ms/step\n",
      "1/1 [==============================] - 0s 20ms/step\n",
      "1/1 [==============================] - 0s 20ms/step\n",
      "1/1 [==============================] - 0s 27ms/step\n",
      "1/1 [==============================] - 0s 29ms/step\n",
      "1/1 [==============================] - 0s 22ms/step\n",
      "1/1 [==============================] - 0s 24ms/step\n",
      "1/1 [==============================] - 0s 22ms/step\n",
      "1/1 [==============================] - 0s 21ms/step\n",
      "1/1 [==============================] - 0s 22ms/step\n",
      "1/1 [==============================] - 0s 19ms/step\n",
      "1/1 [==============================] - 0s 21ms/step\n",
      "1/1 [==============================] - 0s 23ms/step\n",
      "1/1 [==============================] - 0s 19ms/step\n",
      "1/1 [==============================] - 0s 20ms/step\n",
      "1/1 [==============================] - 0s 20ms/step\n",
      "1/1 [==============================] - 0s 21ms/step\n",
      "1/1 [==============================] - 0s 27ms/step\n",
      "1/1 [==============================] - 0s 21ms/step\n",
      "1/1 [==============================] - 0s 22ms/step\n",
      "1/1 [==============================] - 0s 22ms/step\n",
      "1/1 [==============================] - 0s 21ms/step\n",
      "1/1 [==============================] - 0s 21ms/step\n",
      "1/1 [==============================] - 0s 25ms/step\n",
      "1/1 [==============================] - 0s 19ms/step\n",
      "1/1 [==============================] - 0s 23ms/step\n",
      "1/1 [==============================] - 0s 21ms/step\n",
      "1/1 [==============================] - 0s 21ms/step\n",
      "1/1 [==============================] - 0s 21ms/step\n",
      "1/1 [==============================] - 0s 22ms/step\n",
      "1/1 [==============================] - 0s 22ms/step\n",
      "1/1 [==============================] - 0s 22ms/step\n",
      "1/1 [==============================] - 0s 22ms/step\n",
      "1/1 [==============================] - 0s 21ms/step\n",
      "1/1 [==============================] - 0s 20ms/step\n",
      "1/1 [==============================] - 0s 20ms/step\n",
      "1/1 [==============================] - 0s 21ms/step\n",
      "1/1 [==============================] - 0s 22ms/step\n",
      "1/1 [==============================] - 0s 21ms/step\n",
      "1/1 [==============================] - 0s 25ms/step\n",
      "1/1 [==============================] - 0s 21ms/step\n",
      "1/1 [==============================] - 0s 20ms/step\n",
      "1/1 [==============================] - 0s 21ms/step\n",
      "1/1 [==============================] - 0s 19ms/step\n",
      "1/1 [==============================] - 0s 20ms/step\n",
      "1/1 [==============================] - 0s 21ms/step\n",
      "1/1 [==============================] - 0s 21ms/step\n",
      "1/1 [==============================] - 0s 20ms/step\n",
      "1/1 [==============================] - 0s 20ms/step\n",
      "1/1 [==============================] - 0s 21ms/step\n",
      "1/1 [==============================] - 0s 20ms/step\n",
      "1/1 [==============================] - 0s 21ms/step\n",
      "1/1 [==============================] - 0s 19ms/step\n"
     ]
    }
   ],
   "source": [
    "train_features,train_labels = get_features_and_lables(train_dataset)\n",
    "\n",
    "val_features,val_labels = get_features_and_lables(validation_dataset)\n",
    "\n",
    "test_features,test_labels = get_features_and_lables(test_dataset)"
   ]
  },
  {
   "cell_type": "markdown",
   "metadata": {},
   "source": [
    "Importantly, __predict()__ only expects images, not labels, but our current dataset yields\n",
    "batches that contain both images and their labels. \n",
    "\n",
    "Moreover, the VGG16 model expects\n",
    "inputs that are preprocessed with the function __keras.applications.vgg16.preprocess_input__, which scales pixel values to an appropriate range"
   ]
  },
  {
   "cell_type": "code",
   "execution_count": 113,
   "metadata": {},
   "outputs": [
    {
     "data": {
      "text/plain": [
       "(2000, 5, 5, 512)"
      ]
     },
     "execution_count": 113,
     "metadata": {},
     "output_type": "execute_result"
    }
   ],
   "source": [
    "train_features.shape"
   ]
  },
  {
   "cell_type": "markdown",
   "metadata": {},
   "source": [
    "At this point, we can define our densely connected classifier (note the use of dropout\n",
    "for regularization) and train it on the data and labels that we just recorded."
   ]
  },
  {
   "cell_type": "markdown",
   "metadata": {},
   "source": [
    "Listing 8.21 Defining and training the densely connected classifier"
   ]
  },
  {
   "cell_type": "code",
   "execution_count": 133,
   "metadata": {},
   "outputs": [],
   "source": [
    "inputs = keras.Input(shape=(5,5,512))\n",
    "x = layers.Flatten()(inputs)\n",
    "\n",
    "x = layers.Dense(256)(x)\n",
    "x = layers.Dropout(0.5)(x)\n",
    "outputs = layers.Dense(1,activation='sigmoid')(x)\n",
    "model = keras.Model(inputs,outputs)\n",
    "\n",
    "model.compile(optimizer=keras.optimizers.RMSprop(),\n",
    "                loss = keras.losses.BinaryCrossentropy(),\n",
    "                metrics = ['accuracy']\n",
    "                )\n",
    "\n",
    "callbacks = [\n",
    "            keras.callbacks.ModelCheckpoint(\n",
    "                filepath = \"E:\\\\Python-Machine-Learning\\\\Deep_Learning_With_python\\\\Model_8_2\\\\feature_extraction.keras\",\n",
    "                save_best_only = True,\n",
    "                monitor = 'val_loss'\n",
    "            )\n",
    " ]"
   ]
  },
  {
   "cell_type": "code",
   "execution_count": 134,
   "metadata": {},
   "outputs": [
    {
     "name": "stdout",
     "output_type": "stream",
     "text": [
      "Epoch 1/20\n",
      "63/63 [==============================] - 1s 16ms/step - loss: 12.3364 - accuracy: 0.9245 - val_loss: 4.5694 - val_accuracy: 0.9690\n",
      "Epoch 2/20\n",
      "63/63 [==============================] - 1s 9ms/step - loss: 4.8153 - accuracy: 0.9735 - val_loss: 4.3400 - val_accuracy: 0.9730\n",
      "Epoch 3/20\n",
      "63/63 [==============================] - 1s 9ms/step - loss: 1.3098 - accuracy: 0.9865 - val_loss: 5.6357 - val_accuracy: 0.9680\n",
      "Epoch 4/20\n",
      "63/63 [==============================] - 1s 9ms/step - loss: 1.1428 - accuracy: 0.9910 - val_loss: 5.4104 - val_accuracy: 0.9730\n",
      "Epoch 5/20\n",
      "63/63 [==============================] - 1s 10ms/step - loss: 1.3096 - accuracy: 0.9915 - val_loss: 4.9230 - val_accuracy: 0.9800\n",
      "Epoch 6/20\n",
      "63/63 [==============================] - 1s 9ms/step - loss: 1.1771 - accuracy: 0.9925 - val_loss: 4.6752 - val_accuracy: 0.9790\n",
      "Epoch 7/20\n",
      "63/63 [==============================] - 1s 9ms/step - loss: 1.3953 - accuracy: 0.9945 - val_loss: 4.4148 - val_accuracy: 0.9780\n",
      "Epoch 8/20\n",
      "63/63 [==============================] - 1s 9ms/step - loss: 0.4231 - accuracy: 0.9965 - val_loss: 5.0113 - val_accuracy: 0.9780\n",
      "Epoch 9/20\n",
      "63/63 [==============================] - 1s 10ms/step - loss: 0.1738 - accuracy: 0.9985 - val_loss: 3.9195 - val_accuracy: 0.9790\n",
      "Epoch 10/20\n",
      "63/63 [==============================] - 1s 9ms/step - loss: 0.1662 - accuracy: 0.9995 - val_loss: 4.2314 - val_accuracy: 0.9780\n",
      "Epoch 11/20\n",
      "63/63 [==============================] - 1s 9ms/step - loss: 0.0982 - accuracy: 0.9985 - val_loss: 5.7685 - val_accuracy: 0.9730\n",
      "Epoch 12/20\n",
      "63/63 [==============================] - 1s 10ms/step - loss: 0.2745 - accuracy: 0.9960 - val_loss: 4.2426 - val_accuracy: 0.9810\n",
      "Epoch 13/20\n",
      "63/63 [==============================] - 1s 10ms/step - loss: 0.0771 - accuracy: 0.9985 - val_loss: 4.9880 - val_accuracy: 0.9760\n",
      "Epoch 14/20\n",
      "63/63 [==============================] - 1s 10ms/step - loss: 0.1470 - accuracy: 0.9985 - val_loss: 4.5216 - val_accuracy: 0.9800\n",
      "Epoch 15/20\n",
      "63/63 [==============================] - 1s 10ms/step - loss: 0.2230 - accuracy: 0.9980 - val_loss: 4.8255 - val_accuracy: 0.9830\n",
      "Epoch 16/20\n",
      "63/63 [==============================] - 1s 10ms/step - loss: 0.2047 - accuracy: 0.9985 - val_loss: 5.3919 - val_accuracy: 0.9810\n",
      "Epoch 17/20\n",
      "63/63 [==============================] - 1s 9ms/step - loss: 0.3614 - accuracy: 0.9980 - val_loss: 4.5107 - val_accuracy: 0.9820\n",
      "Epoch 18/20\n",
      "63/63 [==============================] - 1s 9ms/step - loss: 1.6975e-15 - accuracy: 1.0000 - val_loss: 4.5107 - val_accuracy: 0.9820\n",
      "Epoch 19/20\n",
      "63/63 [==============================] - 1s 10ms/step - loss: 1.0653e-10 - accuracy: 1.0000 - val_loss: 4.5042 - val_accuracy: 0.9820\n",
      "Epoch 20/20\n",
      "63/63 [==============================] - 1s 10ms/step - loss: 0.2529 - accuracy: 0.9980 - val_loss: 5.3653 - val_accuracy: 0.9770\n"
     ]
    }
   ],
   "source": [
    "history = model.fit(\n",
    "                    train_features,train_labels,\n",
    "                    epochs=20,\n",
    "                    validation_data = (val_features,val_labels),\n",
    "                    callbacks = callbacks\n",
    ")"
   ]
  },
  {
   "cell_type": "markdown",
   "metadata": {},
   "source": [
    "Listing 8.22 Plotting the results"
   ]
  },
  {
   "cell_type": "code",
   "execution_count": 135,
   "metadata": {},
   "outputs": [
    {
     "data": {
      "text/plain": [
       "<matplotlib.legend.Legend at 0x175013fa340>"
      ]
     },
     "execution_count": 135,
     "metadata": {},
     "output_type": "execute_result"
    },
    {
     "data": {
      "image/png": "[encoded data removed]",
      "text/plain": [
       "<Figure size 432x288 with 1 Axes>"
      ]
     },
     "metadata": {
      "needs_background": "light"
     },
     "output_type": "display_data"
    }
   ],
   "source": [
    "import matplotlib.pyplot as plt\n",
    "acc = history.history[\"accuracy\"]\n",
    "val_acc = history.history[\"val_accuracy\"]\n",
    "loss = history.history[\"loss\"]\n",
    "val_loss = history.history[\"val_loss\"]\n",
    "epochs = range(1, len(acc) + 1)\n",
    "plt.plot(epochs, acc, \"-or\", label=\"Training accuracy\")\n",
    "plt.plot(epochs, val_acc, \"-ob\", label=\"Validation accuracy\")\n",
    "plt.title(\"Training and validation accuracy\")\n",
    "plt.legend()\n"
   ]
  },
  {
   "cell_type": "code",
   "execution_count": 136,
   "metadata": {},
   "outputs": [
    {
     "data": {
      "image/png": "[encoded data removed]",
      "text/plain": [
       "<Figure size 432x288 with 1 Axes>"
      ]
     },
     "metadata": {
      "needs_background": "light"
     },
     "output_type": "display_data"
    }
   ],
   "source": [
    "plt.figure()\n",
    "plt.plot(epochs, loss, \"-or\", label=\"Training loss\")\n",
    "plt.plot(epochs, val_loss, \"-ob\", label=\"Validation loss\")\n",
    "plt.title(\"Training and validation loss\")\n",
    "plt.legend()\n",
    "plt.show()"
   ]
  },
  {
   "cell_type": "markdown",
   "metadata": {},
   "source": [
    "We reach a validation accuracy of about 97%—much better than we achieved in the\n",
    "previous section with the small model trained from scratch."
   ]
  },
  {
   "cell_type": "markdown",
   "metadata": {},
   "source": [
    "However, the plots also indicate that we’re overfitting almost from the start—\n",
    " despite using dropout with a fairly large rate. That’s because this technique __doesn’t\n",
    " use data augmentation__, which is essential for preventing overfitting with small image\n",
    " datasets."
   ]
  },
  {
   "cell_type": "markdown",
   "metadata": {},
   "source": [
    "#### FEATURE EXTRACTION TOGETHER WITH DATA AUGMENTATION"
   ]
  },
  {
   "cell_type": "markdown",
   "metadata": {},
   "source": [
    "In order to do this, we will first $freeze$ $the$ $convolutional$ $base$. \n",
    "\n",
    "Freezing a layer or set o \n",
    " layers means preventing their weights from being updated during training.\n",
    " \n",
    "If we don’t\n",
    " do this, __the representations that were previously learned by the convolutional base will\n",
    " be modified during training__. \n",
    " \n",
    " Because the Dense layers on top are randomly initialized,\n",
    " very large weight updates would be propagated through the network, effectively\n",
    " destroying the representations previously learned."
   ]
  },
  {
   "cell_type": "markdown",
   "metadata": {},
   "source": [
    "Listing 8.23 Instantiating and freezing the VGG16 convolutional base"
   ]
  },
  {
   "cell_type": "code",
   "execution_count": 137,
   "metadata": {},
   "outputs": [],
   "source": [
    "conv_base  = keras.applications.vgg16.VGG16(weights='imagenet',\n",
    "                                        include_top = False\n",
    "                                )\n",
    "\n",
    "conv_base.trainable =False"
   ]
  },
  {
   "cell_type": "markdown",
   "metadata": {},
   "source": [
    "Listing 8.24 Printing the list of trainable weights before and after freezing"
   ]
  },
  {
   "cell_type": "code",
   "execution_count": 139,
   "metadata": {},
   "outputs": [
    {
     "name": "stdout",
     "output_type": "stream",
     "text": [
      "This is the number of trainable weights before freezing the conv base: 26\n",
      "This is the number of trainable weights after freezing the conv base: 0\n"
     ]
    }
   ],
   "source": [
    "conv_base.trainable = True\n",
    "print(\"This is the number of trainable weights \"\n",
    " \"before freezing the conv base:\", len(conv_base.trainable_weights))\n",
    "\n",
    "conv_base.trainable = False\n",
    "print(\"This is the number of trainable weights \"\n",
    " \"after freezing the conv base:\", len(conv_base.trainable_weights))\n"
   ]
  },
  {
   "cell_type": "markdown",
   "metadata": {},
   "source": [
    "Listing 8.25 Adding a data augmentation stage and a classifier to the convolutional base"
   ]
  },
  {
   "cell_type": "code",
   "execution_count": 148,
   "metadata": {},
   "outputs": [],
   "source": [
    "data_argumentation = keras.Sequential([\n",
    "    layers.RandomFlip('horizontal'),\n",
    "    layers.RandomRotation(0.1),\n",
    "    layers.RandomZoom(0.2)\n",
    "])\n",
    "\n",
    "inputs = keras.Input(shape=(180,180,3))\n",
    "x = data_argumentation(inputs)\n",
    "x = keras.applications.vgg16.preprocess_input(x)\n",
    "\n",
    "\n",
    "x = conv_base(x)\n",
    "x = layers.Flatten()(x)\n",
    "x = layers.Dense(256)(x)\n",
    "x = layers.Dropout(0.5)(x)\n",
    "outputs = layers.Dense(1,activation='sigmoid')(x)\n",
    "model = keras.Model(inputs,outputs)\n",
    "\n",
    "model.compile(optimizer= keras.optimizers.RMSprop(),\n",
    "                loss = keras.losses.BinaryCrossentropy(),\n",
    "                metrics = ['accuracy']\n",
    "    )\n",
    "\n",
    "\n",
    "callbacks = [\n",
    "            keras.callbacks.ModelCheckpoint(\n",
    "                filepath = \"E:\\\\Python-Machine-Learning\\\\Deep_Learning_With_python\\\\Model_8_2\\\\feature_extraction_with_argumentation.keras\",\n",
    "                save_best_only = True,\n",
    "                monitor = 'val_loss'\n",
    "            )\n",
    " ]"
   ]
  },
  {
   "cell_type": "code",
   "execution_count": 149,
   "metadata": {},
   "outputs": [
    {
     "name": "stdout",
     "output_type": "stream",
     "text": [
      "Epoch 1/50\n",
      "63/63 [==============================] - 14s 207ms/step - loss: 20.2009 - accuracy: 0.8880 - val_loss: 4.1850 - val_accuracy: 0.9690\n",
      "Epoch 2/50\n",
      "63/63 [==============================] - 13s 205ms/step - loss: 6.7448 - accuracy: 0.9480 - val_loss: 6.1696 - val_accuracy: 0.9600\n",
      "Epoch 3/50\n",
      "63/63 [==============================] - 13s 204ms/step - loss: 5.9622 - accuracy: 0.9560 - val_loss: 19.3719 - val_accuracy: 0.9180\n",
      "Epoch 4/50\n",
      "63/63 [==============================] - 13s 206ms/step - loss: 5.1688 - accuracy: 0.9625 - val_loss: 3.5054 - val_accuracy: 0.9790\n",
      "Epoch 5/50\n",
      "63/63 [==============================] - 13s 205ms/step - loss: 5.3111 - accuracy: 0.9650 - val_loss: 3.7229 - val_accuracy: 0.9800\n",
      "Epoch 6/50\n",
      "63/63 [==============================] - 13s 207ms/step - loss: 4.7328 - accuracy: 0.9620 - val_loss: 2.8202 - val_accuracy: 0.9790\n",
      "Epoch 7/50\n",
      "63/63 [==============================] - 13s 207ms/step - loss: 3.2160 - accuracy: 0.9695 - val_loss: 3.7395 - val_accuracy: 0.9770\n",
      "Epoch 8/50\n",
      "63/63 [==============================] - 13s 205ms/step - loss: 3.2572 - accuracy: 0.9725 - val_loss: 5.4502 - val_accuracy: 0.9690\n",
      "Epoch 9/50\n",
      "63/63 [==============================] - 13s 206ms/step - loss: 2.6840 - accuracy: 0.9720 - val_loss: 3.9907 - val_accuracy: 0.9750\n",
      "Epoch 10/50\n",
      "63/63 [==============================] - 13s 207ms/step - loss: 2.9799 - accuracy: 0.9745 - val_loss: 3.4463 - val_accuracy: 0.9810\n",
      "Epoch 11/50\n",
      "63/63 [==============================] - 13s 207ms/step - loss: 2.3531 - accuracy: 0.9725 - val_loss: 3.7978 - val_accuracy: 0.9700\n",
      "Epoch 12/50\n",
      "63/63 [==============================] - 13s 209ms/step - loss: 2.0464 - accuracy: 0.9805 - val_loss: 2.4029 - val_accuracy: 0.9810\n",
      "Epoch 13/50\n",
      "63/63 [==============================] - 13s 208ms/step - loss: 1.2619 - accuracy: 0.9830 - val_loss: 2.9142 - val_accuracy: 0.9780\n",
      "Epoch 14/50\n",
      "63/63 [==============================] - 13s 208ms/step - loss: 1.7927 - accuracy: 0.9780 - val_loss: 2.9338 - val_accuracy: 0.9800\n",
      "Epoch 15/50\n",
      "63/63 [==============================] - 13s 207ms/step - loss: 1.5136 - accuracy: 0.9825 - val_loss: 3.3629 - val_accuracy: 0.9750\n",
      "Epoch 16/50\n",
      "63/63 [==============================] - 13s 209ms/step - loss: 2.0101 - accuracy: 0.9815 - val_loss: 2.1216 - val_accuracy: 0.9840\n",
      "Epoch 17/50\n",
      "63/63 [==============================] - 13s 207ms/step - loss: 1.4146 - accuracy: 0.9845 - val_loss: 2.2451 - val_accuracy: 0.9750\n",
      "Epoch 18/50\n",
      "63/63 [==============================] - 13s 210ms/step - loss: 1.2151 - accuracy: 0.9795 - val_loss: 1.8554 - val_accuracy: 0.9810\n",
      "Epoch 19/50\n",
      "63/63 [==============================] - 13s 206ms/step - loss: 1.1395 - accuracy: 0.9825 - val_loss: 2.4575 - val_accuracy: 0.9790\n",
      "Epoch 20/50\n",
      "63/63 [==============================] - 13s 208ms/step - loss: 0.9175 - accuracy: 0.9860 - val_loss: 1.8371 - val_accuracy: 0.9800\n",
      "Epoch 21/50\n",
      "63/63 [==============================] - 13s 207ms/step - loss: 1.0808 - accuracy: 0.9855 - val_loss: 1.9050 - val_accuracy: 0.9830\n",
      "Epoch 22/50\n",
      "63/63 [==============================] - 13s 206ms/step - loss: 1.2828 - accuracy: 0.9830 - val_loss: 2.7560 - val_accuracy: 0.9800\n",
      "Epoch 23/50\n",
      "63/63 [==============================] - 13s 208ms/step - loss: 1.1561 - accuracy: 0.9825 - val_loss: 1.3380 - val_accuracy: 0.9840\n",
      "Epoch 24/50\n",
      "63/63 [==============================] - 13s 206ms/step - loss: 1.6767 - accuracy: 0.9795 - val_loss: 1.8908 - val_accuracy: 0.9820\n",
      "Epoch 25/50\n",
      "63/63 [==============================] - 13s 206ms/step - loss: 0.8418 - accuracy: 0.9825 - val_loss: 2.1878 - val_accuracy: 0.9810\n",
      "Epoch 26/50\n",
      "63/63 [==============================] - 13s 206ms/step - loss: 1.2065 - accuracy: 0.9825 - val_loss: 1.8874 - val_accuracy: 0.9810\n",
      "Epoch 27/50\n",
      "63/63 [==============================] - 13s 206ms/step - loss: 0.8076 - accuracy: 0.9855 - val_loss: 1.7783 - val_accuracy: 0.9810\n",
      "Epoch 28/50\n",
      "63/63 [==============================] - 13s 205ms/step - loss: 1.0586 - accuracy: 0.9820 - val_loss: 2.1199 - val_accuracy: 0.9810\n",
      "Epoch 29/50\n",
      "63/63 [==============================] - 13s 205ms/step - loss: 0.8265 - accuracy: 0.9840 - val_loss: 1.7512 - val_accuracy: 0.9840\n",
      "Epoch 30/50\n",
      "63/63 [==============================] - 13s 206ms/step - loss: 0.6418 - accuracy: 0.9865 - val_loss: 1.7164 - val_accuracy: 0.9850\n",
      "Epoch 31/50\n",
      "63/63 [==============================] - 13s 206ms/step - loss: 1.0915 - accuracy: 0.9785 - val_loss: 2.0898 - val_accuracy: 0.9840\n",
      "Epoch 32/50\n",
      "63/63 [==============================] - 13s 207ms/step - loss: 0.9998 - accuracy: 0.9830 - val_loss: 2.0128 - val_accuracy: 0.9820\n",
      "Epoch 33/50\n",
      "63/63 [==============================] - 13s 207ms/step - loss: 0.9071 - accuracy: 0.9845 - val_loss: 1.9685 - val_accuracy: 0.9810\n",
      "Epoch 34/50\n",
      "63/63 [==============================] - 13s 207ms/step - loss: 0.9649 - accuracy: 0.9860 - val_loss: 2.4193 - val_accuracy: 0.9780\n",
      "Epoch 35/50\n",
      "63/63 [==============================] - 13s 206ms/step - loss: 0.5566 - accuracy: 0.9895 - val_loss: 2.2684 - val_accuracy: 0.9800\n",
      "Epoch 36/50\n",
      "63/63 [==============================] - 13s 207ms/step - loss: 0.9887 - accuracy: 0.9835 - val_loss: 2.1215 - val_accuracy: 0.9830\n",
      "Epoch 37/50\n",
      "63/63 [==============================] - 13s 207ms/step - loss: 0.8390 - accuracy: 0.9830 - val_loss: 1.6697 - val_accuracy: 0.9820\n",
      "Epoch 38/50\n",
      "63/63 [==============================] - 13s 207ms/step - loss: 0.4564 - accuracy: 0.9910 - val_loss: 2.2711 - val_accuracy: 0.9740\n",
      "Epoch 39/50\n",
      "63/63 [==============================] - 13s 207ms/step - loss: 0.6256 - accuracy: 0.9860 - val_loss: 1.7420 - val_accuracy: 0.9850\n",
      "Epoch 40/50\n",
      "63/63 [==============================] - 13s 207ms/step - loss: 0.5795 - accuracy: 0.9885 - val_loss: 1.6529 - val_accuracy: 0.9830\n",
      "Epoch 41/50\n",
      "63/63 [==============================] - 13s 206ms/step - loss: 0.4531 - accuracy: 0.9915 - val_loss: 1.3853 - val_accuracy: 0.9840\n",
      "Epoch 42/50\n",
      "63/63 [==============================] - 13s 206ms/step - loss: 0.2760 - accuracy: 0.9935 - val_loss: 2.3719 - val_accuracy: 0.9760\n",
      "Epoch 43/50\n",
      "63/63 [==============================] - 13s 205ms/step - loss: 0.4482 - accuracy: 0.9905 - val_loss: 1.7320 - val_accuracy: 0.9820\n",
      "Epoch 44/50\n",
      "63/63 [==============================] - 13s 205ms/step - loss: 0.9090 - accuracy: 0.9835 - val_loss: 1.7068 - val_accuracy: 0.9800\n",
      "Epoch 45/50\n",
      "63/63 [==============================] - 13s 205ms/step - loss: 0.6207 - accuracy: 0.9885 - val_loss: 2.0129 - val_accuracy: 0.9750\n",
      "Epoch 46/50\n",
      "63/63 [==============================] - 13s 206ms/step - loss: 0.4687 - accuracy: 0.9895 - val_loss: 1.7605 - val_accuracy: 0.9830\n",
      "Epoch 47/50\n",
      "63/63 [==============================] - 13s 205ms/step - loss: 0.3727 - accuracy: 0.9890 - val_loss: 1.7073 - val_accuracy: 0.9840\n",
      "Epoch 48/50\n",
      "63/63 [==============================] - 13s 205ms/step - loss: 0.4811 - accuracy: 0.9895 - val_loss: 1.7556 - val_accuracy: 0.9800\n",
      "Epoch 49/50\n",
      "63/63 [==============================] - 13s 204ms/step - loss: 0.2863 - accuracy: 0.9915 - val_loss: 1.8263 - val_accuracy: 0.9830\n",
      "Epoch 50/50\n",
      "63/63 [==============================] - 13s 205ms/step - loss: 0.5742 - accuracy: 0.9900 - val_loss: 1.9523 - val_accuracy: 0.9840\n"
     ]
    }
   ],
   "source": [
    "history = model.fit(\n",
    "                    train_dataset,\n",
    "                    epochs=50,\n",
    "                    validation_data = validation_dataset,\n",
    "                    callbacks = callbacks\n",
    ")"
   ]
  },
  {
   "cell_type": "code",
   "execution_count": 150,
   "metadata": {},
   "outputs": [
    {
     "data": {
      "text/plain": [
       "<matplotlib.legend.Legend at 0x175013fa280>"
      ]
     },
     "execution_count": 150,
     "metadata": {},
     "output_type": "execute_result"
    },
    {
     "data": {
      "image/png": "[encoded data removed]",
      "text/plain": [
       "<Figure size 432x288 with 1 Axes>"
      ]
     },
     "metadata": {
      "needs_background": "light"
     },
     "output_type": "display_data"
    }
   ],
   "source": [
    "import matplotlib.pyplot as plt\n",
    "acc = history.history[\"accuracy\"]\n",
    "val_acc = history.history[\"val_accuracy\"]\n",
    "loss = history.history[\"loss\"]\n",
    "val_loss = history.history[\"val_loss\"]\n",
    "epochs = range(1, len(acc) + 1)\n",
    "plt.plot(epochs, acc, \"-or\", label=\"Training accuracy\")\n",
    "plt.plot(epochs, val_acc, \"-ob\", label=\"Validation accuracy\")\n",
    "plt.title(\"Training and validation accuracy\")\n",
    "plt.legend()\n"
   ]
  },
  {
   "cell_type": "code",
   "execution_count": 151,
   "metadata": {},
   "outputs": [
    {
     "data": {
      "image/png": "[encoded data removed]",
      "text/plain": [
       "<Figure size 432x288 with 1 Axes>"
      ]
     },
     "metadata": {
      "needs_background": "light"
     },
     "output_type": "display_data"
    }
   ],
   "source": [
    "plt.figure()\n",
    "plt.plot(epochs, loss, \"-or\", label=\"Training loss\")\n",
    "plt.plot(epochs, val_loss, \"-ob\", label=\"Validation loss\")\n",
    "plt.title(\"Training and validation loss\")\n",
    "plt.legend()\n",
    "plt.show()"
   ]
  },
  {
   "cell_type": "code",
   "execution_count": 153,
   "metadata": {},
   "outputs": [
    {
     "name": "stdout",
     "output_type": "stream",
     "text": [
      "63/63 [==============================] - 8s 114ms/step - loss: 3.2292 - accuracy: 0.9745\n",
      "Accuracy on test dataset is 0.975\n"
     ]
    }
   ],
   "source": [
    "test_model = keras.models.load_model(\"E:\\\\Python-Machine-Learning\\\\Deep_Learning_With_python\\\\Model_8_2\\\\feature_extraction_with_argumentation.keras\",\n",
    "                )\n",
    "\n",
    "test_loss,test_acc = test_model.evaluate(test_dataset)\n",
    "\n",
    "print(\"Accuracy on test dataset is {:.3f}\".format(test_acc))"
   ]
  },
  {
   "cell_type": "markdown",
   "metadata": {},
   "source": [
    "### 8.3.2 Fine-tuning a pretrained model"
   ]
  },
  {
   "cell_type": "markdown",
   "metadata": {},
   "source": [
    "Another widely used technique for model reuse,\n",
    " complementary to feature extraction, is $fine-tuning$\n",
    "\n",
    "\n",
    "Fine-tuning consists of __unfreezing\n",
    " a few of the top layers of a frozen model base used\n",
    " for feature extraction__, and jointly training both the\n",
    " newly added part of the model (in this case, the\n",
    " fully connected classifier) and these top layers.\n",
    "\n",
    " It slightly adjusts the\n",
    " more abstract representations of the model being\n",
    " reused in order to make them more relevant for the\n",
    " problem at hand."
   ]
  },
  {
   "cell_type": "markdown",
   "metadata": {},
   "source": [
    "For the\n",
    " same reason, it’s only possible to fine-tune the __top\n",
    " layers of the convolutional base__ once the classifier on\n",
    " top has already been trained."
   ]
  },
  {
   "cell_type": "markdown",
   "metadata": {},
   "source": [
    "If the classifier isn’t\n",
    " already trained, the __error signal__ propagating\n",
    " through the network during training __will be too\n",
    " large__, and the representations previously learned by\n",
    " the layers being fine-tuned will be destroyed"
   ]
  },
  {
   "cell_type": "markdown",
   "metadata": {},
   "source": [
    "1.Add our custom network on top of an\n",
    "already-trained base network.\n",
    "\n",
    "\n",
    "2 Freeze the base network.\n",
    "\n",
    "\n",
    "3 Train the part we added.\n",
    "\n",
    "\n",
    "4 Unfreeze some layers in the base network.\n",
    "(Note that you should not unfreeze “batch\n",
    "normalization” layers, which are not relevant\n",
    "here since there are no such layers in VGG16.\n",
    "Batch normalization and its impact on finetuning is explained in the next chapter.)\n",
    "\n",
    "\n",
    "5 Jointly train both these layers and the part we\n",
    "added"
   ]
  },
  {
   "cell_type": "markdown",
   "metadata": {},
   "source": [
    "You already completed the first three steps when\n",
    "doing feature extraction. \n",
    "\n",
    "Let’s proceed with step __4__:\n",
    "we’ll unfreeze our conv_base and then freeze individual layers inside it."
   ]
  },
  {
   "cell_type": "code",
   "execution_count": 158,
   "metadata": {},
   "outputs": [
    {
     "name": "stdout",
     "output_type": "stream",
     "text": [
      "Model: \"vgg16\"\n",
      "_________________________________________________________________\n",
      " Layer (type)                Output Shape              Param #   \n",
      "=================================================================\n",
      " input_37 (InputLayer)       [(None, 180, 180, 3)]     0         \n",
      "                                                                 \n",
      " block1_conv1 (Conv2D)       (None, 180, 180, 64)      1792      \n",
      "                                                                 \n",
      " block1_conv2 (Conv2D)       (None, 180, 180, 64)      36928     \n",
      "                                                                 \n",
      " block1_pool (MaxPooling2D)  (None, 90, 90, 64)        0         \n",
      "                                                                 \n",
      " block2_conv1 (Conv2D)       (None, 90, 90, 128)       73856     \n",
      "                                                                 \n",
      " block2_conv2 (Conv2D)       (None, 90, 90, 128)       147584    \n",
      "                                                                 \n",
      " block2_pool (MaxPooling2D)  (None, 45, 45, 128)       0         \n",
      "                                                                 \n",
      " block3_conv1 (Conv2D)       (None, 45, 45, 256)       295168    \n",
      "                                                                 \n",
      " block3_conv2 (Conv2D)       (None, 45, 45, 256)       590080    \n",
      "                                                                 \n",
      " block3_conv3 (Conv2D)       (None, 45, 45, 256)       590080    \n",
      "                                                                 \n",
      " block3_pool (MaxPooling2D)  (None, 22, 22, 256)       0         \n",
      "                                                                 \n",
      " block4_conv1 (Conv2D)       (None, 22, 22, 512)       1180160   \n",
      "                                                                 \n",
      " block4_conv2 (Conv2D)       (None, 22, 22, 512)       2359808   \n",
      "                                                                 \n",
      " block4_conv3 (Conv2D)       (None, 22, 22, 512)       2359808   \n",
      "                                                                 \n",
      " block4_pool (MaxPooling2D)  (None, 11, 11, 512)       0         \n",
      "                                                                 \n",
      " block5_conv1 (Conv2D)       (None, 11, 11, 512)       2359808   \n",
      "                                                                 \n",
      " block5_conv2 (Conv2D)       (None, 11, 11, 512)       2359808   \n",
      "                                                                 \n",
      " block5_conv3 (Conv2D)       (None, 11, 11, 512)       2359808   \n",
      "                                                                 \n",
      " block5_pool (MaxPooling2D)  (None, 5, 5, 512)         0         \n",
      "                                                                 \n",
      "=================================================================\n",
      "Total params: 14,714,688\n",
      "Trainable params: 0\n",
      "Non-trainable params: 14,714,688\n",
      "_________________________________________________________________\n"
     ]
    }
   ],
   "source": [
    "conv_base  = keras.applications.vgg16.VGG16(weights='imagenet',\n",
    "                                        include_top = False,\n",
    "                                        input_shape = (180,180,3)\n",
    "                                )\n",
    "\n",
    "conv_base.trainable =False\n",
    "\n",
    "conv_base.summary()"
   ]
  },
  {
   "cell_type": "markdown",
   "metadata": {},
   "source": [
    "We’ll fine-tune the __last three convolutional layers__, which means all layers up to block4_\n",
    "pool should be frozen, and the __layers block5_conv1, block5_conv2, and block5_conv3__\n",
    "should be trainable."
   ]
  },
  {
   "cell_type": "markdown",
   "metadata": {},
   "source": [
    " Why not fine-tune more layers? Why not fine-tune the entire convolutional base?\n",
    "You could. But you need to consider the following:\n",
    "\n",
    "\n",
    "1. __Earlier layers in the convolutional base encode more generic, reusable features__,\n",
    "whereas layers higher up encode more specialized features. It’s more useful to\n",
    "fine-tune the more specialized features, because these are the ones that need\n",
    "to be repurposed on your new problem. There would be fast-decreasing returns\n",
    "in fine-tuning lower layers.\n",
    "\n",
    "\n",
    "2. __The more parameters you’re training, the more you’re at risk of overfitting.__\n",
    "The convolutional base has 15 million parameters, so it would be risky to\n",
    "attempt to train it on your small dataset."
   ]
  },
  {
   "cell_type": "markdown",
   "metadata": {},
   "source": [
    "Listing 8.27 Freezing all layers until the fourth from the last"
   ]
  },
  {
   "cell_type": "code",
   "execution_count": 159,
   "metadata": {},
   "outputs": [],
   "source": [
    "conv_base.trainable = True\n",
    "\n",
    "for layer in conv_base.layers[:-4]:\n",
    "    layer.trainable = False"
   ]
  },
  {
   "cell_type": "markdown",
   "metadata": {},
   "source": [
    "Now we can begin fine-tuning the model. \n",
    "\n",
    "We’ll do this with the __RMSprop__ optimizer,\n",
    "using a __very low learning rate__. \n",
    "\n",
    "The reason for using a low learning rate is that we want to\n",
    "limit the magnitude of the modifications we make to the representations of the three\n",
    "layers we’re fine-tuning."
   ]
  },
  {
   "cell_type": "markdown",
   "metadata": {},
   "source": [
    "Listing 8.28 Fine-tuning the model"
   ]
  },
  {
   "cell_type": "code",
   "execution_count": 161,
   "metadata": {},
   "outputs": [],
   "source": [
    "inputs = keras.Input(shape=(180,180,3))\n",
    "x = data_argumentation(inputs)\n",
    "x = keras.applications.vgg16.preprocess_input(x)\n",
    "\n",
    "\n",
    "x = conv_base(x)\n",
    "x = layers.Flatten()(x)\n",
    "x = layers.Dense(256)(x)\n",
    "x = layers.Dropout(0.5)(x)\n",
    "outputs = layers.Dense(1,activation='sigmoid')(x)\n",
    "model = keras.Model(inputs,outputs)\n",
    "\n",
    "\n",
    "model.compile(loss=keras.losses.BinaryCrossentropy(),\n",
    "              optimizer = keras.optimizers.RMSprop(learning_rate=1e-5),\n",
    "              metrics = ['accuracy']  \n",
    "                )\n",
    "\n",
    "\n",
    "callbacks = [\n",
    "            keras.callbacks.ModelCheckpoint(\n",
    "                filepath = \"E:\\\\Python-Machine-Learning\\\\Deep_Learning_With_python\\\\Model_8_2\\\\fine_tuning.keras\",\n",
    "                save_best_only = True,\n",
    "                monitor = 'val_loss'\n",
    "            )\n",
    " ]"
   ]
  },
  {
   "cell_type": "code",
   "execution_count": 162,
   "metadata": {},
   "outputs": [],
   "source": [
    "history = model.fit(\n",
    "                    train_dataset,\n",
    "                    epochs=30,\n",
    "                    validation_data = validation_dataset,\n",
    "                    callbacks = callbacks,\n",
    "                    verbose = 0\n",
    ")"
   ]
  },
  {
   "cell_type": "code",
   "execution_count": 163,
   "metadata": {},
   "outputs": [
    {
     "name": "stdout",
     "output_type": "stream",
     "text": [
      "63/63 [==============================] - 8s 117ms/step - loss: 0.1810 - accuracy: 0.9740\n",
      "The accuracy on test dataset is 0.974\n"
     ]
    }
   ],
   "source": [
    "test_model = keras.models.load_model(\"E:\\\\Python-Machine-Learning\\\\Deep_Learning_With_python\\\\Model_8_2\\\\fine_tuning.keras\")\n",
    "\n",
    "test_loss,test_acc = test_model.evaluate(test_dataset)\n",
    "print(\"The accuracy on test dataset is {:.3f}\".format(test_acc))"
   ]
  },
  {
   "cell_type": "markdown",
   "metadata": {},
   "source": [
    "On the positive side, by leveraging modern deep learning techniques, we managed\n",
    " to reach this result using only a small fraction of the training data that was available\n",
    " for the competition (about 10%). \n",
    " \n",
    "There is a huge difference between being able to\n",
    " train on 20,000 samples compared to 2,000 samples!"
   ]
  },
  {
   "cell_type": "markdown",
   "metadata": {},
   "source": [
    "## Summary"
   ]
  },
  {
   "cell_type": "markdown",
   "metadata": {},
   "source": [
    "+ Convnets are the best type of machine learning models for computer vision\n",
    "tasks. It’s possible to train one from scratch even on a very small dataset, with\n",
    "decent results.\n",
    "\n",
    "+  Convnets work by learning a hierarchy of modular patterns and concepts to\n",
    "represent the visual world.\n",
    "\n",
    "+ On a small dataset, overfitting will be the main issue. Data augmentation is a\n",
    "powerful way to fight overfitting when you’re working with image data.\n",
    "\n",
    "+ It’s easy to reuse an existing convnet on a new dataset via feature extraction.\n",
    "This is a valuable technique for working with small image datasets.\n",
    "\n",
    "+ As a complement to feature extraction, you can use fine-tuning, which adapts to\n",
    "a new problem some of the representations previously learned by an existing\n",
    "model. This pushes performance a bit further."
   ]
  },
  {
   "cell_type": "markdown",
   "metadata": {},
   "source": []
  }
 ],
 "metadata": {
  "kernelspec": {
   "display_name": "Python 3.9.11 64-bit",
   "language": "python",
   "name": "python3"
  },
  "language_info": {
   "codemirror_mode": {
    "name": "ipython",
    "version": 3
   },
   "file_extension": ".py",
   "mimetype": "text/x-python",
   "name": "python",
   "nbconvert_exporter": "python",
   "pygments_lexer": "ipython3",
   "version": "3.9.11"
  },
  "orig_nbformat": 4,
  "vscode": {
   "interpreter": {
    "hash": "e450050b432e843bda3c41bf3272c133bfc370a7003f3e377e27f87a49ce1127"
   }
  }
 },
 "nbformat": 4,
 "nbformat_minor": 2
}
