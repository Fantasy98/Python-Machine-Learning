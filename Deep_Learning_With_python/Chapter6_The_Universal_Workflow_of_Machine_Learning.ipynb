{
 "cells": [
  {
   "cell_type": "markdown",
   "metadata": {},
   "source": [
    "# Chapter 6 The Universal Workflow of Machine Learning"
   ]
  },
  {
   "cell_type": "markdown",
   "metadata": {},
   "source": [
    "The workflow of machine learning is broadly structed in three parts"
   ]
  },
  {
   "cell_type": "markdown",
   "metadata": {},
   "source": [
    "1. Define the task—Understand the problem domain and the business logic underlying what the customer asked for. Collect a dataset, understand what the data\n",
    "represents, and choose how you will measure success on the task\n",
    "\n",
    "2. Develop a model—Prepare your data so that it can be processed by a machine\n",
    "learning model, select a model evaluation protocol and a simple baseline to\n",
    "beat, train a first model that has generalization power and that can overfit, and\n",
    "then regularize and tune your model until you achieve the best possible generalization performance\n",
    "\n",
    "3. Deploy the model—Present your work to stakeholders, ship the model to a web\n",
    "server, a mobile app, a web page, or an embedded device, monitor the model’s performance in the wild, and start collecting the data you’ll need to build the\n",
    "next-generation model."
   ]
  },
  {
   "cell_type": "markdown",
   "metadata": {},
   "source": [
    "## 6.1 Define the task"
   ]
  },
  {
   "cell_type": "markdown",
   "metadata": {},
   "source": [
    "### 6.1.1 Frame the problem"
   ]
  },
  {
   "cell_type": "markdown",
   "metadata": {},
   "source": [
    "Some questions that should be on the top of your mind:\n",
    "\n",
    "+ What will your input data be? What are you trying to predict? You can only\n",
    "learn to predict something if you have training data available\n",
    "\n",
    "+ What type of machine learning task are you facing?\n",
    "\n",
    "+ What do existing solutions look like?\n",
    "\n",
    "+ Are there particular constraints you will need to deal with?"
   ]
  },
  {
   "cell_type": "markdown",
   "metadata": {},
   "source": [
    "Once you’ve done your research, you should know what your inputs will be, what your\n",
    "targets will be, and what broad type of machine learning task the problem maps to. Be\n",
    "aware of the hypotheses you’re making at this stage:\n",
    "\n",
    "1. You hypothesize that your targets can be predicted given your inputs.\n",
    "\n",
    "2. You hypothesize that the data that’s available (or that you will soon collect) is\n",
    "sufficiently informative to learn the relationship between inputs and targets"
   ]
  },
  {
   "cell_type": "markdown",
   "metadata": {},
   "source": [
    "### 6.1.2 Collect the dataset"
   ]
  },
  {
   "cell_type": "markdown",
   "metadata": {},
   "source": [
    "the number of data points you have,the reliability of your labels, the quality of your features"
   ]
  },
  {
   "cell_type": "markdown",
   "metadata": {},
   "source": [
    "If you’re doing supervised learning, then once you’ve collected inputs (such as\n",
    " images) you’re going to need annotations for them (such as tags for those images)—\n",
    " the targets you will train your model to predict."
   ]
  },
  {
   "cell_type": "markdown",
   "metadata": {},
   "source": [
    "#### INVESTING IN DATA ANNOTATION INFRASTRUCTURE"
   ]
  },
  {
   "cell_type": "markdown",
   "metadata": {},
   "source": [
    "Your data annotation process will determine the quality of your targets, which in turn\n",
    "determine the quality of your model. Carefully consider the options you have available:\n",
    "1. Should you annotate the data yourself?\n",
    "\n",
    "2. Should you use a crowdsourcing platform like Mechanical Turk to collect labels?\n",
    "\n",
    "3. Should you use the services of a specialized data-labeling company?"
   ]
  },
  {
   "cell_type": "markdown",
   "metadata": {},
   "source": [
    "To pick the best option, consider the constraints you’re working with:\n",
    "1. Do the data labelers need to be subject matter experts, or could anyone annotate the data? Annotating CT scans of bone fractures pretty much requires a medical degree.\n",
    "\n",
    "\n",
    "2. If annotating the data requires specialized knowledge, can you train people to\n",
    "do it? If not, how can you get access to relevant experts?\n",
    "\n",
    "\n",
    "3.  Do you, yourself, understand the way experts come up with the annotations? If\n",
    "you don’t, you will have to treat your dataset as a black box, and you won’t be able\n",
    "to perform manual feature engineering—this isn’t critical, but it can be limiting."
   ]
  },
  {
   "cell_type": "markdown",
   "metadata": {},
   "source": [
    "#### BEWARE OF NON-REPRESENTATIVE DATA"
   ]
  },
  {
   "cell_type": "markdown",
   "metadata": {},
   "source": [
    "It’s critical that the data used for training should be representative of the production data"
   ]
  },
  {
   "cell_type": "markdown",
   "metadata": {},
   "source": [
    "If possible, collect data directly from the environment where your model will be used"
   ]
  },
  {
   "cell_type": "markdown",
   "metadata": {},
   "source": [
    "A related phenomenon you should be aware of is concept drift. You’ll encounter\n",
    " concept drift in almost all real-world problems, especially those that deal with user generated data.\n",
    "\n",
    " Concept drift occurs when the properties of the production data\n",
    " change over time, causing model accuracy to gradually decay."
   ]
  },
  {
   "cell_type": "markdown",
   "metadata": {},
   "source": [
    " Keep in mind that machine learning can only be used to memorize patterns that\n",
    "are present in your training data. You can only recognize what you’ve seen before.\n",
    "\n",
    "\n",
    "Using machine learning trained on past data to predict the future is making the\n",
    "assumption that the future will behave like the past. That often isn’t the case"
   ]
  },
  {
   "cell_type": "markdown",
   "metadata": {},
   "source": [
    "### 6.1.3 Understand your data"
   ]
  },
  {
   "cell_type": "markdown",
   "metadata": {},
   "source": [
    "1. If your data includes images or natural language text, take a look at a few samples (and their labels) directly.\n",
    "\n",
    "2. If your data contains numerical features, it’s a good idea to plot the histogram\n",
    "of feature values to get a feel for the range of values taken and the frequency of\n",
    "different values.\n",
    "\n",
    "3. If your data includes location information, plot it on a map. Do any clear patterns emerge?\n",
    "\n",
    "4. Are some samples missing values for some features? If so, you’ll need to deal\n",
    "with this when you prepare the data (we’ll cover how to do this in the next\n",
    "section).\n",
    "\n",
    "5. If your task is a classification problem, print the number of instances of each\n",
    "class in your data. Are the classes roughly equally represented? If not, you will\n",
    "need to account for this imbalance.\n",
    "\n",
    "6. Check for target leaking: the presence of features in your data that provide information about the targets and which may not be available in production. If\n",
    "you’re training a model on medical records to predict whether someone will be\n",
    "treated for cancer in the future, and the records include the feature “this person has been diagnosed with cancer,” then your targets are being artificially\n",
    "leaked into your data. \n",
    "\n",
    "Always ask yourself, is every feature in your data something that will be available in the same form in production?"
   ]
  },
  {
   "cell_type": "markdown",
   "metadata": {},
   "source": [
    "### 6.1.4 Choose a measures of success"
   ]
  },
  {
   "cell_type": "markdown",
   "metadata": {},
   "source": [
    "To achieve success on a project, you must first define what you mean by success. Accuracy? Precision and recall?\n",
    " Customer retention rate? \n",
    " \n",
    "Your metric for success will guide all of the technical choices\n",
    " you make throughout the project"
   ]
  },
  {
   "cell_type": "markdown",
   "metadata": {},
   "source": [
    " For balanced classification problems, where every class is equally likely, accuracy\n",
    "and the area under a receiver operating characteristic (ROC) curve, abbreviated as ROC\n",
    "AUC, are common metrics. \n",
    "\n",
    "For class-imbalanced problems, ranking problems, or\n",
    "multilabel classification, you can use precision and recall, as well as a weighted form of\n",
    "accuracy or ROC AUC."
   ]
  },
  {
   "cell_type": "markdown",
   "metadata": {},
   "source": []
  }
 ],
 "metadata": {
  "kernelspec": {
   "display_name": "Python 3.9.11 64-bit",
   "language": "python",
   "name": "python3"
  },
  "language_info": {
   "codemirror_mode": {
    "name": "ipython",
    "version": 3
   },
   "file_extension": ".py",
   "mimetype": "text/x-python",
   "name": "python",
   "nbconvert_exporter": "python",
   "pygments_lexer": "ipython3",
   "version": "3.9.11"
  },
  "orig_nbformat": 4,
  "vscode": {
   "interpreter": {
    "hash": "e450050b432e843bda3c41bf3272c133bfc370a7003f3e377e27f87a49ce1127"
   }
  }
 },
 "nbformat": 4,
 "nbformat_minor": 2
}
