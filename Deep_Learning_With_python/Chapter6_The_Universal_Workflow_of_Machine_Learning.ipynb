{
 "cells": [
  {
   "cell_type": "markdown",
   "metadata": {},
   "source": [
    "# Chapter 6 The Universal Workflow of Machine Learning"
   ]
  },
  {
   "cell_type": "markdown",
   "metadata": {},
   "source": [
    "The workflow of machine learning is broadly structed in three parts"
   ]
  },
  {
   "cell_type": "markdown",
   "metadata": {},
   "source": [
    "1. Define the task—Understand the problem domain and the business logic underlying what the customer asked for. Collect a dataset, understand what the data\n",
    "represents, and choose how you will measure success on the task\n",
    "\n",
    "2. Develop a model—Prepare your data so that it can be processed by a machine\n",
    "learning model, select a model evaluation protocol and a simple baseline to\n",
    "beat, train a first model that has generalization power and that can overfit, and\n",
    "then regularize and tune your model until you achieve the best possible generalization performance\n",
    "\n",
    "3. Deploy the model—Present your work to stakeholders, ship the model to a web\n",
    "server, a mobile app, a web page, or an embedded device, monitor the model’s performance in the wild, and start collecting the data you’ll need to build the\n",
    "next-generation model."
   ]
  },
  {
   "cell_type": "markdown",
   "metadata": {},
   "source": [
    "## 6.1 Define the task"
   ]
  },
  {
   "cell_type": "markdown",
   "metadata": {},
   "source": [
    "### 6.1.1 Frame the problem"
   ]
  },
  {
   "cell_type": "markdown",
   "metadata": {},
   "source": [
    "Some questions that should be on the top of your mind:\n",
    "\n",
    "+ What will your input data be? What are you trying to predict? You can only\n",
    "learn to predict something if you have training data available\n",
    "\n",
    "+ What type of machine learning task are you facing?\n",
    "\n",
    "+ What do existing solutions look like?\n",
    "\n",
    "+ Are there particular constraints you will need to deal with?"
   ]
  },
  {
   "cell_type": "markdown",
   "metadata": {},
   "source": [
    "Once you’ve done your research, you should know what your inputs will be, what your\n",
    "targets will be, and what broad type of machine learning task the problem maps to. Be\n",
    "aware of the hypotheses you’re making at this stage:\n",
    "\n",
    "1. You hypothesize that your targets can be predicted given your inputs.\n",
    "\n",
    "2. You hypothesize that the data that’s available (or that you will soon collect) is\n",
    "sufficiently informative to learn the relationship between inputs and targets"
   ]
  },
  {
   "cell_type": "markdown",
   "metadata": {},
   "source": [
    "### 6.1.2 Collect the dataset"
   ]
  },
  {
   "cell_type": "markdown",
   "metadata": {},
   "source": [
    "the number of data points you have,the reliability of your labels, the quality of your features"
   ]
  },
  {
   "cell_type": "markdown",
   "metadata": {},
   "source": [
    "If you’re doing supervised learning, then once you’ve collected inputs (such as\n",
    " images) you’re going to need annotations for them (such as tags for those images)—\n",
    " the targets you will train your model to predict."
   ]
  },
  {
   "cell_type": "markdown",
   "metadata": {},
   "source": [
    "#### INVESTING IN DATA ANNOTATION INFRASTRUCTURE"
   ]
  },
  {
   "cell_type": "markdown",
   "metadata": {},
   "source": [
    "Your data annotation process will determine the quality of your targets, which in turn\n",
    "determine the quality of your model. Carefully consider the options you have available:\n",
    "1. Should you annotate the data yourself?\n",
    "\n",
    "2. Should you use a crowdsourcing platform like Mechanical Turk to collect labels?\n",
    "\n",
    "3. Should you use the services of a specialized data-labeling company?"
   ]
  },
  {
   "cell_type": "markdown",
   "metadata": {},
   "source": [
    "To pick the best option, consider the constraints you’re working with:\n",
    "1. Do the data labelers need to be subject matter experts, or could anyone annotate the data? Annotating CT scans of bone fractures pretty much requires a medical degree.\n",
    "\n",
    "\n",
    "2. If annotating the data requires specialized knowledge, can you train people to\n",
    "do it? If not, how can you get access to relevant experts?\n",
    "\n",
    "\n",
    "3.  Do you, yourself, understand the way experts come up with the annotations? If\n",
    "you don’t, you will have to treat your dataset as a black box, and you won’t be able\n",
    "to perform manual feature engineering—this isn’t critical, but it can be limiting."
   ]
  },
  {
   "cell_type": "markdown",
   "metadata": {},
   "source": [
    "#### BEWARE OF NON-REPRESENTATIVE DATA"
   ]
  },
  {
   "cell_type": "markdown",
   "metadata": {},
   "source": [
    "It’s critical that the data used for training should be representative of the production data"
   ]
  },
  {
   "cell_type": "markdown",
   "metadata": {},
   "source": [
    "If possible, collect data directly from the environment where your model will be used"
   ]
  },
  {
   "cell_type": "markdown",
   "metadata": {},
   "source": [
    "A related phenomenon you should be aware of is concept drift. You’ll encounter\n",
    " concept drift in almost all real-world problems, especially those that deal with user generated data.\n",
    "\n",
    " Concept drift occurs when the properties of the production data\n",
    " change over time, causing model accuracy to gradually decay."
   ]
  },
  {
   "cell_type": "markdown",
   "metadata": {},
   "source": [
    " Keep in mind that machine learning can only be used to memorize patterns that\n",
    "are present in your training data. You can only recognize what you’ve seen before.\n",
    "\n",
    "\n",
    "Using machine learning trained on past data to predict the future is making the\n",
    "assumption that the future will behave like the past. That often isn’t the case"
   ]
  },
  {
   "cell_type": "markdown",
   "metadata": {},
   "source": [
    "### 6.1.3 Understand your data"
   ]
  },
  {
   "cell_type": "markdown",
   "metadata": {},
   "source": [
    "1. If your data includes images or natural language text, take a look at a few samples (and their labels) directly.\n",
    "\n",
    "2. If your data contains numerical features, it’s a good idea to plot the histogram\n",
    "of feature values to get a feel for the range of values taken and the frequency of\n",
    "different values.\n",
    "\n",
    "3. If your data includes location information, plot it on a map. Do any clear patterns emerge?\n",
    "\n",
    "4. Are some samples missing values for some features? If so, you’ll need to deal\n",
    "with this when you prepare the data (we’ll cover how to do this in the next\n",
    "section).\n",
    "\n",
    "5. If your task is a classification problem, print the number of instances of each\n",
    "class in your data. Are the classes roughly equally represented? If not, you will\n",
    "need to account for this imbalance.\n",
    "\n",
    "6. Check for target leaking: the presence of features in your data that provide information about the targets and which may not be available in production. If\n",
    "you’re training a model on medical records to predict whether someone will be\n",
    "treated for cancer in the future, and the records include the feature “this person has been diagnosed with cancer,” then your targets are being artificially\n",
    "leaked into your data. \n",
    "\n",
    "Always ask yourself, is every feature in your data something that will be available in the same form in production?"
   ]
  },
  {
   "cell_type": "markdown",
   "metadata": {},
   "source": [
    "### 6.1.4 Choose a measures of success"
   ]
  },
  {
   "cell_type": "markdown",
   "metadata": {},
   "source": [
    "To achieve success on a project, you must first define what you mean by success. Accuracy? Precision and recall?\n",
    " Customer retention rate? \n",
    " \n",
    "Your metric for success will guide all of the technical choices\n",
    " you make throughout the project"
   ]
  },
  {
   "cell_type": "markdown",
   "metadata": {},
   "source": [
    " For balanced classification problems, where every class is equally likely, accuracy\n",
    "and the area under a receiver operating characteristic (ROC) curve, abbreviated as ROC\n",
    "AUC, are common metrics. \n",
    "\n",
    "For class-imbalanced problems, ranking problems, or\n",
    "multilabel classification, you can use precision and recall, as well as a weighted form of\n",
    "accuracy or ROC AUC."
   ]
  },
  {
   "cell_type": "markdown",
   "metadata": {},
   "source": [
    "## 6.2 Develop  a model"
   ]
  },
  {
   "cell_type": "markdown",
   "metadata": {},
   "source": [
    "### 6.2.1 Prepare the data"
   ]
  },
  {
   "cell_type": "markdown",
   "metadata": {},
   "source": [
    "#### Vectorization"
   ]
  },
  {
   "cell_type": "markdown",
   "metadata": {},
   "source": [
    "All inputs and targets in a neural network must typically be tensors of floating-point\n",
    "data (or, in specific cases, tensors of integers or strings)."
   ]
  },
  {
   "cell_type": "markdown",
   "metadata": {},
   "source": [
    "#### Value Normalization"
   ]
  },
  {
   "cell_type": "markdown",
   "metadata": {},
   "source": [
    "Before we fed this\n",
    "data into our network, we had to cast it to float32 and divide by 255 so we’d end up\n",
    "with floating-point values in the 0–1 range."
   ]
  },
  {
   "cell_type": "markdown",
   "metadata": {},
   "source": [
    "In general, it isn’t safe to feed into a neural network data that takes relatively\n",
    "large values (for example, multi-digit integers, which are much larger than the initial values taken by the weights of a network) or data that is heterogeneous (for\n",
    "example, data where one feature is in the range 0–1 and another is in the range\n",
    "100–200)."
   ]
  },
  {
   "cell_type": "markdown",
   "metadata": {},
   "source": [
    "+ Take small values—Typically, most values should be in the 0–1 range.\n",
    "+ Be homogenous—All features should take values in roughly the same range."
   ]
  },
  {
   "cell_type": "markdown",
   "metadata": {},
   "source": [
    "+ Normalize each feature independently to have a mean of 0.\n",
    "+ Normalize each feature independently to have a standard deviation of 1."
   ]
  },
  {
   "cell_type": "markdown",
   "metadata": {},
   "source": [
    "#### HANDLING MISSING VALUES"
   ]
  },
  {
   "cell_type": "markdown",
   "metadata": {},
   "source": [
    "+ If the feature is categorical, it’s safe to create a new category that means “the\n",
    "value is missing.” The model will automatically learn what this implies with\n",
    "respect to the targets.\n",
    "\n",
    "+ If the feature is numerical, avoid inputting an arbitrary value like \"0\", because\n",
    "it may create a discontinuity in the latent space formed by your features, mak\u0002ing it harder for a model trained on it to generalize. Instead, consider replac\u0002ing the missing value with the average or median value for the feature in the\n",
    "dataset. You could also train a model to predict the feature value given the val\u0002ues of other features"
   ]
  },
  {
   "cell_type": "markdown",
   "metadata": {},
   "source": [
    "Note that if you’re expecting missing categorial features in the test data, but the network\n",
    " was trained on data without any missing values, the network won’t have learned to\n",
    " ignore missing values!"
   ]
  },
  {
   "cell_type": "markdown",
   "metadata": {},
   "source": [
    "### 6.2.2 Choose an evaluation protocol"
   ]
  },
  {
   "cell_type": "markdown",
   "metadata": {},
   "source": [
    "The goal of your validation protocol is to accurately estimate what your success metric of choice (such as accuracy) will be on actual production data"
   ]
  },
  {
   "cell_type": "markdown",
   "metadata": {},
   "source": [
    "1. Maintaining a holdout validation set—This is the way to go when you have plenty\n",
    "of data.\n",
    "2. Doing K-fold cross-validation—This is the right choice when you have too few sam\u0002ples for holdout validation to be reliable.\n",
    "3. Doing iterated K-fold validation—This is for performing highly accurate model\n",
    "evaluation when little data is available."
   ]
  },
  {
   "cell_type": "markdown",
   "metadata": {},
   "source": [
    "### 6.2.3 Beat a Baseline"
   ]
  },
  {
   "cell_type": "markdown",
   "metadata": {},
   "source": [
    "At this stage, these are the three most important things you should focus on:\n",
    "\n",
    "1. Feature engineering—Filter out uninformative features (feature selection) and use\n",
    "your knowledge of the problem to develop new features that are likely to be useful.\n",
    "\n",
    "2. Selecting the correct architecture priors—What type of model architecture will you\n",
    "use? A densely connected network, a convnet, a recurrent neural network, a\n",
    "Transformer? Is deep learning even a good approach for the task, or should you\n",
    "use something else?\n",
    "\n",
    "3. Selecting a good-enough training configuration—What loss function should you use?\n",
    "What batch size and learning rate?"
   ]
  },
  {
   "cell_type": "markdown",
   "metadata": {},
   "source": [
    "Choosing loss function correctly :\n",
    "\n",
    " Type --- last_layer_activation --- loss function\n",
    " \n",
    "+ Binary classification --- sigmoid --- binary_crossentropy\n",
    "\n",
    "+ Multiclass-single-label classification --- softmax --- categorical_crossentropy\n",
    "\n",
    "+ Multiclass, multilabel classification --- sigmoid --- binary_crossentropy"
   ]
  },
  {
   "cell_type": "markdown",
   "metadata": {},
   "source": [
    "Note that it’s not always possible to achieve statistical power. \n",
    "\n",
    "If you can’t beat a simple baseline after trying multiple reasonable architectures, it may be that the answer\n",
    "to the question you’re asking isn’t present in the input data. \n",
    "\n",
    "Remember that you’re making two hypotheses:\n",
    "+ You hypothesize that your outputs can be predicted given your inputs.\n",
    "+ You hypothesize that the available data is sufficiently informative to learn the\n",
    "relationship between inputs and outputs."
   ]
  },
  {
   "cell_type": "markdown",
   "metadata": {},
   "source": [
    "### 6.2.4 Scale up : Develop a model that overfits"
   ]
  },
  {
   "cell_type": "markdown",
   "metadata": {},
   "source": [
    "Once you’ve obtained a model that has statistical power, the question becomes, is your\n",
    "model sufficiently powerful? Does it have enough layers and parameters to properly\n",
    "model the problem at hand?"
   ]
  },
  {
   "cell_type": "markdown",
   "metadata": {},
   "source": [
    "Remember that\n",
    "the universal tension in machine learning is between optimization and generalization."
   ]
  },
  {
   "cell_type": "markdown",
   "metadata": {},
   "source": [
    "The ideal model is one that stands right at the border between underfitting and overfitting, between undercapacity and overcapacity."
   ]
  },
  {
   "cell_type": "markdown",
   "metadata": {},
   "source": [
    "To figure out how big a model you’ll need, you must develop a model that overfits.\n",
    "This is fairly easy, as you learned in chapter 5:\n",
    "1. Add layers.\n",
    "\n",
    "2. Make the layers bigger.\n",
    "\n",
    "3. Train for more epochs"
   ]
  },
  {
   "cell_type": "markdown",
   "metadata": {},
   "source": [
    "Always monitor the training loss and validation loss, as well as the training and validation values for any metrics you care about. \n",
    "\n",
    "When you see that the model’s performance on the validation data begins to degrade, you’ve achieved overfitting."
   ]
  },
  {
   "cell_type": "markdown",
   "metadata": {},
   "source": [
    "### 6.2.5 Regularize and tune your model"
   ]
  },
  {
   "cell_type": "markdown",
   "metadata": {},
   "source": [
    "Once you’ve achieved statistical power and you’re able to overfit, you know you’re on the\n",
    "right path. At this point, your goal becomes to maximize generalization performance.\n",
    "\n",
    "\n",
    " This phase will take the most time: you’ll repeatedly modify your model, train it,\n",
    "evaluate on your validation data (not the test data at this point), modify it again, and\n",
    "repeat, until the model is as good as it can get. Here are some things you should try"
   ]
  },
  {
   "cell_type": "markdown",
   "metadata": {},
   "source": [
    "1. Try different architectures; add or remove layers.\n",
    "\n",
    "2. Add dropout.\n",
    "\n",
    "3. If your model is small, add L1 or L2 regularization.\n",
    "\n",
    "4. Try different hyperparameters (such as the number of units per layer or the\n",
    "learning rate of the optimizer) to find the optimal configuration.\n",
    "\n",
    "5. Optionally, iterate on data curation or feature engineering: collect and anno\u0002tate more data, develop better features, or remove features that don’t seem to be informative."
   ]
  },
  {
   "cell_type": "markdown",
   "metadata": {},
   "source": [
    "Be mindful of the following: Every time you use feedback from your validation process to tune your model, you leak information about the validation process into the\n",
    " model"
   ]
  },
  {
   "cell_type": "markdown",
   "metadata": {},
   "source": [
    "Once you’ve developed a satisfactory model configuration, you can train your\n",
    " final production model on all the available data (training and validation) and evaluate it one last time on the test set"
   ]
  },
  {
   "cell_type": "markdown",
   "metadata": {},
   "source": [
    "## 6.3 Deploy the model"
   ]
  },
  {
   "cell_type": "markdown",
   "metadata": {},
   "source": [
    "### 6.3.1 Explain your work to stakeholders and set expectations"
   ]
  },
  {
   "cell_type": "markdown",
   "metadata": {},
   "source": [
    "The expectations of non-specialists towards AI systems are often unrealistic\n",
    "\n",
    "You should clearly convey model performance expectations. \n",
    "\n",
    "Avoid using abstract statements\n",
    "like “The model has 98% accuracy” (which most people mentally round up to 100%), and prefer talking\n",
    "\n",
    "You should also make sure to discuss with stakeholders the choice of key launch parameters,Such decisions involve trade-offs that can only be handled with a deep understanding of the business context."
   ]
  },
  {
   "cell_type": "markdown",
   "metadata": {},
   "source": [
    "### 6.3.2  Ship an inference model"
   ]
  },
  {
   "cell_type": "markdown",
   "metadata": {},
   "source": [
    "First, you may want to export your model to something other than Python:\n",
    "\n",
    "+ Your production environment may not support Python at all—for instance, if\n",
    "it’s a mobile app or an embedded system.\n",
    "\n",
    "+ If the rest of the app isn’t in Python (it could be in JavaScript, C++, etc.), the use\n",
    "of Python to serve a model may induce significant overhead."
   ]
  },
  {
   "cell_type": "markdown",
   "metadata": {},
   "source": [
    "Second, since your production model will only be used to output predictions (a phase\n",
    "called inference), rather than for training, you have room to perform various optimizations that can make the model faster and reduce its memory footprint"
   ]
  },
  {
   "cell_type": "markdown",
   "metadata": {},
   "source": [
    "#### Deploying a model as a REST API"
   ]
  },
  {
   "cell_type": "markdown",
   "metadata": {},
   "source": [
    "This is perhaps the common way to turn a model into a product: install TensorFlow on\n",
    "a server or cloud instance, and query the model’s predictions via a REST API\n"
   ]
  },
  {
   "cell_type": "markdown",
   "metadata": {},
   "source": [
    "You should use this deployment setup when\n",
    "\n",
    "1. The application that will consume the model’s prediction will have reliable\n",
    "access to the internet (obviously). For instance, if your application is a mobile\n",
    "app, serving predictions from a remote API means that the application won’t be\n",
    "usable in airplane mode or in a low-connectivity environment.\n",
    "\n",
    "2. The application does not have strict latency requirements: the request, inference, and answer round trip will typically take around 500 ms.\n",
    "\n",
    "3. The input data sent for inference is not highly sensitive: the data will need to\n",
    "be available on the server in a decrypted form, since it will need to be seen by\n",
    "the model (but note that you should use SSL encryption for the HTTP request\n",
    "and answer)."
   ]
  },
  {
   "cell_type": "markdown",
   "metadata": {},
   "source": [
    "An important question when deploying a model as a REST API is whether you\n",
    " want to host the code on your own, or whether you want to use a fully managed third party cloud service."
   ]
  },
  {
   "cell_type": "markdown",
   "metadata": {},
   "source": [
    "#### DEPLOYING A MODEL ON A DEVICE"
   ]
  },
  {
   "cell_type": "markdown",
   "metadata": {},
   "source": [
    " You should use this setup when\n",
    "+ Your model has strict latency constraints or needs to run in a low-connectivity\n",
    "environment. If you’re building an immersive augmented reality application,\n",
    "querying a remote server is not a viable option.\n",
    "\n",
    "+ Your model can be made sufficiently small that it can run under the memory and\n",
    "power constraints of the target device. You can use the TensorFlow Model Opti\u0002mization Toolkit to help with this (www.tensorflow.org/model_optimization).\n",
    "\n",
    "+ Getting the highest possible accuracy isn’t mission critical for your task. There\n",
    "is always a trade-off between runtime efficiency and accuracy, so memory and\n",
    "power constraints often require you to ship a model that isn’t quite as good as\n",
    "the best model you could run on a large GPU.\n",
    "\n",
    "+ The input data is strictly sensitive and thus shouldn’t be decryptable on a\n",
    "remote server."
   ]
  },
  {
   "cell_type": "markdown",
   "metadata": {},
   "source": [
    " To deploy a Keras model on a smartphone or embedded device, your go-to solution\n",
    "is TensorFlow Lite (www.tensorflow.org/lite)."
   ]
  },
  {
   "cell_type": "markdown",
   "metadata": {},
   "source": [
    "#### DEPLOYING A MODEL IN THE BROWSER"
   ]
  },
  {
   "cell_type": "markdown",
   "metadata": {},
   "source": [
    "While it is usually possible to have the application query a remote model via a REST\n",
    "API, there can be key advantages in having the model run directly in the browser, on\n",
    "the user’s computer (utilizing GPU resources if they’re available).\n",
    " Use this setup when\n",
    "\n",
    "+ You want to offload compute to the end user, which can dramatically reduce\n",
    "server costs.\n",
    "\n",
    "+ The input data needs to stay on the end user’s computer or phone. For\n",
    "instance, in our spam detection project, the web version and the desktop version of the chat app (implemented as a cross-platform app written in JavaScript) should use a locally run model.\n",
    "\n",
    "+ Your application has strict latency constraints. While a model running on the end\n",
    "user’s laptop or smartphone is likely to be slower than one running on a large\n",
    "GPU on your own server, you don’t have the extra 100 ms of network round trip.\n",
    "\n",
    "+ You need your app to keep working without connectivity, after the model has\n",
    "been downloaded and cached."
   ]
  },
  {
   "cell_type": "markdown",
   "metadata": {},
   "source": [
    "You should only go with this option if your model is small enough that it won’t hog the\n",
    " CPU, GPU, or RAM of your user’s laptop or smartphone.\n",
    " \n",
    "In addition, since the entire\n",
    " model will be downloaded to the user’s device, you should make sure that nothing\n",
    " about the model needs to stay confidential."
   ]
  },
  {
   "cell_type": "markdown",
   "metadata": {},
   "source": [
    "To deploy a model in JavaScript, the TensorFlow ecosystem includes TensorFlow.js\n",
    " (www.tensorflow.org/js), a JavaScript library for deep learning that implements\n",
    " almost all of the Keras API (originally developed under the working name WebKeras)\n",
    " as well as many lower-level TensorFlow APIs."
   ]
  },
  {
   "cell_type": "markdown",
   "metadata": {},
   "source": [
    "#### INFERENCE MODEL OPTIMIZATION"
   ]
  },
  {
   "cell_type": "markdown",
   "metadata": {},
   "source": [
    "You should\n",
    "always seek to optimize your model before importing into TensorFlow.js or exporting\n",
    "it to TensorFlow Lite.\n",
    " There are two popular optimization techniques you can apply:\n",
    "\n",
    "\n",
    "1. Weight pruning—Not every coefficient in a weight tensor contributes equally to\n",
    "the predictions. It’s possible to considerably lower the number of parameters\n",
    "in the layers of your model by only keeping the most significant ones. This\n",
    "reduces the memory and compute footprint of your model, at a small cost in\n",
    "performance metrics. By deciding how much pruning you want to apply, you\n",
    "are in control of the trade-off between size and accuracy.\n",
    "\n",
    "\n",
    "2. Weight quantization—Deep learning models are trained with single-precision\n",
    "floating-point (float32) weights. However, it’s possible to quantize weights to\n",
    "8-bit signed integers (int8) to get an inference-only model that’s a quarter the\n",
    "size but remains near the accuracy of the original model."
   ]
  },
  {
   "cell_type": "markdown",
   "metadata": {},
   "source": [
    "### 6.3.3 Monitor your model in the wild"
   ]
  },
  {
   "cell_type": "markdown",
   "metadata": {},
   "source": [
    "Even this is not the end. Once you’ve deployed a model, you need to keep monitoring its behavior, its performance on new data, its interaction with the rest of the application, and its eventual impact on business metrics.\n",
    "\n",
    "\n",
    "+ Is user engagement in your online radio up or down after deploying the new\n",
    "music recommender system? Has the average ad click-through rate increased\n",
    "after switching to the new click-through-rate prediction model? Consider using\n",
    "randomized A/B testing to isolate the impact of the model itself from other\n",
    "changes: a subset of cases should go through the new model, while another\n",
    "control subset should stick to the old process. Once sufficiently many cases have\n",
    "been processed, the difference in outcomes between the two is likely attributable to the model.\n",
    "\n",
    "\n",
    "+ If possible, do a regular manual audit of the model’s predictions on production\n",
    "data. It’s generally possible to reuse the same infrastructure as for data annotation:\n",
    "send some fraction of the production data to be manually annotated, and compare the model’s predictions to the new annotations. For instance, you should\n",
    "definitely do this for the image search engine and the bad-cookie flagging system.\n",
    "\n",
    "\n",
    "+ When manual audits are impossible, consider alternative evaluation avenues\n",
    "such as user surveys (for example, in the case of the spam and offensive-content\n",
    "flagging system)."
   ]
  },
  {
   "cell_type": "markdown",
   "metadata": {},
   "source": [
    "### 6.3.4 Maintia your Model"
   ]
  },
  {
   "cell_type": "markdown",
   "metadata": {},
   "source": [
    "As soon as your model has launched, you should be getting ready to train the next\n",
    "generation that will replace it. As such,\n",
    "\n",
    "+  Watch out for changes in the production data. Are new features becoming available? Should you expand or otherwise edit the label set?\n",
    "\n",
    "+  Keep collecting and annotating data, and keep improving your annotation\n",
    "pipeline over time. In particular, you should pay special attention to collecting\n",
    "samples that seem to be difficult for your current model to classify—such samples are the most likely to help improve performance."
   ]
  },
  {
   "cell_type": "markdown",
   "metadata": {},
   "source": []
  }
 ],
 "metadata": {
  "kernelspec": {
   "display_name": "Python 3.9.11 64-bit",
   "language": "python",
   "name": "python3"
  },
  "language_info": {
   "codemirror_mode": {
    "name": "ipython",
    "version": 3
   },
   "file_extension": ".py",
   "mimetype": "text/x-python",
   "name": "python",
   "nbconvert_exporter": "python",
   "pygments_lexer": "ipython3",
   "version": "3.9.11"
  },
  "orig_nbformat": 4,
  "vscode": {
   "interpreter": {
    "hash": "e450050b432e843bda3c41bf3272c133bfc370a7003f3e377e27f87a49ce1127"
   }
  }
 },
 "nbformat": 4,
 "nbformat_minor": 2
}
