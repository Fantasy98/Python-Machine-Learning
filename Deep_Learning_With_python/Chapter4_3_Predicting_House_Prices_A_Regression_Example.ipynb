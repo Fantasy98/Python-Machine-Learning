{
 "cells": [
  {
   "cell_type": "markdown",
   "metadata": {},
   "source": [
    "## 4.3 Predicting house price: A regression example"
   ]
  },
  {
   "cell_type": "markdown",
   "metadata": {},
   "source": [
    "### 4.3.1 The Boston housing price dataset"
   ]
  },
  {
   "cell_type": "markdown",
   "metadata": {},
   "source": [
    "In this section, we’ll attempt to predict the median price of homes in a given Boston\n",
    "suburb in the mid-1970s, given data points about the suburb at the time, such as the\n",
    "crime rate, the local property tax rate, and so on\n",
    "\n",
    "\n",
    "+ It has relatively few data points: only\n",
    "506, split between 404 training samples and 102 test samples. \n",
    "\n",
    "+ And each feature in the\n",
    "input data (for example, the crime rate) has a different scale. "
   ]
  },
  {
   "cell_type": "markdown",
   "metadata": {},
   "source": [
    "Listing 4.23 Loading the Boston Housing dataset"
   ]
  },
  {
   "cell_type": "code",
   "execution_count": 65,
   "metadata": {},
   "outputs": [],
   "source": [
    "from tensorflow import keras\n",
    "from keras.datasets import boston_housing\n",
    "(train_data,train_targets),(test_data,test_targets) = boston_housing.load_data()"
   ]
  },
  {
   "cell_type": "code",
   "execution_count": 66,
   "metadata": {},
   "outputs": [
    {
     "name": "stdout",
     "output_type": "stream",
     "text": [
      "(404, 13)\n",
      "(102, 13)\n"
     ]
    }
   ],
   "source": [
    "print(train_data.shape)\n",
    "print(test_data.shape)"
   ]
  },
  {
   "cell_type": "code",
   "execution_count": 67,
   "metadata": {},
   "outputs": [
    {
     "name": "stdout",
     "output_type": "stream",
     "text": [
      "(404,)\n",
      "[15.2 42.3 50.  21.1 17.7 18.5 11.3 15.6 15.6 14.4]\n"
     ]
    }
   ],
   "source": [
    "print(train_targets.shape)\n",
    "print(train_targets[:10])\n"
   ]
  },
  {
   "cell_type": "markdown",
   "metadata": {},
   "source": [
    "### 4.3.2 Preparing the data"
   ]
  },
  {
   "cell_type": "markdown",
   "metadata": {},
   "source": [
    "It would be problematic to feed into a neural network values that all take wildly different ranges. The model might be able to automatically adapt to such heterogeneous\n",
    "data, but it would definitely make learning more difficult."
   ]
  },
  {
   "cell_type": "markdown",
   "metadata": {},
   "source": [
    "Listing 4.24 Normalizing the data"
   ]
  },
  {
   "cell_type": "code",
   "execution_count": 68,
   "metadata": {},
   "outputs": [],
   "source": [
    "import numpy as np\n",
    "mean = train_data.mean(axis=0)\n",
    "train_data -= mean\n",
    "\n",
    "std = train_data.std(axis=0)\n",
    "train_data /= std\n",
    "\n",
    "test_data -= mean\n",
    "test_data /= std\n"
   ]
  },
  {
   "cell_type": "markdown",
   "metadata": {},
   "source": [
    "### 4.3.3 Building the model"
   ]
  },
  {
   "cell_type": "markdown",
   "metadata": {},
   "source": [
    "Because so few samples are available, we’ll use a very small model with two intermediate layers, each with 64 units. \n",
    "\n",
    "In general, the less training data you have, the worse\n",
    "overfitting will be, and using a small model is one way to mitigate overfitting."
   ]
  },
  {
   "cell_type": "code",
   "execution_count": 69,
   "metadata": {},
   "outputs": [],
   "source": [
    "from keras import layers \n",
    "def build_model():\n",
    "\n",
    "    model = keras.Sequential([\n",
    "                            layers.Dense(64,activation='relu'),\n",
    "                            layers.Dense(64,activation='relu'),\n",
    "                            layers.Dense(1)\n",
    "                        ])\n",
    "    \n",
    "    model.compile(optimizer=keras.optimizers.RMSprop(),\n",
    "                loss = keras.losses.MeanSquaredError(),\n",
    "                metrics = ['mae'])\n",
    "    \n",
    "    return model\n",
    "\n"
   ]
  },
  {
   "cell_type": "markdown",
   "metadata": {},
   "source": [
    "The model ends with a single unit and no activation (it will be a linear layer). \n",
    "\n",
    "This is a typical setup for scalar regression (a regression where you’re trying to predict a single\n",
    "continuous value). \n",
    "\n",
    "Applying an activation function would constrain the range the output can take"
   ]
  },
  {
   "cell_type": "markdown",
   "metadata": {},
   "source": [
    "+ Note that we compile the model with the mse loss function—mean squared error(MSE), the\n",
    "square of the difference between the predictions and the targets. This is a widely used\n",
    "loss function for regression problems\n",
    "\n",
    "+ We’re also monitoring a new metric during training: mean absolute error (MAE). It’s the absolute value of the difference between the predictions and the targets. For instance, an\n",
    "MAE of 0.5 on this problem would mean your predictions are off by $500 on average."
   ]
  },
  {
   "cell_type": "markdown",
   "metadata": {},
   "source": [
    "### 4.3.4 Validating your approach using K-fold validation"
   ]
  },
  {
   "cell_type": "markdown",
   "metadata": {},
   "source": [
    "Because we have so few data points, the validation set would end up being very small (for instance, about 100 examples). \n",
    "\n",
    "As a consequence, the validation scores might change a lot depending on which data\n",
    "points we chose for validation and which we chose for training:\n",
    "\n",
    "Might have a high variance with regard to the validation split. This would prevent us\n",
    "from reliably evaluating our model"
   ]
  },
  {
   "cell_type": "markdown",
   "metadata": {},
   "source": [
    "K-fold cross-validation consists of splitting the available data into K partitions (typically K = 4 or 5), instantiating K identical models, and training each one on K – 1 partitions while evaluating\n",
    "on the remaining partition. The validation score for the model used is then the average of the K validation scores obtained. In terms of code, this is straightforward"
   ]
  },
  {
   "cell_type": "code",
   "execution_count": 70,
   "metadata": {},
   "outputs": [
    {
     "name": "stdout",
     "output_type": "stream",
     "text": [
      "Processing fold\t0\n",
      "Processing fold\t1\n",
      "Processing fold\t2\n",
      "Processing fold\t3\n"
     ]
    }
   ],
   "source": [
    "k = 4 \n",
    "num_val_samples = len(train_data)//k\n",
    "num_epochs = 100\n",
    "all_scores = []\n",
    "\n",
    "for i in range(k):\n",
    "    print(\"Processing fold\\t{}\".format(i))\n",
    "    val_data = train_data[i*num_val_samples:(i+1)*num_val_samples]\n",
    "    val_targets = train_targets[i*num_val_samples:(i+1)*num_val_samples]\n",
    "    partial_train_data = np.concatenate(\n",
    "                                        [train_data[:i*num_val_samples],\n",
    "                                         train_data[(i+1)*num_val_samples:]  ]\n",
    "                                         ,axis=0\n",
    "                                        )\n",
    "    partial_train_targets = np.concatenate(\n",
    "                                        [train_targets[:i*num_val_samples],\n",
    "                                         train_targets[(i+1)*num_val_samples:]  ]\n",
    "                                         ,axis=0\n",
    "                                        )\n",
    "    model = build_model()\n",
    "    model.fit( partial_train_data,partial_train_targets,epochs=num_epochs,batch_size=16,verbose=0  )\n",
    "    ## The verbose here control the display of epochs, if set verbose = 0 ,there will be nothing to show on screen\n",
    "    val_mse,val_mae = model.evaluate(val_data,val_targets,verbose=0)\n",
    "    all_scores.append(val_mae) "
   ]
  },
  {
   "cell_type": "code",
   "execution_count": 71,
   "metadata": {},
   "outputs": [
    {
     "data": {
      "text/plain": [
       "[1.7854384183883667, 2.598708152770996, 2.556169033050537, 2.4664270877838135]"
      ]
     },
     "execution_count": 71,
     "metadata": {},
     "output_type": "execute_result"
    }
   ],
   "source": [
    "all_scores"
   ]
  },
  {
   "cell_type": "code",
   "execution_count": 72,
   "metadata": {},
   "outputs": [
    {
     "data": {
      "text/plain": [
       "2.3516856729984283"
      ]
     },
     "execution_count": 72,
     "metadata": {},
     "output_type": "execute_result"
    }
   ],
   "source": [
    "np.mean(all_scores)"
   ]
  },
  {
   "cell_type": "markdown",
   "metadata": {},
   "source": [
    "The different runs do indeed show rather different validation scores, from 2.1 to 3.1.\n",
    "The average (2.6) is a much more reliable metric than any single score—that’s the\n",
    "entire point of K-fold cross-validation. \n",
    "\n",
    "In this case, we’re off by $2,600 on average,\n",
    "which is significant considering that the prices range from $10,000 to $50,000"
   ]
  },
  {
   "cell_type": "markdown",
   "metadata": {},
   "source": [
    "Let’s try training the model a bit longer: 500 epochs. \n",
    "\n",
    "To keep a record of how well\n",
    "the model does at each epoch, we’ll modify the training loop to save the per-epoch\n",
    "validation score log for each fold."
   ]
  },
  {
   "cell_type": "code",
   "execution_count": 73,
   "metadata": {},
   "outputs": [
    {
     "name": "stdout",
     "output_type": "stream",
     "text": [
      "Processing fold\t0\n",
      "Processing fold\t1\n",
      "Processing fold\t2\n",
      "Processing fold\t3\n"
     ]
    }
   ],
   "source": [
    "k = 4 \n",
    "num_val_samples = len(train_data)//k\n",
    "num_epochs = 500\n",
    "all_mae_histories = []\n",
    "\n",
    "for i in range(k):\n",
    "    print(\"Processing fold\\t{}\".format(i))\n",
    "    val_data = train_data[i*num_val_samples:(i+1)*num_val_samples]\n",
    "    val_targets = train_targets[i*num_val_samples:(i+1)*num_val_samples]\n",
    "    partial_train_data = np.concatenate(\n",
    "                                        [train_data[:i*num_val_samples],\n",
    "                                         train_data[(i+1)*num_val_samples:]  ]\n",
    "                                         ,axis=0\n",
    "                                        )\n",
    "    partial_train_targets = np.concatenate(\n",
    "                                        [train_targets[:i*num_val_samples],\n",
    "                                         train_targets[(i+1)*num_val_samples:]  ]\n",
    "                                         ,axis=0\n",
    "                                        )\n",
    "    model = build_model()\n",
    "    history = model.fit( partial_train_data,partial_train_targets,epochs=num_epochs,batch_size=16,verbose=0  )\n",
    "    ## The verbose here control the display of epochs, if set verbose = 0 ,there will be nothing to show on screen\n",
    "    mae_history = history.history['mae']\n",
    "    all_mae_histories.append(mae_history)"
   ]
  },
  {
   "cell_type": "markdown",
   "metadata": {},
   "source": [
    "Listing 4.28 Building the history of successive mean K-fold validation scores"
   ]
  },
  {
   "cell_type": "code",
   "execution_count": 74,
   "metadata": {},
   "outputs": [
    {
     "data": {
      "text/plain": [
       "(4, 500)"
      ]
     },
     "execution_count": 74,
     "metadata": {},
     "output_type": "execute_result"
    }
   ],
   "source": [
    "np.array(all_mae_histories).shape\n"
   ]
  },
  {
   "cell_type": "code",
   "execution_count": 75,
   "metadata": {},
   "outputs": [
    {
     "name": "stdout",
     "output_type": "stream",
     "text": [
      "(500,)\n",
      "500\n"
     ]
    }
   ],
   "source": [
    "average_mae_history = [\n",
    "                        np.mean(  [ x[i] for x in all_mae_histories] )for i in range(num_epochs)   ] \n",
    "\n",
    "print(np.array(average_mae_history).shape)\n",
    "\n",
    "print(len(average_mae_history))"
   ]
  },
  {
   "cell_type": "markdown",
   "metadata": {},
   "source": [
    "The average_mae_history is calculate the 4 mae value of 4 times folds at each epochs "
   ]
  },
  {
   "cell_type": "markdown",
   "metadata": {},
   "source": [
    "Listing 4.29 Plotting validation scores"
   ]
  },
  {
   "cell_type": "code",
   "execution_count": 76,
   "metadata": {},
   "outputs": [
    {
     "data": {
      "text/plain": [
       "Text(0, 0.5, 'Validation MAE')"
      ]
     },
     "execution_count": 76,
     "metadata": {},
     "output_type": "execute_result"
    },
    {
     "data": {
      "image/png": "[encoded data removed]",
      "text/plain": [
       "<Figure size 432x288 with 1 Axes>"
      ]
     },
     "metadata": {
      "needs_background": "light"
     },
     "output_type": "display_data"
    }
   ],
   "source": [
    "from matplotlib import pyplot as plt \n",
    "\n",
    "plt.plot(range(1,len(average_mae_history)+1),average_mae_history   )\n",
    "plt.xlabel(\"Epochs\")\n",
    "plt.ylabel('Validation MAE')\n"
   ]
  },
  {
   "cell_type": "markdown",
   "metadata": {},
   "source": [
    "Listing 4.30 Plotting validation scores, excluding first 10 data points"
   ]
  },
  {
   "cell_type": "code",
   "execution_count": 77,
   "metadata": {},
   "outputs": [
    {
     "data": {
      "text/plain": [
       "Text(0, 0.5, 'Validation MAE')"
      ]
     },
     "execution_count": 77,
     "metadata": {},
     "output_type": "execute_result"
    },
    {
     "data": {
      "image/png": "[encoded data removed]",
      "text/plain": [
       "<Figure size 432x288 with 1 Axes>"
      ]
     },
     "metadata": {
      "needs_background": "light"
     },
     "output_type": "display_data"
    }
   ],
   "source": [
    "plt.clf()\n",
    "truncated_mae_history = average_mae_history[10:]\n",
    "plt.plot(range(1,len(truncated_mae_history)+1),truncated_mae_history   )\n",
    "plt.xlabel(\"Epochs\")\n",
    "plt.ylabel('Validation MAE')"
   ]
  },
  {
   "cell_type": "markdown",
   "metadata": {},
   "source": [
    "As you can see in figure 4.10, validation MAE stops improving significantly after\n",
    "120–140 epochs (this number includes the 10 epochs we omitted). Past that point,\n",
    "we start overfitting."
   ]
  },
  {
   "cell_type": "markdown",
   "metadata": {},
   "source": [
    "Listing 4.31 Training the final model"
   ]
  },
  {
   "cell_type": "code",
   "execution_count": 78,
   "metadata": {},
   "outputs": [
    {
     "name": "stdout",
     "output_type": "stream",
     "text": [
      "4/4 [==============================] - 0s 1ms/step - loss: 15.4744 - mae: 2.6792\n"
     ]
    }
   ],
   "source": [
    "model = build_model()\n",
    "model.fit(train_data,train_targets,epochs=130,batch_size=16,verbose=0)\n",
    "\n",
    "test_mse_score,test_mae_score = model.evaluate(test_data,test_targets)\n",
    " "
   ]
  },
  {
   "cell_type": "code",
   "execution_count": 79,
   "metadata": {},
   "outputs": [
    {
     "data": {
      "text/plain": [
       "2.679205894470215"
      ]
     },
     "execution_count": 79,
     "metadata": {},
     "output_type": "execute_result"
    }
   ],
   "source": [
    "test_mae_score"
   ]
  },
  {
   "cell_type": "markdown",
   "metadata": {},
   "source": [
    "### 4.3.5 Generating prediction on new data"
   ]
  },
  {
   "cell_type": "markdown",
   "metadata": {},
   "source": [
    "When calling predict() on our binary classification model, we retrieved a scalar score\n",
    "between 0 and 1 for each input sample. With our multiclass classification model, we\n",
    "retrieved a probability distribution over all classes for each sample. Now, with this scalar regression model, predict() returns the model’s guess for the sample’s price in\n",
    "thousands of dollars"
   ]
  },
  {
   "cell_type": "code",
   "execution_count": 80,
   "metadata": {},
   "outputs": [
    {
     "name": "stdout",
     "output_type": "stream",
     "text": [
      "4/4 [==============================] - 0s 1ms/step\n"
     ]
    },
    {
     "data": {
      "text/plain": [
       "array([8.01618], dtype=float32)"
      ]
     },
     "execution_count": 80,
     "metadata": {},
     "output_type": "execute_result"
    }
   ],
   "source": [
    "predictions = model.predict(test_data)\n",
    "predictions[0]"
   ]
  },
  {
   "cell_type": "markdown",
   "metadata": {},
   "source": [
    "### 4.3.6 Wrapping up"
   ]
  },
  {
   "cell_type": "markdown",
   "metadata": {},
   "source": [
    "1. Regression is done using different loss functions than we used for classification.\n",
    "Mean squared error (MSE) is a loss function commonly used for regression.\n",
    "\n",
    "2. Similarly, evaluation metrics to be used for regression differ from those used for\n",
    "classification; naturally, the concept of accuracy doesn’t apply for regression. A\n",
    "common regression metric is mean absolute error (MAE)\n",
    "\n",
    "3. When features in the input data have values in different ranges, each feature\n",
    "should be scaled independently as a preprocessing step.\n",
    "\n",
    "4. When there is little data available, using K-fold validation is a great way to reliably evaluate a model\n",
    "\n",
    "5. When little training data is available, it’s preferable to use a small model with few\n",
    "intermediate layers (typically only one or two), in order to avoid severe overfitting"
   ]
  },
  {
   "cell_type": "markdown",
   "metadata": {},
   "source": []
  }
 ],
 "metadata": {
  "kernelspec": {
   "display_name": "Python 3.9.11 64-bit",
   "language": "python",
   "name": "python3"
  },
  "language_info": {
   "codemirror_mode": {
    "name": "ipython",
    "version": 3
   },
   "file_extension": ".py",
   "mimetype": "text/x-python",
   "name": "python",
   "nbconvert_exporter": "python",
   "pygments_lexer": "ipython3",
   "version": "3.9.11"
  },
  "orig_nbformat": 4,
  "vscode": {
   "interpreter": {
    "hash": "e450050b432e843bda3c41bf3272c133bfc370a7003f3e377e27f87a49ce1127"
   }
  }
 },
 "nbformat": 4,
 "nbformat_minor": 2
}
