{
 "cells": [
  {
   "cell_type": "markdown",
   "metadata": {},
   "source": [
    "# Chapter 5 Fundamentals of Machine Learning "
   ]
  },
  {
   "cell_type": "markdown",
   "metadata": {},
   "source": [
    "## 5.1 Generalization : The goal of machine leraning"
   ]
  },
  {
   "cell_type": "markdown",
   "metadata": {},
   "source": [
    "The fundamental issue in machine learning is the tension between optimization\n",
    "and generalization. \n",
    "\n",
    "+ Optimization refers to the process of adjusting a model to get the\n",
    "best performance possible on the training data (the learning in machine learning),\n",
    "\n",
    "+ Generalization refers to how well the trained model performs on data it has\n",
    "never seen before"
   ]
  },
  {
   "cell_type": "markdown",
   "metadata": {},
   "source": [
    "### 5.1.1 Overfitting and Underfitting "
   ]
  },
  {
   "cell_type": "markdown",
   "metadata": {},
   "source": [
    "Overfitting is particularly likely to occur when your dataset is nosiy, if it involves uncertainty. or it is includes rare featurs"
   ]
  },
  {
   "cell_type": "markdown",
   "metadata": {},
   "source": [
    "+ NOISY TRAINING DATA\n",
    "\n",
    "+ AMBIGUOUS FEATURES\n",
    "\n",
    "+ RARE FEATURES AND SPURIOUS CORRELATIONS"
   ]
  },
  {
   "cell_type": "markdown",
   "metadata": {},
   "source": [
    " Here’s a striking example. Take MNIST. Create a new training set by concatenating\n",
    "784 white noise dimensions to the existing 784 dimensions of the data, so half of the\n",
    "data is now noise. \n",
    "\n",
    "For comparison, also create an equivalent dataset by concatenating\n",
    "784 all-zeros dimensions."
   ]
  },
  {
   "cell_type": "markdown",
   "metadata": {},
   "source": [
    "Listing 5.1  Adding white noise channels or all-zeros channels to MNIST"
   ]
  },
  {
   "cell_type": "code",
   "execution_count": 2,
   "metadata": {},
   "outputs": [],
   "source": [
    "from tensorflow import keras\n",
    "from keras.datasets import mnist \n",
    "import numpy as np\n",
    "(train_images,train_labels),_ = mnist.load_data()\n",
    "\n",
    "train_images = train_images.reshape((60000,28*28))\n",
    "train_images = train_images.astype('float32')/255\n",
    "\n",
    "train_images_with_noise_channels = np.concatenate( \n",
    "                                                   [train_images,np.random.random((len(train_images),784))],\n",
    "                                                   axis=1\n",
    "   )\n",
    "\n",
    "train_images_with_zeros_channels = np.concatenate( \n",
    "                                                   [train_images,np.zeros((len(train_images),784))],\n",
    "                                                   axis=1\n",
    "   )"
   ]
  },
  {
   "cell_type": "markdown",
   "metadata": {},
   "source": [
    "Listing 5.2 Training the same model on MNIST data with noise channels or all-zero channels"
   ]
  },
  {
   "cell_type": "code",
   "execution_count": 5,
   "metadata": {},
   "outputs": [],
   "source": [
    "from keras import layers\n",
    "\n",
    "def get_model():\n",
    "    model = keras.Sequential([ \n",
    "        layers.Dense(512,activation='relu'),\n",
    "        layers.Dense(10,activation='softmax')\n",
    "    ])\n",
    "\n",
    "    model.compile( optimizer = keras.optimizers.RMSprop(),\n",
    "                    loss = keras.losses.SparseCategoricalCrossentropy(),\n",
    "                    metrics = ['accuracy']    \n",
    "                         )\n",
    "    return model"
   ]
  },
  {
   "cell_type": "code",
   "execution_count": 6,
   "metadata": {},
   "outputs": [
    {
     "name": "stdout",
     "output_type": "stream",
     "text": [
      "Epoch 1/10\n",
      "375/375 [==============================] - 4s 11ms/step - loss: 0.6220 - accuracy: 0.8111 - val_loss: 0.3524 - val_accuracy: 0.8888\n",
      "Epoch 2/10\n",
      "375/375 [==============================] - 4s 10ms/step - loss: 0.2489 - accuracy: 0.9223 - val_loss: 0.1978 - val_accuracy: 0.9397\n",
      "Epoch 3/10\n",
      "375/375 [==============================] - 4s 10ms/step - loss: 0.1594 - accuracy: 0.9500 - val_loss: 0.1896 - val_accuracy: 0.9405\n",
      "Epoch 4/10\n",
      "375/375 [==============================] - 4s 10ms/step - loss: 0.1136 - accuracy: 0.9641 - val_loss: 0.1193 - val_accuracy: 0.9639\n",
      "Epoch 5/10\n",
      "375/375 [==============================] - 4s 11ms/step - loss: 0.0823 - accuracy: 0.9735 - val_loss: 0.1276 - val_accuracy: 0.9654\n",
      "Epoch 6/10\n",
      "375/375 [==============================] - 4s 9ms/step - loss: 0.0598 - accuracy: 0.9812 - val_loss: 0.1154 - val_accuracy: 0.9653\n",
      "Epoch 7/10\n",
      "375/375 [==============================] - 4s 10ms/step - loss: 0.0449 - accuracy: 0.9857 - val_loss: 0.1789 - val_accuracy: 0.9506\n",
      "Epoch 8/10\n",
      "375/375 [==============================] - 4s 10ms/step - loss: 0.0338 - accuracy: 0.9887 - val_loss: 0.1197 - val_accuracy: 0.9685\n",
      "Epoch 9/10\n",
      "375/375 [==============================] - 4s 10ms/step - loss: 0.0254 - accuracy: 0.9922 - val_loss: 0.1256 - val_accuracy: 0.9714\n",
      "Epoch 10/10\n",
      "375/375 [==============================] - 4s 10ms/step - loss: 0.0201 - accuracy: 0.9935 - val_loss: 0.1496 - val_accuracy: 0.9672\n"
     ]
    }
   ],
   "source": [
    "model = get_model()\n",
    "history_noise = model.fit(    \n",
    "                            train_images_with_noise_channels,\n",
    "                            train_labels,\n",
    "                            epochs = 10,\n",
    "                            batch_size = 128,\n",
    "                            validation_split = 0.2\n",
    ")\n",
    "\n"
   ]
  },
  {
   "cell_type": "code",
   "execution_count": 7,
   "metadata": {},
   "outputs": [
    {
     "name": "stdout",
     "output_type": "stream",
     "text": [
      "Epoch 1/10\n",
      "375/375 [==============================] - 4s 10ms/step - loss: 0.2855 - accuracy: 0.9169 - val_loss: 0.1571 - val_accuracy: 0.9532\n",
      "Epoch 2/10\n",
      "375/375 [==============================] - 3s 9ms/step - loss: 0.1174 - accuracy: 0.9649 - val_loss: 0.1125 - val_accuracy: 0.9680\n",
      "Epoch 3/10\n",
      "375/375 [==============================] - 4s 9ms/step - loss: 0.0769 - accuracy: 0.9770 - val_loss: 0.0909 - val_accuracy: 0.9726\n",
      "Epoch 4/10\n",
      "375/375 [==============================] - 4s 10ms/step - loss: 0.0564 - accuracy: 0.9839 - val_loss: 0.0824 - val_accuracy: 0.9747\n",
      "Epoch 5/10\n",
      "375/375 [==============================] - 4s 10ms/step - loss: 0.0411 - accuracy: 0.9879 - val_loss: 0.0842 - val_accuracy: 0.9756\n",
      "Epoch 6/10\n",
      "375/375 [==============================] - 4s 10ms/step - loss: 0.0316 - accuracy: 0.9906 - val_loss: 0.0795 - val_accuracy: 0.9783\n",
      "Epoch 7/10\n",
      "375/375 [==============================] - 4s 10ms/step - loss: 0.0233 - accuracy: 0.9930 - val_loss: 0.0918 - val_accuracy: 0.9739\n",
      "Epoch 8/10\n",
      "375/375 [==============================] - 4s 10ms/step - loss: 0.0181 - accuracy: 0.9946 - val_loss: 0.0779 - val_accuracy: 0.9800\n",
      "Epoch 9/10\n",
      "375/375 [==============================] - 4s 10ms/step - loss: 0.0136 - accuracy: 0.9959 - val_loss: 0.0796 - val_accuracy: 0.9794\n",
      "Epoch 10/10\n",
      "375/375 [==============================] - 4s 9ms/step - loss: 0.0102 - accuracy: 0.9973 - val_loss: 0.0796 - val_accuracy: 0.9804\n"
     ]
    }
   ],
   "source": [
    "model = get_model()\n",
    "history_zeros = model.fit(    \n",
    "                            train_images_with_zeros_channels,\n",
    "                            train_labels,\n",
    "                            epochs = 10,\n",
    "                            batch_size = 128,\n",
    "                            validation_split = 0.2\n",
    ")\n"
   ]
  },
  {
   "cell_type": "markdown",
   "metadata": {},
   "source": [
    "Listing 5.3 Plotting a validation accuracy comparison"
   ]
  },
  {
   "cell_type": "code",
   "execution_count": 9,
   "metadata": {},
   "outputs": [
    {
     "data": {
      "image/png": "[encoded data removed]",
      "text/plain": [
       "<Figure size 432x288 with 1 Axes>"
      ]
     },
     "metadata": {
      "needs_background": "light"
     },
     "output_type": "display_data"
    }
   ],
   "source": [
    "accuracy_noise = history_noise.history['val_accuracy']\n",
    "accuracy_zeros = history_zeros.history['val_accuracy']\n",
    "\n",
    "epochs = np.arange(1,len(accuracy_noise)+1)\n",
    "\n",
    "from matplotlib import pyplot as plt\n",
    "plt.plot(epochs,accuracy_noise,'-or',lw = 2.5,label ='Validation Acc of Noise')\n",
    "plt.plot(epochs,accuracy_zeros,'-ob',lw = 2.5,label ='Validation Acc of Zeros')\n",
    "plt.xlabel(\"Epochs\")\n",
    "plt.ylabel(\"Validation Accuracy\")\n",
    "plt.legend()\n",
    "plt.show()"
   ]
  },
  {
   "cell_type": "markdown",
   "metadata": {},
   "source": [
    "Despite the data holding the same information in both cases, the validation accuracy\n",
    "of the model trained with noise channels ends up about one percentage point lower\n",
    "—purely through the influence of spurious correlations."
   ]
  },
  {
   "cell_type": "markdown",
   "metadata": {},
   "source": [
    " Noisy features inevitably lead to overfitting. As such, in cases where you aren’t sure\n",
    "whether the features you have are informative or distracting, it’s common to do feature selection before training."
   ]
  },
  {
   "cell_type": "markdown",
   "metadata": {},
   "source": [
    "### 5.1.2 The nature of generalization in deep learninng"
   ]
  },
  {
   "cell_type": "markdown",
   "metadata": {},
   "source": [
    "A remarkable fact about deep learning models is that they can be trained to fit anything, as long as they have enough representational power"
   ]
  },
  {
   "cell_type": "markdown",
   "metadata": {},
   "source": [
    "Try shuffling the MNIST labels and train a model on that. Even\n",
    "though there is no relationship whatsoever between the inputs and the shuffled\n",
    "labels, the training loss goes down just fine, even with a relatively small model. \n",
    "\n",
    "Naturally, the validation loss does not improve at all over time, since there is no possibility\n",
    "of generalization in this setting"
   ]
  },
  {
   "cell_type": "markdown",
   "metadata": {},
   "source": [
    "Listing 5.4 Fitting an MNIST model with randomly shuffled labels"
   ]
  },
  {
   "cell_type": "code",
   "execution_count": 19,
   "metadata": {},
   "outputs": [],
   "source": [
    "\n",
    "(train_images,train_labels),_ = mnist.load_data()\n",
    "\n",
    "train_images = train_images.reshape((60000,28*28))\n",
    "train_images = train_images.astype('float32')/255\n",
    "\n",
    "random_train_labels = train_labels[:]\n",
    "np.random.shuffle(random_train_labels)\n"
   ]
  },
  {
   "cell_type": "code",
   "execution_count": 22,
   "metadata": {},
   "outputs": [
    {
     "data": {
      "text/plain": [
       "<keras.callbacks.History at 0x18930e10df0>"
      ]
     },
     "execution_count": 22,
     "metadata": {},
     "output_type": "execute_result"
    }
   ],
   "source": [
    "model = keras.Sequential([\n",
    "                        layers.Dense(512,activation='relu'),\n",
    "                        layers.Dense(10,activation='softmax')\n",
    "                            ])\n",
    "\n",
    "model.compile(optimizer=keras.optimizers.RMSprop(),\n",
    "                loss = keras.losses.SparseCategoricalCrossentropy(),\n",
    "                metrics = ['accuracy']\n",
    "                )\n",
    "\n",
    "model.fit(train_images,random_train_labels,epochs=10,batch_size=128,validation_split=0.2,verbose=0)"
   ]
  },
  {
   "cell_type": "markdown",
   "metadata": {},
   "source": [
    "In fact, you don’t even need to do this with MNIST data—you could just generate\n",
    "white noise inputs and random labels. You could fit a model on that, too, as long as it\n",
    "has enough parameters. It would just end up memorizing specific inputs, much like a\n",
    "Python dictionary"
   ]
  },
  {
   "cell_type": "markdown",
   "metadata": {},
   "source": [
    "1. The MANIFOLD HYPOTHESIS\n",
    "    + Machine learning models only have to fit relatively simple, low-dimensional,\n",
    "highly structured subspaces within their potential input space (latent manifolds).\n",
    "\n",
    "    + Within one of these manifolds, it’s always possible to interpolate between two\n",
    " inputs, that is to say, morph one into another via a continuous path along which\n",
    " all points fall on the manifold\n",
    "\n",
    "2. INTERPOLATION AS A SOURCE OF GENERALIZATION\n",
    "    + you can make sense of the totality of the space using only a\n",
    "sample of the space. You can use interpolation to fill in the blanks.\n",
    "\n",
    "    + while deep learning achieves generalization via interpolation on a\n",
    "learned approximation of the data manifold, it would be a mistake to assume that\n",
    "interpolation is all there is to generalization\n",
    "\n",
    "3. WHY DEEP LEARNING WORKS?\n",
    "    + A deep learning model is basically a very high-dimensional curve—a curve that is\n",
    "smooth and continuous (with additional constraints on its structure, originating from\n",
    "model architecture priors), since it needs to be differentiable.\n",
    "\n",
    "    + The curve involves enough parameters that it could fit anything—indeed, if you let\n",
    "your model train for long enough, it will effectively end up purely memorizing its\n",
    "training data and won’t generalize at al\n",
    "\n",
    "    + Deep learning models tend to be structured in a way that mirrors the “shape” of\n",
    "the information in their training data (via architecture priors). More generally, deep neural networks structure their learned representations in a hierarchical and modular way, which echoes the way natural data is organized."
   ]
  },
  {
   "cell_type": "markdown",
   "metadata": {},
   "source": [
    "## 5.2 Evaluating Machine Learning Models"
   ]
  },
  {
   "cell_type": "markdown",
   "metadata": {},
   "source": [
    "### 5.2.1 Training, validation and test sets"
   ]
  },
  {
   "cell_type": "markdown",
   "metadata": {},
   "source": [
    "The central to this phenomenon is the notion of information leaks"
   ]
  },
  {
   "cell_type": "markdown",
   "metadata": {},
   "source": [
    "#### Simple Holdout validation"
   ]
  },
  {
   "cell_type": "markdown",
   "metadata": {},
   "source": [
    "Listing 5.5 Holdout validation (note that labels are omitted for simplicity)"
   ]
  },
  {
   "cell_type": "code",
   "execution_count": 23,
   "metadata": {},
   "outputs": [],
   "source": [
    "def hold_out_validation(data):\n",
    "    num_validation_samples = 10000\n",
    "    np.random.shuffle(data)\n",
    "    validation_data =data[:num_validation_samples]\n",
    "    training_data =data[num_validation_samples:]\n",
    "    model = get_model()\n",
    "    model.fit(training_data,...)\n",
    "    validation_score = model.evaluate(validation_data,...)"
   ]
  },
  {
   "cell_type": "markdown",
   "metadata": {},
   "source": [
    "The Drawback : If little data is available, then your validation and test sets may contain too few samples to be statistically representative of the data at hand."
   ]
  },
  {
   "cell_type": "markdown",
   "metadata": {},
   "source": [
    "#### K-FOLD VALIDATION"
   ]
  },
  {
   "cell_type": "markdown",
   "metadata": {},
   "source": [
    "With this approach, you split your data into K partitions of equal size. For each partition i, train a model on the remaining K - 1 partitions, and evaluate it on partition i.\n",
    "Your final score is then the averages of the K scores obtained"
   ]
  },
  {
   "cell_type": "markdown",
   "metadata": {},
   "source": [
    "Listing 5.6 K-fold cross-validation (note that labels are omitted for simplicity)"
   ]
  },
  {
   "cell_type": "code",
   "execution_count": 24,
   "metadata": {},
   "outputs": [],
   "source": [
    "def K_Fold_CV(data):\n",
    "    k = 3\n",
    "    num_validation_samples = len(data) // k\n",
    "    np.random.shuffle(data)\n",
    "    validation_scores = [] \n",
    "    for fold in range(k):\n",
    "        validation_data = data[num_validation_samples * fold: \n",
    "        num_validation_samples * (fold + 1)] \n",
    "        training_data = np.concatenate( \n",
    "        data[:num_validation_samples * fold], \n",
    "        data[num_validation_samples * (fold + 1):]) \n",
    "    model = get_model() \n",
    "    model.fit(training_data, ...)\n",
    "    validation_score = model.evaluate(validation_data, ...)\n",
    "    validation_scores.append(validation_score)\n",
    "    validation_score = np.average(validation_scores) \n",
    "    model = get_model() \n",
    "    model.fit(data, ...) \n",
    "    test_score = model.evaluate(test_data, ...)"
   ]
  },
  {
   "cell_type": "markdown",
   "metadata": {},
   "source": [
    "Note that you end up training and\n",
    "evaluating P * K models (where P is the number of iterations you use), which can be\n",
    "very expensive"
   ]
  },
  {
   "cell_type": "markdown",
   "metadata": {},
   "source": [
    "### 5.2.2 Beating a common-sense baseline"
   ]
  },
  {
   "cell_type": "markdown",
   "metadata": {},
   "source": [
    "+  Training a deep learning model is a bit like pressing a button that launches a\n",
    "rocket in a parallel world. You can’t hear it or see it. You can’t observe the manifold\n",
    "learning process\n",
    "\n",
    "+  It’s particularly important to be able to tell whether you’re getting off the ground\n",
    "at all.  If you cross that threshold, you’ll know you’re\n",
    "doing something right: your model is actually using the information in the input data\n",
    "to make predictions that generalize, and you can keep going.\n",
    "\n",
    "+  Having a common-sense baseline you can refer to is essential when you’re getting\n",
    "started on a problem no one has solved before."
   ]
  },
  {
   "cell_type": "markdown",
   "metadata": {},
   "source": [
    "### 5.2.3 Things to keep in mind about model evaluation"
   ]
  },
  {
   "cell_type": "markdown",
   "metadata": {},
   "source": [
    "1. Data representativeness—You want both your training set and test set to be representative of the data at hand.\n",
    "\n",
    "\n",
    "2. The arrow of time—If you’re trying to predict the future given the past , you should not randomly shuffle your data before splitting it, because doing so will create a temporal leak: your model will effectively be trained on data from the future\n",
    "\n",
    "\n",
    "3. Redundancy in your data—If some data points in your data appear twice (fairly\n",
    "common with real-world data), then shuffling the data and splitting it into a\n",
    "training set and a validation set will result in redundancy between the training\n",
    "and validation sets"
   ]
  },
  {
   "cell_type": "markdown",
   "metadata": {},
   "source": [
    "## 5.3 Imporving model fit "
   ]
  },
  {
   "cell_type": "markdown",
   "metadata": {},
   "source": [
    "Three common problems : \n",
    "1. Training doesn’t get started: your training loss doesn’t go down over time\n",
    "\n",
    "2. Training gets started just fine, but your model doesn’t meaningfully generalize:\n",
    "you can’t beat the common-sense baseline you set.\n",
    "\n",
    "3. Training and validation loss both go down over time, and you can beat your\n",
    "baseline, but you don’t seem to be able to overfit, which indicates you’re still\n",
    "underfitting."
   ]
  },
  {
   "cell_type": "markdown",
   "metadata": {},
   "source": [
    "### 5.3.1 Turning key gradient descent parameters"
   ]
  },
  {
   "cell_type": "markdown",
   "metadata": {},
   "source": [
    "Sometimes training doesn’t get started, or it stalls too early. Your loss is stuck. This is\n",
    "always something you can overcome: remember that you can fit a model to random\n",
    "data. Even if nothing about your problem makes sense, you should still be able to train\n",
    "something—if only by memorizing the training data"
   ]
  },
  {
   "cell_type": "markdown",
   "metadata": {},
   "source": [
    "Listing 5.7 Training an MNIST model with an incorrectly high learning rate"
   ]
  },
  {
   "cell_type": "code",
   "execution_count": 25,
   "metadata": {},
   "outputs": [
    {
     "name": "stdout",
     "output_type": "stream",
     "text": [
      "Epoch 1/10\n",
      "375/375 [==============================] - 3s 7ms/step - loss: 694.8312 - accuracy: 0.3561 - val_loss: 2.3002 - val_accuracy: 0.1768\n",
      "Epoch 2/10\n",
      "375/375 [==============================] - 2s 6ms/step - loss: 3.9634 - accuracy: 0.2515 - val_loss: 2.0589 - val_accuracy: 0.3262\n",
      "Epoch 3/10\n",
      "375/375 [==============================] - 2s 6ms/step - loss: 4.2352 - accuracy: 0.2515 - val_loss: 2.9600 - val_accuracy: 0.2490\n",
      "Epoch 4/10\n",
      "375/375 [==============================] - 2s 6ms/step - loss: 3.1011 - accuracy: 0.2596 - val_loss: 2.3840 - val_accuracy: 0.2960\n",
      "Epoch 5/10\n",
      "375/375 [==============================] - 3s 7ms/step - loss: 2.7378 - accuracy: 0.2899 - val_loss: 2.8454 - val_accuracy: 0.2708\n",
      "Epoch 6/10\n",
      "375/375 [==============================] - 2s 6ms/step - loss: 2.6944 - accuracy: 0.2710 - val_loss: 2.8771 - val_accuracy: 0.2901\n",
      "Epoch 7/10\n",
      "375/375 [==============================] - 3s 7ms/step - loss: 2.7062 - accuracy: 0.2611 - val_loss: 2.9651 - val_accuracy: 0.2514\n",
      "Epoch 8/10\n",
      "375/375 [==============================] - 2s 6ms/step - loss: 2.3550 - accuracy: 0.2518 - val_loss: 3.6723 - val_accuracy: 0.2670\n",
      "Epoch 9/10\n",
      "375/375 [==============================] - 2s 7ms/step - loss: 2.3335 - accuracy: 0.2512 - val_loss: 2.5892 - val_accuracy: 0.2862\n",
      "Epoch 10/10\n",
      "375/375 [==============================] - 3s 7ms/step - loss: 2.9012 - accuracy: 0.2754 - val_loss: 2.2491 - val_accuracy: 0.2608\n"
     ]
    },
    {
     "data": {
      "text/plain": [
       "<keras.callbacks.History at 0x18930eacee0>"
      ]
     },
     "execution_count": 25,
     "metadata": {},
     "output_type": "execute_result"
    }
   ],
   "source": [
    "(train_images,train_labels),_ = mnist.load_data()\n",
    "train_images = train_images.reshape((60000,28*28))\n",
    "train_images = train_images.astype(\"float32\")/255\n",
    "\n",
    "model = keras.Sequential([ layers.Dense(512,activation='relu'),\n",
    "                            layers.Dense(10,activation='softmax')\n",
    "                             ])\n",
    "\n",
    "model.compile(optimizer=keras.optimizers.RMSprop(learning_rate=1.0),\n",
    "            loss = keras.losses.SparseCategoricalCrossentropy(),\n",
    "            metrics = ['accuracy']\n",
    "                 )\n",
    "\n",
    "model.fit(train_images,train_labels,epochs=10,batch_size=128,validation_split=0.2,verbose=1)"
   ]
  },
  {
   "cell_type": "markdown",
   "metadata": {},
   "source": [
    "Listing 5.8 The same model with a more appropriate learning rate"
   ]
  },
  {
   "cell_type": "code",
   "execution_count": 26,
   "metadata": {},
   "outputs": [
    {
     "name": "stdout",
     "output_type": "stream",
     "text": [
      "Epoch 1/10\n",
      "375/375 [==============================] - 3s 7ms/step - loss: 0.4073 - accuracy: 0.9075 - val_loss: 0.1717 - val_accuracy: 0.9531\n",
      "Epoch 2/10\n",
      "375/375 [==============================] - 2s 6ms/step - loss: 0.1421 - accuracy: 0.9630 - val_loss: 0.1472 - val_accuracy: 0.9665\n",
      "Epoch 3/10\n",
      "375/375 [==============================] - 2s 6ms/step - loss: 0.1157 - accuracy: 0.9723 - val_loss: 0.1764 - val_accuracy: 0.9653\n",
      "Epoch 4/10\n",
      "375/375 [==============================] - 2s 6ms/step - loss: 0.1055 - accuracy: 0.9766 - val_loss: 0.2231 - val_accuracy: 0.9618\n",
      "Epoch 5/10\n",
      "375/375 [==============================] - 2s 6ms/step - loss: 0.0836 - accuracy: 0.9819 - val_loss: 0.2168 - val_accuracy: 0.9659\n",
      "Epoch 6/10\n",
      "375/375 [==============================] - 2s 6ms/step - loss: 0.0822 - accuracy: 0.9837 - val_loss: 0.2316 - val_accuracy: 0.9693\n",
      "Epoch 7/10\n",
      "375/375 [==============================] - 2s 6ms/step - loss: 0.0665 - accuracy: 0.9862 - val_loss: 0.2066 - val_accuracy: 0.9749\n",
      "Epoch 8/10\n",
      "375/375 [==============================] - 2s 7ms/step - loss: 0.0669 - accuracy: 0.9876 - val_loss: 0.2819 - val_accuracy: 0.9712\n",
      "Epoch 9/10\n",
      "375/375 [==============================] - 3s 7ms/step - loss: 0.0664 - accuracy: 0.9886 - val_loss: 0.3855 - val_accuracy: 0.9630\n",
      "Epoch 10/10\n",
      "375/375 [==============================] - 2s 7ms/step - loss: 0.0550 - accuracy: 0.9902 - val_loss: 0.2896 - val_accuracy: 0.9753\n"
     ]
    },
    {
     "data": {
      "text/plain": [
       "<keras.callbacks.History at 0x18930f78fa0>"
      ]
     },
     "execution_count": 26,
     "metadata": {},
     "output_type": "execute_result"
    }
   ],
   "source": [
    "(train_images,train_labels),_ = mnist.load_data()\n",
    "train_images = train_images.reshape((60000,28*28))\n",
    "train_images = train_images.astype(\"float32\")/255\n",
    "\n",
    "model = keras.Sequential([ layers.Dense(512,activation='relu'),\n",
    "                            layers.Dense(10,activation='softmax')\n",
    "                             ])\n",
    "\n",
    "model.compile(optimizer=keras.optimizers.RMSprop(learning_rate=1e-2),\n",
    "            loss = keras.losses.SparseCategoricalCrossentropy(),\n",
    "            metrics = ['accuracy']\n",
    "                 )\n",
    "\n",
    "model.fit(train_images,train_labels,epochs=10,batch_size=128,validation_split=0.2,verbose=1)"
   ]
  },
  {
   "cell_type": "markdown",
   "metadata": {},
   "source": [
    "+ Lowering or increasing the learning rate. A learning rate that is too high may\n",
    "lead to updates that vastly overshoot a proper fit, like in the preceding example,\n",
    "and a learning rate that is too low may make training so slow that it appears\n",
    "to stall.\n",
    "\n",
    "\n",
    "+ Increasing the batch size. A batch with more samples will lead to gradients that\n",
    "are more informative and less noisy (lower variance)."
   ]
  },
  {
   "cell_type": "markdown",
   "metadata": {},
   "source": [
    "### 5.3.2 Leveraging better architecture priors"
   ]
  },
  {
   "cell_type": "markdown",
   "metadata": {},
   "source": [
    "1.  First, it may be that the input data you’re using simply doesn’t contain sufficient\n",
    "information to predict your targets: the problem as formulated is not solvable\n",
    "\n",
    "2.  It may also be that the kind of model you’re using is not suited for the problem at\n",
    "hand."
   ]
  },
  {
   "cell_type": "markdown",
   "metadata": {},
   "source": [
    "### 5.3.3 Increasing model capacity "
   ]
  },
  {
   "cell_type": "markdown",
   "metadata": {},
   "source": [
    "If you manage to get to a model that fits, where validation metrics are going down,\n",
    "and that seems to achieve at least some level of generalization power, congratulations:\n",
    "you’re almost there. Next, you need to get your model to start overfitting."
   ]
  },
  {
   "cell_type": "markdown",
   "metadata": {},
   "source": [
    "Listing 5.9 A simple logistic regression on MNIST"
   ]
  },
  {
   "cell_type": "code",
   "execution_count": 28,
   "metadata": {},
   "outputs": [],
   "source": [
    "model = keras.Sequential([layers.Dense(10,activation='softmax')])\n",
    "model.compile(optimizer=keras.optimizers.RMSprop(),\n",
    "            loss= keras.losses.SparseCategoricalCrossentropy(),\n",
    "            metrics = ['accuracy']\n",
    "                )\n",
    "history_small_model = model.fit(train_images,train_labels,batch_size=128,epochs=20,validation_split=0.2,verbose=0)\n",
    "\n",
    "\n"
   ]
  },
  {
   "cell_type": "code",
   "execution_count": 29,
   "metadata": {},
   "outputs": [],
   "source": [
    "model = keras.Sequential([\n",
    "                            layers.Dense(96,activation='relu'),\n",
    "                            layers.Dense(96,activation='relu'),\n",
    "                            layers.Dense(10,activation='softmax')\n",
    "                            \n",
    "                            ])\n",
    "\n",
    "model.compile(optimizer=keras.optimizers.RMSprop(),\n",
    "            loss= keras.losses.SparseCategoricalCrossentropy(),\n",
    "            metrics = ['accuracy']\n",
    "                )\n",
    "history_large_model = model.fit(train_images,train_labels,batch_size=512,epochs=20,validation_split=0.2,verbose=0)\n",
    "\n",
    "\n"
   ]
  },
  {
   "cell_type": "code",
   "execution_count": 30,
   "metadata": {},
   "outputs": [],
   "source": [
    "val_loss_small = history_small_model.history['val_loss']\n",
    "epochs_small = np.arange(1,len(val_loss_small)+1)\n",
    "val_loss_large = history_large_model.history['val_loss']\n",
    "epochs_large = np.arange(1,len(val_loss_large)+1)"
   ]
  },
  {
   "cell_type": "code",
   "execution_count": 33,
   "metadata": {},
   "outputs": [
    {
     "data": {
      "text/plain": [
       "<matplotlib.legend.Legend at 0x18931bd8220>"
      ]
     },
     "execution_count": 33,
     "metadata": {},
     "output_type": "execute_result"
    },
    {
     "data": {
      "image/png": "[encoded data removed]",
      "text/plain": [
       "<Figure size 432x288 with 1 Axes>"
      ]
     },
     "metadata": {
      "needs_background": "light"
     },
     "output_type": "display_data"
    }
   ],
   "source": [
    "plt.plot(epochs_small,val_loss_small,'-or',lw=2.5,label='val loss small')\n",
    "plt.plot(epochs_large,val_loss_large,'-ob',lw=2.5,label='val loss large')\n",
    "plt.xlabel('Epochs')\n",
    "plt.ylabel('Loss')\n",
    "plt.legend()\n"
   ]
  },
  {
   "cell_type": "markdown",
   "metadata": {},
   "source": [
    "## 5,4 Improving generalization"
   ]
  },
  {
   "cell_type": "markdown",
   "metadata": {},
   "source": [
    "### 5.4.1 Dataset Curation"
   ]
  },
  {
   "cell_type": "markdown",
   "metadata": {},
   "source": [
    "1. Make sure you have enough data. Remember that you need a dense sampling of\n",
    "the input-cross-output space. More data will yield a better model. Sometimes,\n",
    "problems that seem impossible at first become solvable with a larger dataset.\n",
    "\n",
    "2. Minimize labeling errors—visualize your inputs to check for anomalies, and\n",
    "proofread your labels.\n",
    "\n",
    "3. Clean your data and deal with missing values\n",
    "\n",
    "4. If you have many features and you aren’t sure which ones are actually useful, do\n",
    "feature selection."
   ]
  },
  {
   "cell_type": "markdown",
   "metadata": {},
   "source": [
    "### 5.4.2 Feature Engineering"
   ]
  },
  {
   "cell_type": "markdown",
   "metadata": {},
   "source": [
    "+ Good features still allow you to solve problems more elegantly while using fewer\n",
    "resources. For instance, it would be ridiculous to solve the problem of reading a\n",
    "clock face using a convolutional neural network\n",
    "\n",
    "+ Good features let you solve a problem with far less data. The ability of deep\n",
    "learning models to learn features on their own relies on having lots of training\n",
    "data available; if you have only a few samples, the information value in their features becomes critical."
   ]
  },
  {
   "cell_type": "markdown",
   "metadata": {},
   "source": [
    "### 5.4.3 Using early stopping"
   ]
  },
  {
   "cell_type": "markdown",
   "metadata": {},
   "source": [
    "This overparameterization is not an issue, because you never fully fit a\n",
    "deep learning model\n",
    "\n",
    "Finding the exact point during training where you’ve reached the most generalizable fit—the exact boundary between an underfit curve and an overfit curve—is one\n",
    "of the most effective things you can do to improve generalization.\n",
    "\n",
    "Naturally, you could just save your model at the end of each\n",
    "epoch, and once you’ve found the best epoch, reuse the closest saved model you have.\n",
    "\n",
    "\n",
    "In Keras, it’s typical to do this with an EarlyStopping callback, which will interrupt\n",
    "training as soon as validation metrics have stopped improving, while remembering the\n",
    "best known model state."
   ]
  },
  {
   "cell_type": "markdown",
   "metadata": {},
   "source": [
    "### 5.4.4 Regularizing your model"
   ]
  },
  {
   "cell_type": "markdown",
   "metadata": {},
   "source": [
    "Regularization techniques are a set of best practices that actively impede the model’s ability to fit perfectly to the training data, with the goal of making the model perform better during validation."
   ]
  },
  {
   "cell_type": "markdown",
   "metadata": {},
   "source": [
    "#### Reducing the network size"
   ]
  },
  {
   "cell_type": "markdown",
   "metadata": {},
   "source": [
    "You must evaluate an array of different architectures (on\n",
    "your validation set, not on your test set, of course) in order to find the correct model\n",
    "size for your data. \n",
    "\n",
    "The general workflow for finding an appropriate model size is to start\n",
    "with relatively few layers and parameters, and increase the size of the layers or add new\n",
    "layers until you see diminishing returns with regard to validation loss"
   ]
  },
  {
   "cell_type": "markdown",
   "metadata": {},
   "source": [
    "Listing 5.10 Original model"
   ]
  },
  {
   "cell_type": "code",
   "execution_count": 36,
   "metadata": {},
   "outputs": [],
   "source": [
    "from keras.datasets import imdb\n",
    "(train_data,train_labels),_ = imdb.load_data(num_words=10000)\n",
    "\n",
    "def vectorize_sequence(sequnces,dimension = 10000):\n",
    "    results = np.zeros((len(sequnces),dimension ))\n",
    "\n",
    "    for i , sequnce in enumerate(sequnces):\n",
    "        for j in sequnce:\n",
    "            results[i,j] = 1\n",
    "    \n",
    "    return results\n",
    "\n",
    "train_data =vectorize_sequence(train_data)\n"
   ]
  },
  {
   "cell_type": "code",
   "execution_count": 37,
   "metadata": {},
   "outputs": [],
   "source": [
    "model = keras.Sequential([ \n",
    "                        layers.Dense(16,activation='relu'),\n",
    "                        layers.Dense(16,activation='relu'),\n",
    "                        layers.Dense(1,activation='sigmoid')\n",
    "                        ])\n",
    "\n",
    "model.compile(optimizer=keras.optimizers.RMSprop(),\n",
    "               loss = keras.losses.BinaryCrossentropy(),\n",
    "                metrics = ['accuracy']\n",
    "                )\n",
    "\n",
    "history_original = model.fit(train_data,train_labels,epochs=20,batch_size=512,validation_split=0.4,verbose=0)"
   ]
  },
  {
   "cell_type": "markdown",
   "metadata": {},
   "source": [
    "Listing 5.11 Version of the model with lower capacity"
   ]
  },
  {
   "cell_type": "code",
   "execution_count": 38,
   "metadata": {},
   "outputs": [],
   "source": [
    "model = keras.Sequential([ \n",
    "                        layers.Dense(4,activation='relu'),\n",
    "                        layers.Dense(4,activation='relu'),\n",
    "                        layers.Dense(1,activation='sigmoid')\n",
    "                        ])\n",
    "\n",
    "model.compile(optimizer=keras.optimizers.RMSprop(),\n",
    "               loss = keras.losses.BinaryCrossentropy(),\n",
    "                metrics = ['accuracy']\n",
    "                )\n",
    "\n",
    "history_small_model = model.fit(train_data,train_labels,epochs=20,batch_size=512,validation_split=0.4,verbose=0)"
   ]
  },
  {
   "cell_type": "code",
   "execution_count": 39,
   "metadata": {},
   "outputs": [],
   "source": [
    "val_loss_small = history_small_model.history['val_loss']\n",
    "epochs_small = np.arange(1,len(val_loss_small)+1)\n",
    "val_loss_original = history_original.history['val_loss']\n",
    "epochs_original = np.arange(1,len(val_loss_original)+1)"
   ]
  },
  {
   "cell_type": "code",
   "execution_count": 40,
   "metadata": {},
   "outputs": [
    {
     "data": {
      "text/plain": [
       "<matplotlib.legend.Legend at 0x1893ab3e370>"
      ]
     },
     "execution_count": 40,
     "metadata": {},
     "output_type": "execute_result"
    },
    {
     "data": {
      "image/png": "[encoded data removed]",
      "text/plain": [
       "<Figure size 432x288 with 1 Axes>"
      ]
     },
     "metadata": {
      "needs_background": "light"
     },
     "output_type": "display_data"
    }
   ],
   "source": [
    "plt.plot(epochs_small,val_loss_small,'-or',lw=2.5,label='val loss small')\n",
    "plt.plot(epochs_original,val_loss_original,'-ob',lw=2.5,label='val loss original')\n",
    "plt.xlabel('Epochs')\n",
    "plt.ylabel('Loss')\n",
    "plt.legend()\n"
   ]
  },
  {
   "cell_type": "markdown",
   "metadata": {},
   "source": [
    "As you can see, the smaller model starts overfitting later than the reference model\n",
    "(after six epochs rather than four), and its performance degrades more slowly once it\n",
    "starts overfitting.\n",
    "\n",
    "\n",
    "Now, let’s add to our benchmark a model that has much more capacity—far more\n",
    "than the problem warrants.\n",
    "\n",
    "there can definitely be such\n",
    "a thing as too much memorization capacity. \n",
    "\n",
    "You’ll know your model is too large if it\n",
    "starts overfitting right away and if its validation loss curve looks choppy with highvariance (although choppy validation metrics could also be a symptom of using an\n",
    "unreliable validation process, such as a validation split that’s too small)."
   ]
  },
  {
   "cell_type": "markdown",
   "metadata": {},
   "source": [
    "Listing 5.12 Version of the model with higher capacity"
   ]
  },
  {
   "cell_type": "code",
   "execution_count": 41,
   "metadata": {},
   "outputs": [],
   "source": [
    "model = keras.Sequential([ \n",
    "                        layers.Dense(512,activation='relu'),\n",
    "                        layers.Dense(512,activation='relu'),\n",
    "                        layers.Dense(1,activation='sigmoid')\n",
    "                        ])\n",
    "\n",
    "model.compile(optimizer=keras.optimizers.RMSprop(),\n",
    "               loss = keras.losses.BinaryCrossentropy(),\n",
    "                metrics = ['accuracy']\n",
    "                )\n",
    "\n",
    "history_large_model = model.fit(train_data,train_labels,epochs=20,batch_size=512,validation_split=0.4,verbose=0)"
   ]
  },
  {
   "cell_type": "code",
   "execution_count": 42,
   "metadata": {},
   "outputs": [],
   "source": [
    "val_loss_large = history_large_model.history['val_loss']\n",
    "epochs_large = np.arange(1,len(val_loss_large)+1)"
   ]
  },
  {
   "cell_type": "code",
   "execution_count": 44,
   "metadata": {},
   "outputs": [
    {
     "data": {
      "text/plain": [
       "<matplotlib.legend.Legend at 0x18949f0bdc0>"
      ]
     },
     "execution_count": 44,
     "metadata": {},
     "output_type": "execute_result"
    },
    {
     "data": {
      "image/png": "[encoded data removed]",
      "text/plain": [
       "<Figure size 432x288 with 1 Axes>"
      ]
     },
     "metadata": {
      "needs_background": "light"
     },
     "output_type": "display_data"
    }
   ],
   "source": [
    "plt.plot(epochs_small,val_loss_small,'-or',lw=2.5,label='val loss small')\n",
    "plt.plot(epochs_large,val_loss_large,'-og',lw=2.5,label='val loss large')\n",
    "plt.plot(epochs_original,val_loss_original,'-ob',lw=2.5,label='val loss original')\n",
    "plt.xlabel('Epochs')\n",
    "plt.ylabel('Loss')\n",
    "plt.legend()\n"
   ]
  },
  {
   "cell_type": "markdown",
   "metadata": {},
   "source": [
    "#### Adding weight regularization"
   ]
  },
  {
   "cell_type": "markdown",
   "metadata": {},
   "source": [
    "Weight Regularization\n",
    "\n",
    "A simple model in this context is a model where the distribution of parameter values\n",
    "has less entropy (or a model with fewer parameters, as you saw in the previous section). \n",
    "\n",
    "\n",
    "Thus, a common way to mitigate overfitting is to put constraints on the complexity of a model by forcing its weights to take only small values, which makes the distribution of weight values more regular. "
   ]
  },
  {
   "cell_type": "markdown",
   "metadata": {},
   "source": [
    "1.  L1 regularization—The cost added is proportional to the absolute value of the\n",
    "weight coefficients (the L1 norm of the weights).\n",
    "\n",
    "2.  L2 regularization—The cost added is proportional to the square of the value of the\n",
    "weight coefficients (the L2 norm of the weights). L2 regularization is also called\n",
    "weight decay in the context of neural networks. Don’t let the different name confuse you: weight decay is mathematically the same as L2 regularization."
   ]
  },
  {
   "cell_type": "markdown",
   "metadata": {},
   "source": [
    "Listing 5.13 Adding L2 weight regularization to the model"
   ]
  },
  {
   "cell_type": "markdown",
   "metadata": {},
   "source": [
    "In the preceding listing, l2(0.002) means every coefficient in the weight matrix of\n",
    "the layer will add 0.002 * weight_coefficient_value ** 2 to the total loss of the\n",
    "model. \n",
    "\n",
    "\n",
    "Note that because this penalty is only added at training time, the loss for this\n",
    "model will be much higher at training than at test time."
   ]
  },
  {
   "cell_type": "code",
   "execution_count": 45,
   "metadata": {},
   "outputs": [],
   "source": [
    "from keras import regularizers\n",
    "\n",
    "model = keras.Sequential([ \n",
    "                        layers.Dense(16,activation='relu',kernel_regularizer=regularizers.l2(0.002)),\n",
    "                        layers.Dense(16,activation='relu',kernel_regularizer=regularizers.l2(0.002)),\n",
    "                        layers.Dense(1,activation='sigmoid')\n",
    "                        ])\n",
    "\n",
    "model.compile(optimizer=keras.optimizers.RMSprop(),\n",
    "               loss = keras.losses.BinaryCrossentropy(),\n",
    "                metrics = ['accuracy']\n",
    "                )\n",
    "\n",
    "history_l2_reg = model.fit(train_data,train_labels,epochs=20,batch_size=512,validation_split=0.4,verbose=0)\n",
    "\n",
    "val_loss_l2_reg = history_l2_reg.history['val_loss']\n",
    "epochs_l2_reg = np.arange(1,len(val_loss_l2_reg)+1)"
   ]
  },
  {
   "cell_type": "code",
   "execution_count": 46,
   "metadata": {},
   "outputs": [
    {
     "data": {
      "text/plain": [
       "<matplotlib.legend.Legend at 0x189365ace20>"
      ]
     },
     "execution_count": 46,
     "metadata": {},
     "output_type": "execute_result"
    },
    {
     "data": {
      "image/png": "[encoded data removed]",
      "text/plain": [
       "<Figure size 432x288 with 1 Axes>"
      ]
     },
     "metadata": {
      "needs_background": "light"
     },
     "output_type": "display_data"
    }
   ],
   "source": [
    "plt.plot(epochs_l2_reg,val_loss_l2_reg,'-og',lw=2.5,label='val loss l2 regularization')\n",
    "plt.plot(epochs_original,val_loss_original,'-ob',lw=2.5,label='val loss original')\n",
    "plt.xlabel('Epochs')\n",
    "plt.ylabel('Loss')\n",
    "plt.legend()\n"
   ]
  },
  {
   "cell_type": "markdown",
   "metadata": {},
   "source": [
    "Listing 5.14 Different weight regularizers available in Keras"
   ]
  },
  {
   "cell_type": "code",
   "execution_count": 49,
   "metadata": {},
   "outputs": [],
   "source": [
    "from keras import regularizers\n",
    "\n",
    "model = keras.Sequential([ \n",
    "                        layers.Dense(16,activation='relu',kernel_regularizer=regularizers.l2(0.001)),\n",
    "                        layers.Dense(16,activation='relu',kernel_regularizer=regularizers.l2(0.001)),\n",
    "                        layers.Dense(1,activation='sigmoid')\n",
    "                        ])\n",
    "\n",
    "model.compile(optimizer=keras.optimizers.RMSprop(),\n",
    "               loss = keras.losses.BinaryCrossentropy(),\n",
    "                metrics = ['accuracy']\n",
    "                )\n",
    "\n",
    "history_l2_reg_1 = model.fit(train_data,train_labels,epochs=20,batch_size=512,validation_split=0.4,verbose=0)\n",
    "\n",
    "val_loss_l2_reg_1 = history_l2_reg_1.history['val_loss']\n",
    "epochs_l2_reg_1 = np.arange(1,len(val_loss_l2_reg_1)+1)"
   ]
  },
  {
   "cell_type": "code",
   "execution_count": 50,
   "metadata": {},
   "outputs": [
    {
     "data": {
      "text/plain": [
       "<matplotlib.legend.Legend at 0x1893673f520>"
      ]
     },
     "execution_count": 50,
     "metadata": {},
     "output_type": "execute_result"
    },
    {
     "data": {
      "image/png": "[encoded data removed]",
      "text/plain": [
       "<Figure size 432x288 with 1 Axes>"
      ]
     },
     "metadata": {
      "needs_background": "light"
     },
     "output_type": "display_data"
    }
   ],
   "source": [
    "plt.plot(epochs_l2_reg,val_loss_l2_reg,'-og',lw=2.5,label='val loss l2 regularization=0.002')\n",
    "plt.plot(epochs_l2_reg_1,val_loss_l2_reg_1,'-or',lw=2.5,label='val loss l2 regularization=0.001')\n",
    "plt.plot(epochs_original,val_loss_original,'-ob',lw=2.5,label='val loss original')\n",
    "plt.xlabel('Epochs')\n",
    "plt.ylabel('Loss')\n",
    "plt.legend()\n"
   ]
  },
  {
   "cell_type": "markdown",
   "metadata": {},
   "source": []
  }
 ],
 "metadata": {
  "kernelspec": {
   "display_name": "Python 3.9.11 64-bit",
   "language": "python",
   "name": "python3"
  },
  "language_info": {
   "codemirror_mode": {
    "name": "ipython",
    "version": 3
   },
   "file_extension": ".py",
   "mimetype": "text/x-python",
   "name": "python",
   "nbconvert_exporter": "python",
   "pygments_lexer": "ipython3",
   "version": "3.9.11"
  },
  "orig_nbformat": 4,
  "vscode": {
   "interpreter": {
    "hash": "e450050b432e843bda3c41bf3272c133bfc370a7003f3e377e27f87a49ce1127"
   }
  }
 },
 "nbformat": 4,
 "nbformat_minor": 2
}
