{
 "cells": [
  {
   "cell_type": "markdown",
   "metadata": {},
   "source": [
    "# Chapter 7 Working with Keras : A deep dive"
   ]
  },
  {
   "cell_type": "markdown",
   "metadata": {},
   "source": [
    "## 7.1 A spectrum of workflows"
   ]
  },
  {
   "cell_type": "markdown",
   "metadata": {},
   "source": [
    "The design of the Keras API is guided by the principle of progressive disclosure of complexity:\n",
    "\n",
    "make it easy to get started, yet make it possible to handle high-complexity use\n",
    "cases, only requiring incremental learning at each step"
   ]
  },
  {
   "cell_type": "markdown",
   "metadata": {},
   "source": [
    "As such, there’s not a single “true” way of using Keras. Rather, Keras offers a spectrum of workflows, from the very simple to the very flexible."
   ]
  },
  {
   "cell_type": "markdown",
   "metadata": {},
   "source": [
    "## 7.2 Different ways to build Keras models"
   ]
  },
  {
   "cell_type": "markdown",
   "metadata": {},
   "source": [
    "1.  The Sequential model, the most approachable API—it’s basically a Python list. As\n",
    "such, it’s limited to simple stacks of layers.\n",
    "\n",
    "\n",
    "2.  The Functional API, which focuses on graph-like model architectures. It represents a nice mid-point between usability and flexibility, and as such, it’s the\n",
    "most commonly used model-building API.\n",
    "\n",
    "\n",
    "3. Model subclassing, a low-level option where you write everything yourself from\n",
    "scratch. This is ideal if you want full control over every little thing. However, you\n",
    "won’t get access to many built-in Keras features, and you will be more at risk of\n",
    "making mistakes"
   ]
  },
  {
   "cell_type": "markdown",
   "metadata": {},
   "source": [
    "### 7.2.1 The Sequential Model"
   ]
  },
  {
   "cell_type": "markdown",
   "metadata": {},
   "source": [
    "Listing 7.1"
   ]
  },
  {
   "cell_type": "code",
   "execution_count": 1,
   "metadata": {},
   "outputs": [],
   "source": [
    "from tensorflow import keras\n",
    "from keras import layers\n",
    "\n",
    "model = keras.Sequential([\n",
    "                        layers.Dense(64,activation=\"relu\"),\n",
    "                        layers.Dense(10,activation='softmax')\n",
    "                        ])"
   ]
  },
  {
   "cell_type": "markdown",
   "metadata": {},
   "source": [
    "Note that it is possible to build the same model via the __add()__ method"
   ]
  },
  {
   "cell_type": "markdown",
   "metadata": {},
   "source": [
    "List 7.2"
   ]
  },
  {
   "cell_type": "code",
   "execution_count": 2,
   "metadata": {},
   "outputs": [],
   "source": [
    "model = keras.Sequential()\n",
    "model.add(layers.Dense(64,activation='relu'))\n",
    "model.add(layers.Dense(10,activation='softmax'))"
   ]
  },
  {
   "cell_type": "markdown",
   "metadata": {},
   "source": [
    "Because the shape of the layers' weights depends\n",
    "on the shape of their input: until the input shape is known, they can’t be created."
   ]
  },
  {
   "cell_type": "markdown",
   "metadata": {},
   "source": [
    "List 7.3"
   ]
  },
  {
   "cell_type": "code",
   "execution_count": 3,
   "metadata": {},
   "outputs": [],
   "source": [
    "# model.weights"
   ]
  },
  {
   "cell_type": "markdown",
   "metadata": {},
   "source": [
    "As such, the preceding Sequential model does not have any weights (listing 7.3)\n",
    " until you actually call it on some data, or call its build() method with an input shape\n",
    "\n",
    "\n",
    "Listing 7.4 Calling a model for the first time to build it"
   ]
  },
  {
   "cell_type": "code",
   "execution_count": 4,
   "metadata": {},
   "outputs": [
    {
     "data": {
      "text/plain": [
       "<tf.Tensor: shape=(64,), dtype=float32, numpy=\n",
       "array([ 0.15103388,  0.2313965 ,  0.17064437,  0.10206893,  0.1743919 ,\n",
       "        0.09298196,  0.23641384, -0.09202199, -0.12843636, -0.07157096,\n",
       "       -0.14062165, -0.10395128, -0.13905771,  0.15566683,  0.23993206,\n",
       "       -0.03694832,  0.01264527,  0.08460522, -0.14137657, -0.254944  ,\n",
       "       -0.08964811, -0.09600189,  0.04692841,  0.2717114 ,  0.05736506,\n",
       "        0.2659551 , -0.12647681, -0.09558572, -0.19352198, -0.12752497,\n",
       "       -0.28262907, -0.01948076,  0.20891684,  0.24795431, -0.29775557,\n",
       "        0.15671355,  0.1167585 ,  0.00569916,  0.11164188, -0.21637386,\n",
       "       -0.02635872,  0.18768856, -0.1041701 ,  0.00783801, -0.1336044 ,\n",
       "       -0.15527384, -0.12312554, -0.06886032, -0.07937637,  0.2326659 ,\n",
       "        0.12994385, -0.02373344, -0.07702683,  0.13567156, -0.10318136,\n",
       "       -0.12868194,  0.17914826, -0.22684173,  0.02419499, -0.22520351,\n",
       "        0.23105115, -0.2656257 , -0.14868669, -0.107838  ], dtype=float32)>"
      ]
     },
     "execution_count": 4,
     "metadata": {},
     "output_type": "execute_result"
    }
   ],
   "source": [
    "model.build(input_shape=(None,3))\n",
    "model.weights[0][0]\n",
    "## Builds the model . now the model will expect samples of shape(,3). \n",
    "## The None in the input shape signals that the batch size could be anything"
   ]
  },
  {
   "cell_type": "markdown",
   "metadata": {},
   "source": [
    "After the model has been builted , you can display its contents via __summary()__ method"
   ]
  },
  {
   "cell_type": "markdown",
   "metadata": {},
   "source": [
    "Listing 7.5 "
   ]
  },
  {
   "cell_type": "code",
   "execution_count": 5,
   "metadata": {},
   "outputs": [
    {
     "name": "stdout",
     "output_type": "stream",
     "text": [
      "Model: \"sequential_1\"\n",
      "_________________________________________________________________\n",
      " Layer (type)                Output Shape              Param #   \n",
      "=================================================================\n",
      " dense_2 (Dense)             (None, 64)                256       \n",
      "                                                                 \n",
      " dense_3 (Dense)             (None, 10)                650       \n",
      "                                                                 \n",
      "=================================================================\n",
      "Total params: 906\n",
      "Trainable params: 906\n",
      "Non-trainable params: 0\n",
      "_________________________________________________________________\n"
     ]
    }
   ],
   "source": [
    "model.summary()"
   ]
  },
  {
   "cell_type": "markdown",
   "metadata": {},
   "source": [
    "As you can see, this model has a name of \"sequential_2\" You can give names to everything in Keras"
   ]
  },
  {
   "cell_type": "markdown",
   "metadata": {},
   "source": [
    "Listing 7.6 Naming models and layers"
   ]
  },
  {
   "cell_type": "code",
   "execution_count": 6,
   "metadata": {},
   "outputs": [
    {
     "name": "stdout",
     "output_type": "stream",
     "text": [
      "Model: \"wyn_model\"\n",
      "_________________________________________________________________\n",
      " Layer (type)                Output Shape              Param #   \n",
      "=================================================================\n",
      " First_layer_wyn (Dense)     (None, 64)                256       \n",
      "                                                                 \n",
      " Second_layer_wyn (Dense)    (None, 10)                650       \n",
      "                                                                 \n",
      "=================================================================\n",
      "Total params: 906\n",
      "Trainable params: 906\n",
      "Non-trainable params: 0\n",
      "_________________________________________________________________\n"
     ]
    }
   ],
   "source": [
    "model= keras.Sequential(name=\"wyn_model\")\n",
    "model.add(layers.Dense(64,activation='relu',name = 'First_layer_wyn'))\n",
    "model.add(layers.Dense(10,activation='softmax',name = 'Second_layer_wyn'))\n",
    "\n",
    "model.build((None,3))\n",
    "\n",
    "model.summary()"
   ]
  },
  {
   "cell_type": "markdown",
   "metadata": {},
   "source": [
    "When building a Sequential model incrementally, it’s useful to be able to print a summary of what the current model looks like after you add each layer. \n",
    "\n",
    "But you can’t print a summary until the model is built! \n",
    "\n",
    "There’s actually a way to have your Sequential\n",
    "built on the fly: just declare the shape of the model’s inputs in advance."
   ]
  },
  {
   "cell_type": "markdown",
   "metadata": {},
   "source": [
    "Listing 7.7 Specifying the input shape of your model in advance\n",
    "\n",
    "Use Input to declare the shape \n",
    "of the inputs. \n",
    "\n",
    "Note that the shape argument must be the \n",
    "shape of each sample, not  the shape of one batch."
   ]
  },
  {
   "cell_type": "code",
   "execution_count": 7,
   "metadata": {},
   "outputs": [
    {
     "name": "stdout",
     "output_type": "stream",
     "text": [
      "Model: \"sequential_2\"\n",
      "_________________________________________________________________\n",
      " Layer (type)                Output Shape              Param #   \n",
      "=================================================================\n",
      " dense_4 (Dense)             (None, 64)                256       \n",
      "                                                                 \n",
      "=================================================================\n",
      "Total params: 256\n",
      "Trainable params: 256\n",
      "Non-trainable params: 0\n",
      "_________________________________________________________________\n"
     ]
    }
   ],
   "source": [
    "model = keras.Sequential()\n",
    "model.add(keras.Input(shape=(3,)))\n",
    "model.add(layers.Dense(64,activation='relu'))\n",
    "model.summary()\n"
   ]
  },
  {
   "cell_type": "code",
   "execution_count": 8,
   "metadata": {},
   "outputs": [
    {
     "name": "stdout",
     "output_type": "stream",
     "text": [
      "Model: \"sequential_2\"\n",
      "_________________________________________________________________\n",
      " Layer (type)                Output Shape              Param #   \n",
      "=================================================================\n",
      " dense_4 (Dense)             (None, 64)                256       \n",
      "                                                                 \n",
      " dense_5 (Dense)             (None, 10)                650       \n",
      "                                                                 \n",
      "=================================================================\n",
      "Total params: 906\n",
      "Trainable params: 906\n",
      "Non-trainable params: 0\n",
      "_________________________________________________________________\n"
     ]
    }
   ],
   "source": [
    "model.add(layers.Dense(10,activation='softmax'))\n",
    "model.summary()"
   ]
  },
  {
   "cell_type": "markdown",
   "metadata": {},
   "source": [
    "### 7.2.2 The Functional API"
   ]
  },
  {
   "cell_type": "markdown",
   "metadata": {},
   "source": [
    "The Sequential model is easy to use, but its applicability is extremely limited: it can\n",
    "only express models with a single input and a single output, applying one layer after\n",
    "the other in a sequential fashion."
   ]
  },
  {
   "cell_type": "markdown",
   "metadata": {},
   "source": [
    " In such cases, you’d build your model using the Functional API. This is what most\n",
    "Keras models you’ll encounter in the wild use."
   ]
  },
  {
   "cell_type": "markdown",
   "metadata": {},
   "source": [
    "#### A Simple Example"
   ]
  },
  {
   "cell_type": "markdown",
   "metadata": {},
   "source": [
    "The stack of two layers we used. \n",
    "\n",
    "Its Functional API verison looks like following listing"
   ]
  },
  {
   "cell_type": "markdown",
   "metadata": {},
   "source": [
    "Listing 7.8 "
   ]
  },
  {
   "cell_type": "code",
   "execution_count": 9,
   "metadata": {},
   "outputs": [],
   "source": [
    "inputs = keras.Input(shape=(3,),name='my_input')\n",
    "\n",
    "features = layers.Dense(64,activation='relu')(inputs)\n",
    "\n",
    "outputs = layers.Dense(10,activation='softmax')(features)\n",
    "\n",
    "model = keras.Model(inputs= inputs,outputs=outputs)"
   ]
  },
  {
   "cell_type": "markdown",
   "metadata": {},
   "source": [
    "Let's go it over step by step"
   ]
  },
  {
   "cell_type": "markdown",
   "metadata": {},
   "source": [
    "We started by declaring an Input (note that you can also give names to these input\n",
    "objects, like everything else)\n",
    "\n",
    "The model will process batches where each sample \n",
    "has shape (3,). The number of samples per batch is \n",
    "variable (indicated by the None batch size)."
   ]
  },
  {
   "cell_type": "code",
   "execution_count": 10,
   "metadata": {},
   "outputs": [],
   "source": [
    "inputs = keras.Input(shape=(3,),name='my_input')"
   ]
  },
  {
   "cell_type": "markdown",
   "metadata": {},
   "source": [
    "We call such an object a symbolic tensor. \n",
    "\n",
    "It doesn’t contain any actual data, but it\n",
    "encodes the specifications of the actual tensors of data that the model will see when\n",
    "you use it. \n",
    "\n",
    "It stands for future tensors of data."
   ]
  },
  {
   "cell_type": "markdown",
   "metadata": {},
   "source": [
    "Next, we created a layer and __called it on__ the input"
   ]
  },
  {
   "cell_type": "code",
   "execution_count": 11,
   "metadata": {},
   "outputs": [],
   "source": [
    "features = layers.Dense(64, activation=\"relu\")(inputs)"
   ]
  },
  {
   "cell_type": "markdown",
   "metadata": {},
   "source": [
    "All Keras layers can be called both on real tensors of data and on these symbolic tensors. In the latter case, they return a new symbolic tensor, with updated shape and\n",
    "dtype information:"
   ]
  },
  {
   "cell_type": "code",
   "execution_count": 12,
   "metadata": {},
   "outputs": [
    {
     "data": {
      "text/plain": [
       "TensorShape([None, 64])"
      ]
     },
     "execution_count": 12,
     "metadata": {},
     "output_type": "execute_result"
    }
   ],
   "source": [
    "features.shape"
   ]
  },
  {
   "cell_type": "markdown",
   "metadata": {},
   "source": [
    "After obtaining the final outputs, we instantiated the model by specifying its inputs\n",
    "and outputs in the Model constructor:"
   ]
  },
  {
   "cell_type": "code",
   "execution_count": 13,
   "metadata": {},
   "outputs": [],
   "source": [
    "outputs = layers.Dense(10,activation='softmax')(features)"
   ]
  },
  {
   "cell_type": "code",
   "execution_count": 14,
   "metadata": {},
   "outputs": [],
   "source": [
    "models = keras.Model(inputs= inputs,outputs = outputs)"
   ]
  },
  {
   "cell_type": "markdown",
   "metadata": {},
   "source": [
    "Here is the summary of the model"
   ]
  },
  {
   "cell_type": "code",
   "execution_count": 15,
   "metadata": {},
   "outputs": [
    {
     "name": "stdout",
     "output_type": "stream",
     "text": [
      "Model: \"model_1\"\n",
      "_________________________________________________________________\n",
      " Layer (type)                Output Shape              Param #   \n",
      "=================================================================\n",
      " my_input (InputLayer)       [(None, 3)]               0         \n",
      "                                                                 \n",
      " dense_8 (Dense)             (None, 64)                256       \n",
      "                                                                 \n",
      " dense_9 (Dense)             (None, 10)                650       \n",
      "                                                                 \n",
      "=================================================================\n",
      "Total params: 906\n",
      "Trainable params: 906\n",
      "Non-trainable params: 0\n",
      "_________________________________________________________________\n"
     ]
    }
   ],
   "source": [
    "models.summary()"
   ]
  },
  {
   "cell_type": "markdown",
   "metadata": {},
   "source": [
    "#### MULTI-INPUT, MULTI-OUTPUT MODELS"
   ]
  },
  {
   "cell_type": "markdown",
   "metadata": {},
   "source": [
    "Unlike this toy model, most deep learning models don’t look like lists—they look like\n",
    "graphs. They may, for instance, have multiple inputs or multiple outputs. It’s for this\n",
    "kind of model that the Functional API really shines.\n",
    "\n",
    "\n",
    "Let’s say you’re building a system to rank customer support tickets by priority and\n",
    "route them to the appropriate department. Your model has three inputs:\n",
    "1. The title of the ticket (text input)\n",
    "2. The text body of the ticket (text input)\n",
    "3. Any tags added by the user (categorical input, assumed here to be one-hot\n",
    "encoded"
   ]
  },
  {
   "cell_type": "markdown",
   "metadata": {},
   "source": [
    "Your model also has two outputs:\n",
    "1. The priority score of the ticket, a scalar between 0 and 1 (sigmoid output)\n",
    "2. The department that should handle the ticket (a softmax over the set of departments)"
   ]
  },
  {
   "cell_type": "markdown",
   "metadata": {},
   "source": [
    "Listing 7.9 A multi-input, multi-output Functional model"
   ]
  },
  {
   "cell_type": "code",
   "execution_count": 16,
   "metadata": {},
   "outputs": [
    {
     "name": "stdout",
     "output_type": "stream",
     "text": [
      "Model: \"model_2\"\n",
      "__________________________________________________________________________________________________\n",
      " Layer (type)                   Output Shape         Param #     Connected to                     \n",
      "==================================================================================================\n",
      " title (InputLayer)             [(None, 10000)]      0           []                               \n",
      "                                                                                                  \n",
      " text_body (InputLayer)         [(None, 10000)]      0           []                               \n",
      "                                                                                                  \n",
      " tags (InputLayer)              [(None, 100)]        0           []                               \n",
      "                                                                                                  \n",
      " concatenate (Concatenate)      (None, 20100)        0           ['title[0][0]',                  \n",
      "                                                                  'text_body[0][0]',              \n",
      "                                                                  'tags[0][0]']                   \n",
      "                                                                                                  \n",
      " dense_10 (Dense)               (None, 64)           1286464     ['concatenate[0][0]']            \n",
      "                                                                                                  \n",
      " priority (Dense)               (None, 1)            65          ['dense_10[0][0]']               \n",
      "                                                                                                  \n",
      " department (Dense)             (None, 4)            260         ['dense_10[0][0]']               \n",
      "                                                                                                  \n",
      "==================================================================================================\n",
      "Total params: 1,286,789\n",
      "Trainable params: 1,286,789\n",
      "Non-trainable params: 0\n",
      "__________________________________________________________________________________________________\n"
     ]
    }
   ],
   "source": [
    "vocabulary_size = 10000\n",
    "num_tags = 100\n",
    "num_departments = 4\n",
    "\n",
    "\n",
    "title = keras.Input(shape=(vocabulary_size,),name='title')\n",
    "text_body = keras.Input(shape=(vocabulary_size,),name='text_body')\n",
    "tags = keras.Input(shape=(num_tags,),name='tags')\n",
    "\n",
    "features = layers.Concatenate()([title,text_body,tags])\n",
    "features = layers.Dense(64,activation='relu')(features)\n",
    "\n",
    "priority = layers.Dense(1,activation='sigmoid',name='priority')(features)\n",
    "\n",
    "department = layers.Dense(num_departments,activation='softmax',name='department')(features)\n",
    "\n",
    "model = keras.Model(inputs=[title,text_body,tags],outputs=[priority,department])\n",
    "\n",
    "model.summary()\n"
   ]
  },
  {
   "cell_type": "markdown",
   "metadata": {},
   "source": [
    "Listing 7.10 Training a model by providing lists of input and target arrays"
   ]
  },
  {
   "cell_type": "markdown",
   "metadata": {},
   "source": [
    "You can train your model in much the same way as you would train a Sequential\n",
    " model, by calling fit() with __lists of input and output data__. \n",
    "\n",
    "\n",
    "These lists of data should\n",
    " be in __the same order__ as the inputs you passed to the Model constructor"
   ]
  },
  {
   "cell_type": "code",
   "execution_count": 17,
   "metadata": {},
   "outputs": [
    {
     "name": "stdout",
     "output_type": "stream",
     "text": [
      "40/40 [==============================] - 2s 7ms/step - loss: 31.0421 - priority_loss: 0.0000e+00 - department_loss: 31.0421 - priority_mean_absolute_error: 0.5062 - department_accuracy: 0.2398\n"
     ]
    },
    {
     "data": {
      "text/plain": [
       "<keras.callbacks.History at 0x258938ab8b0>"
      ]
     },
     "execution_count": 17,
     "metadata": {},
     "output_type": "execute_result"
    }
   ],
   "source": [
    "import numpy as np\n",
    "\n",
    "num_samples = 1280\n",
    "\n",
    "## X_train : 3 inputs\n",
    "title_data = np.random.randint(0,2,size=(num_samples,vocabulary_size))\n",
    "\n",
    "text_body_data = np.random.randint(0,2,size=(num_samples,vocabulary_size))\n",
    "\n",
    "\n",
    "tags_data = np.random.randint(0,2,size=(num_samples,num_tags))\n",
    "\n",
    "## y_train : 2 outputs\n",
    "priority_data = np.random.random(size=(num_samples,1))\n",
    "\n",
    "department_data = np.random.randint(0,2,size=(num_samples,num_departments))\n",
    "\n",
    "\n",
    "model.compile(optimizer=keras.optimizers.RMSprop(),\n",
    "                loss = keras.losses.CategoricalCrossentropy(),\n",
    "                metrics  = [['mean_absolute_error'],['accuracy']]\n",
    "                )\n",
    "\n",
    "model.fit(\n",
    "            [title_data,text_body_data,tags_data],\n",
    "            [priority_data,department_data],\n",
    "            epochs = 1\n",
    ")\n",
    "\n"
   ]
  },
  {
   "cell_type": "code",
   "execution_count": 18,
   "metadata": {},
   "outputs": [
    {
     "name": "stdout",
     "output_type": "stream",
     "text": [
      "40/40 [==============================] - 0s 5ms/step - loss: 19.2208 - priority_loss: 0.0000e+00 - department_loss: 19.2208 - priority_mean_absolute_error: 0.5135 - department_accuracy: 0.0836\n"
     ]
    },
    {
     "data": {
      "text/plain": [
       "[19.220775604248047,\n",
       " 0.0,\n",
       " 19.220775604248047,\n",
       " 0.5134929418563843,\n",
       " 0.08359374850988388]"
      ]
     },
     "execution_count": 18,
     "metadata": {},
     "output_type": "execute_result"
    }
   ],
   "source": [
    "model.evaluate(\n",
    "            [title_data,text_body_data,tags_data],\n",
    "            [priority_data,department_data]\n",
    ")"
   ]
  },
  {
   "cell_type": "code",
   "execution_count": 19,
   "metadata": {},
   "outputs": [
    {
     "name": "stdout",
     "output_type": "stream",
     "text": [
      "40/40 [==============================] - 0s 2ms/step\n",
      "[[0.]\n",
      " [0.]\n",
      " [0.]\n",
      " ...\n",
      " [0.]\n",
      " [0.]\n",
      " [0.]]\n",
      "[[9.6031505e-04 6.1667065e-15 1.3155539e-01 8.6748433e-01]\n",
      " [1.1995245e-03 5.7487444e-15 2.6945865e-01 7.2934180e-01]\n",
      " [1.8077402e-03 6.5268907e-15 2.9619426e-01 7.0199800e-01]\n",
      " ...\n",
      " [1.3691291e-03 6.6922176e-15 7.1024671e-02 9.2760628e-01]\n",
      " [1.7802912e-03 2.8090254e-14 1.2955034e-01 8.6866939e-01]\n",
      " [6.8663503e-03 1.7918611e-14 2.0427251e-01 7.8886104e-01]]\n"
     ]
    }
   ],
   "source": [
    "priority_predicts , department_predicts = model.predict([title_data,text_body_data,tags_data])\n",
    "print(priority_predicts)\n",
    "print(department_predicts)"
   ]
  },
  {
   "cell_type": "markdown",
   "metadata": {},
   "source": [
    "If you don’t want to rely on input order (for instance, because you have many inputs\n",
    "or outputs), you can also leverage the names you gave to the Input objects and the\n",
    "output layers, and pass data via dictionaries."
   ]
  },
  {
   "cell_type": "markdown",
   "metadata": {},
   "source": [
    "Listing 7.11 Training a model by providing dicts of input and target arrays"
   ]
  },
  {
   "cell_type": "code",
   "execution_count": 20,
   "metadata": {},
   "outputs": [
    {
     "name": "stdout",
     "output_type": "stream",
     "text": [
      "40/40 [==============================] - 1s 7ms/step - loss: 41.5200 - priority_loss: 0.3466 - department_loss: 41.1735 - priority_mean_absolute_error: 0.5135 - department_accuracy: 0.2867\n"
     ]
    },
    {
     "data": {
      "text/plain": [
       "<keras.callbacks.History at 0x25896cf4df0>"
      ]
     },
     "execution_count": 20,
     "metadata": {},
     "output_type": "execute_result"
    }
   ],
   "source": [
    "model.compile(\n",
    "            optimizer = keras.optimizers.RMSprop(),\n",
    "            loss = {'priority':keras.losses.MeanSquaredError(),\"department\":keras.losses.CategoricalCrossentropy()  },\n",
    "            metrics = {'priority':['mean_absolute_error'],\"department\":['accuracy']  },\n",
    "            \n",
    ")\n",
    "\n",
    "model.fit(\n",
    "    {\"text_body\":text_body_data,'title':title_data,'tags':tags_data},\n",
    "    {\"department\":department_data,\"priority\":priority_data}\n",
    ")\n"
   ]
  },
  {
   "cell_type": "code",
   "execution_count": 21,
   "metadata": {},
   "outputs": [
    {
     "name": "stdout",
     "output_type": "stream",
     "text": [
      "40/40 [==============================] - 0s 4ms/step - loss: 25.6178 - priority_loss: 0.3466 - department_loss: 25.2712 - priority_mean_absolute_error: 0.5135 - department_accuracy: 0.2359\n"
     ]
    },
    {
     "data": {
      "text/plain": [
       "[25.617788314819336,\n",
       " 0.34655991196632385,\n",
       " 25.271228790283203,\n",
       " 0.5134929418563843,\n",
       " 0.23593750596046448]"
      ]
     },
     "execution_count": 21,
     "metadata": {},
     "output_type": "execute_result"
    }
   ],
   "source": [
    "model.evaluate(\n",
    "            \n",
    "    {\"text_body\":text_body_data,'title':title_data,'tags':tags_data},\n",
    "    {\"department\":department_data,\"priority\":priority_data}\n",
    ")"
   ]
  },
  {
   "cell_type": "code",
   "execution_count": 22,
   "metadata": {},
   "outputs": [
    {
     "name": "stdout",
     "output_type": "stream",
     "text": [
      "40/40 [==============================] - 0s 2ms/step\n"
     ]
    },
    {
     "data": {
      "text/plain": [
       "[array([[0.],\n",
       "        [0.],\n",
       "        [0.],\n",
       "        ...,\n",
       "        [0.],\n",
       "        [0.],\n",
       "        [0.]], dtype=float32),\n",
       " array([[1.27110252e-04, 9.98783290e-01, 1.08951982e-03, 1.04090986e-16],\n",
       "        [3.86025989e-04, 9.87398028e-01, 1.22159114e-02, 7.07251203e-17],\n",
       "        [5.52684651e-04, 9.96840715e-01, 2.60662893e-03, 1.43252330e-16],\n",
       "        ...,\n",
       "        [1.48454332e-04, 9.99220252e-01, 6.31303759e-04, 6.36573781e-17],\n",
       "        [2.31734579e-04, 9.98979211e-01, 7.89132726e-04, 7.26459925e-17],\n",
       "        [6.11010299e-04, 9.98773873e-01, 6.15051191e-04, 1.17357391e-17]],\n",
       "       dtype=float32)]"
      ]
     },
     "execution_count": 22,
     "metadata": {},
     "output_type": "execute_result"
    }
   ],
   "source": [
    "model.predict(\n",
    "           \n",
    "    {\"text_body\":text_body_data,'title':title_data,'tags':tags_data},\n",
    "    \n",
    ")"
   ]
  },
  {
   "cell_type": "markdown",
   "metadata": {},
   "source": [
    "#### THE POWER OF THE FUNCTIONAL API: ACCESS TO LAYER CONNECTIVITY"
   ]
  },
  {
   "cell_type": "markdown",
   "metadata": {},
   "source": [
    "A Functional model is an explicit graph data structure. This makes it possible to\n",
    "inspect how layers are connected and reuse previous graph nodes (which are layer\n",
    "outputs) as part of new models. \n",
    "\n",
    "It also nicely fits the “mental model” that most researchers use when thinking about a deep neural network: a graph of layers. This enables\n",
    "two important use cases: model visualization and feature extraction."
   ]
  },
  {
   "cell_type": "markdown",
   "metadata": {},
   "source": [
    "Let’s visualize the connectivity of the model we just defined (the topology of the\n",
    "model).\n",
    "\n",
    "\n",
    "You can plot a Functional model as a graph with the __plot_model()__ utility (see\n",
    "figure 7.2)."
   ]
  },
  {
   "cell_type": "code",
   "execution_count": 23,
   "metadata": {},
   "outputs": [
    {
     "data": {
      "image/png": "[encoded data removed]",
      "text/plain": [
       "<IPython.core.display.Image object>"
      ]
     },
     "execution_count": 23,
     "metadata": {},
     "output_type": "execute_result"
    }
   ],
   "source": [
    "keras.utils.plot_model(model,'Ticket_Classifier.png')"
   ]
  },
  {
   "cell_type": "markdown",
   "metadata": {},
   "source": [
    "You can also let it show the shape information"
   ]
  },
  {
   "cell_type": "code",
   "execution_count": 24,
   "metadata": {},
   "outputs": [
    {
     "data": {
      "image/png": "[encoded data removed]",
      "text/plain": [
       "<IPython.core.display.Image object>"
      ]
     },
     "execution_count": 24,
     "metadata": {},
     "output_type": "execute_result"
    }
   ],
   "source": [
    "keras.utils.plot_model(model,'Ticket_Classifier_with_shape.png',show_shapes=1)"
   ]
  },
  {
   "cell_type": "markdown",
   "metadata": {},
   "source": [
    "Access to layer connectivity also means that you can inspect and reuse individual\n",
    " nodes (layer calls) in the graph. \n",
    " \n",
    " The __model.layers__ model property provides the list\n",
    " of layers that make up the model, and for each layer you can query __layer.input__ and\n",
    " __layer.output__."
   ]
  },
  {
   "cell_type": "code",
   "execution_count": 25,
   "metadata": {},
   "outputs": [
    {
     "data": {
      "text/plain": [
       "[<keras.engine.input_layer.InputLayer at 0x2588e9d3070>,\n",
       " <keras.engine.input_layer.InputLayer at 0x2588e9d30d0>,\n",
       " <keras.engine.input_layer.InputLayer at 0x2588e9d3280>,\n",
       " <keras.layers.merging.concatenate.Concatenate at 0x2588e9d21c0>,\n",
       " <keras.layers.core.dense.Dense at 0x2588e9d2bb0>,\n",
       " <keras.layers.core.dense.Dense at 0x2588e9d2f10>,\n",
       " <keras.layers.core.dense.Dense at 0x2588e6b7fd0>]"
      ]
     },
     "execution_count": 25,
     "metadata": {},
     "output_type": "execute_result"
    }
   ],
   "source": [
    "model.layers"
   ]
  },
  {
   "cell_type": "markdown",
   "metadata": {},
   "source": [
    "See that the __model.layer[3]__ is concatenate, we can check what's in it by __layers.input__ and __layers.output__"
   ]
  },
  {
   "cell_type": "code",
   "execution_count": 26,
   "metadata": {},
   "outputs": [
    {
     "data": {
      "text/plain": [
       "[<KerasTensor: shape=(None, 10000) dtype=float32 (created by layer 'title')>,\n",
       " <KerasTensor: shape=(None, 10000) dtype=float32 (created by layer 'text_body')>,\n",
       " <KerasTensor: shape=(None, 100) dtype=float32 (created by layer 'tags')>]"
      ]
     },
     "execution_count": 26,
     "metadata": {},
     "output_type": "execute_result"
    }
   ],
   "source": [
    "model.layers[3].input"
   ]
  },
  {
   "cell_type": "code",
   "execution_count": 27,
   "metadata": {},
   "outputs": [
    {
     "data": {
      "text/plain": [
       "<KerasTensor: shape=(None, 20100) dtype=float32 (created by layer 'concatenate')>"
      ]
     },
     "execution_count": 27,
     "metadata": {},
     "output_type": "execute_result"
    }
   ],
   "source": [
    "model.layers[3].output"
   ]
  },
  {
   "cell_type": "markdown",
   "metadata": {},
   "source": [
    "Let’s say you want to add another output to the previous model—you want to estimate how long a given issue ticket will take to resolve, a kind of difficulty rating. \n",
    "\n",
    "You could do this via a classification layer over three categories: “quick,” “medium,” and\n",
    "“difficult.”\n",
    "\n",
    "You don’t need to recreate and retrain a model from scratch. You can start\n",
    "from the intermediate features of your previous model, since you have access to them,\n",
    "like this"
   ]
  },
  {
   "cell_type": "markdown",
   "metadata": {},
   "source": [
    "Listing 7.13 Creating a new model by reusing intermediate layer outputs"
   ]
  },
  {
   "cell_type": "code",
   "execution_count": 28,
   "metadata": {},
   "outputs": [],
   "source": [
    "features= model.layers[4].output"
   ]
  },
  {
   "cell_type": "markdown",
   "metadata": {},
   "source": [
    "__layers[4]__ is our intermediate \n",
    "Dense layer"
   ]
  },
  {
   "cell_type": "code",
   "execution_count": 29,
   "metadata": {},
   "outputs": [],
   "source": [
    "difficulty = layers.Dense(4,activation='softmax',name='difficulty')(features)\n",
    "\n",
    "new_model = keras.Model(\n",
    "          inputs=[title,text_body,tags],outputs=[priority,department,difficulty]\n",
    ")"
   ]
  },
  {
   "cell_type": "code",
   "execution_count": 30,
   "metadata": {},
   "outputs": [
    {
     "data": {
      "image/png": "[encoded data removed]",
      "text/plain": [
       "<IPython.core.display.Image object>"
      ]
     },
     "execution_count": 30,
     "metadata": {},
     "output_type": "execute_result"
    }
   ],
   "source": [
    "keras.utils.plot_model(new_model,'New_model_with_difficulties.png',show_shapes=1)"
   ]
  },
  {
   "cell_type": "markdown",
   "metadata": {},
   "source": [
    "###  7.2.3 Subclassing the Model Class"
   ]
  },
  {
   "cell_type": "markdown",
   "metadata": {},
   "source": [
    "The last model-building pattern you should know about is the most advanced one:\n",
    "\n",
    "Model subclassing. You learned in chapter 3 how to subclass the Layer class to create\n",
    "custom layers. Subclassing Model is pretty similar:\n",
    "\n",
    "1. In the __\"__init__()\"__ method, define the layers the model will use.\n",
    "\n",
    "2. In the __call()__ method, define the forward pass of the model, reusing the layers\n",
    "previously created.\n",
    "\n",
    "3. Instantiate your subclass, and call it on data to create its weights."
   ]
  },
  {
   "cell_type": "markdown",
   "metadata": {},
   "source": [
    "#### REWRITING OUR PREVIOUS EXAMPLE AS A SUBCLASSED MODEL"
   ]
  },
  {
   "cell_type": "markdown",
   "metadata": {},
   "source": [
    "Listing 7.14 A simple subclassed model"
   ]
  },
  {
   "cell_type": "code",
   "execution_count": 31,
   "metadata": {},
   "outputs": [],
   "source": [
    "class CostomerTicketModel(keras.Model):\n",
    "    def __init__(self,num_departments:int):\n",
    "        super().__init__()\n",
    "        self.concat_layer = layers.Concatenate()\n",
    "        self.mixing_layer = layers.Dense(64,activation='relu')\n",
    "        self.priority_scorer = layers.Dense(1,activation='sigmoid')\n",
    "        self.department_classifier = layers.Dense(num_departments,activation='softmax')\n",
    "    \n",
    "    def call(self,inputs:dict):\n",
    "        title = inputs[\"title\"]\n",
    "        text_body = inputs['text_body']\n",
    "        tags = inputs['tags']\n",
    "\n",
    "        features = self.concat_layer([title,text_body,tags])\n",
    "        features = self.mixing_layer(features)\n",
    "        priority = self.priority_scorer(features)\n",
    "        department = self.department_classifier(features)\n",
    "        return priority,department"
   ]
  },
  {
   "cell_type": "markdown",
   "metadata": {},
   "source": [
    "Now let's __init__ the model as this class"
   ]
  },
  {
   "cell_type": "code",
   "execution_count": 32,
   "metadata": {},
   "outputs": [],
   "source": [
    "model = CostomerTicketModel(num_departments=4)\n"
   ]
  },
  {
   "cell_type": "markdown",
   "metadata": {},
   "source": [
    "Then let's __call__ the class"
   ]
  },
  {
   "cell_type": "code",
   "execution_count": 33,
   "metadata": {},
   "outputs": [],
   "source": [
    "priority,department = model.call(inputs=        \n",
    "    {\"text_body\":text_body_data,'title':title_data,'tags':tags_data},\n",
    "    )"
   ]
  },
  {
   "cell_type": "markdown",
   "metadata": {},
   "source": [
    "Or you can __call__ in this way"
   ]
  },
  {
   "cell_type": "code",
   "execution_count": 34,
   "metadata": {},
   "outputs": [],
   "source": [
    "priority,department = model(inputs=        \n",
    "    {\"text_body\":text_body_data,'title':title_data,'tags':tags_data},\n",
    "    )"
   ]
  },
  {
   "cell_type": "markdown",
   "metadata": {},
   "source": [
    "So far, everything looks very similar to Layer subclassing, a workflow you encountered\n",
    "in chapter 3. What, then, is the difference between a Layer subclass and a Model subclass? It’s simple: a “layer” is a building block you use to create models, and a “model”\n",
    "is the top-level object that you will actually train, export for inference, etc. \n",
    "\n",
    "In short, a\n",
    "Model has fit(), evaluate(), and predict() methods. Layers don’t. Other than that,\n",
    "the two classes are virtually identical."
   ]
  },
  {
   "cell_type": "markdown",
   "metadata": {},
   "source": [
    "Let's review that how the model bulit before:\n",
    "\n",
    "\"model = keras.Model(inputs=[title,text_body,tags],outputs=[priority,department])\"\n",
    "\n",
    "which means our __call()__method has the same function as \"inputs=\",but the difference is that we sepcified the output rather than defining it by ourselves in __Model()__"
   ]
  },
  {
   "cell_type": "markdown",
   "metadata": {},
   "source": [
    "After figuring it out , now we can treat the class as a common model \n",
    "\n",
    "\n",
    "You can __compile()__ and train the __model__ just like before"
   ]
  },
  {
   "cell_type": "code",
   "execution_count": 35,
   "metadata": {},
   "outputs": [],
   "source": [
    "model.compile(optimizer=keras.optimizers.RMSprop(),\n",
    "                loss = [keras.losses.MeanSquaredError(),keras.losses.CategoricalCrossentropy()],\n",
    "                metrics = [['mean_absolute_error'],['accuracy']]\n",
    " )"
   ]
  },
  {
   "cell_type": "markdown",
   "metadata": {},
   "source": [
    "The structure of the target \n",
    "data must match exactly what is \n",
    "returned by the call() method—\n",
    "here, a list of two elements."
   ]
  },
  {
   "cell_type": "code",
   "execution_count": 36,
   "metadata": {},
   "outputs": [
    {
     "name": "stdout",
     "output_type": "stream",
     "text": [
      "40/40 [==============================] - 1s 12ms/step - loss: 31.4779 - output_1_loss: 0.3155 - output_2_loss: 31.1624 - output_1_mean_absolute_error: 0.4832 - output_2_accuracy: 0.2367\n"
     ]
    },
    {
     "data": {
      "text/plain": [
       "<keras.callbacks.History at 0x258a1feadc0>"
      ]
     },
     "execution_count": 36,
     "metadata": {},
     "output_type": "execute_result"
    }
   ],
   "source": [
    "model.fit(  \n",
    "    {\"text_body\":text_body_data,'title':title_data,'tags':tags_data},\n",
    "    [priority_data,department_data],epochs = 1\n",
    "      )"
   ]
  },
  {
   "cell_type": "code",
   "execution_count": 37,
   "metadata": {},
   "outputs": [
    {
     "name": "stdout",
     "output_type": "stream",
     "text": [
      "40/40 [==============================] - 0s 2ms/step\n"
     ]
    }
   ],
   "source": [
    "priority_preds, department_preds = model.predict({\"title\": title_data,\n",
    " \"text_body\": text_body_data,\n",
    " \"tags\": tags_data})"
   ]
  },
  {
   "cell_type": "markdown",
   "metadata": {},
   "source": [
    "#### BEWARE: WHAT SUBCLASSED MODELS DON’T SUPPORT"
   ]
  },
  {
   "cell_type": "markdown",
   "metadata": {},
   "source": [
    "This freedom comes at a cost: with subclassed models, you are responsible for more of\n",
    "the model logic, which means your potential error surface is much larger. \n",
    "\n",
    "As a result,\n",
    "you will have more debugging work to do. You are developing a new Python object,\n",
    "not just snapping together LEGO bricks."
   ]
  },
  {
   "cell_type": "markdown",
   "metadata": {},
   "source": [
    "For instance, because the way layers are connected to each other is hidden inside\n",
    " the body of the __call()__ method, you cannot access that information. Calling __summary()__ will not display layer connectivity, and you cannot plot the model topology via\n",
    " __plot_model()__"
   ]
  },
  {
   "cell_type": "markdown",
   "metadata": {},
   "source": [
    "### 7.2.4 Mixing and Matching different components"
   ]
  },
  {
   "cell_type": "markdown",
   "metadata": {},
   "source": [
    "All models in the Keras API\n",
    "can smoothly interoperate with each other, whether they’re Sequential models, Func\u0002tional models, or subclassed models written from scratch. \n",
    "\n",
    "They’re all part of the same spectrum of workflows.\n",
    " \n",
    " \n",
    "For instance, you can use a subclassed layer or model in a Functional model."
   ]
  },
  {
   "cell_type": "markdown",
   "metadata": {},
   "source": [
    "Listing 7.15 Creating a Functional model that includes a subclassed model"
   ]
  },
  {
   "cell_type": "code",
   "execution_count": 38,
   "metadata": {},
   "outputs": [],
   "source": [
    "class Classifier(keras.Model):\n",
    "    def __init__(self,num_class=2):\n",
    "        super().__init__()\n",
    "        if num_class == 2:\n",
    "            num_units = 1\n",
    "            activation = 'sigmoid'\n",
    "        else :\n",
    "            num_units = num_class\n",
    "            activation = 'softmax'\n",
    "        \n",
    "        self.dense = layers.Dense(num_units,activation=activation)\n",
    "    \n",
    "    def call(self,inputs):\n",
    "        return self.dense(inputs)\n",
    "        "
   ]
  },
  {
   "cell_type": "code",
   "execution_count": 39,
   "metadata": {},
   "outputs": [],
   "source": [
    "inputs = keras.Input(shape=(3,))\n",
    "features = layers.Dense(64,activation='relu')(inputs)\n",
    "outputs = Classifier(num_class=10)(features)\n",
    "model  =keras.Model(inputs= inputs,outputs= outputs)"
   ]
  },
  {
   "cell_type": "markdown",
   "metadata": {},
   "source": [
    "Inversely, you can use a Functional model as part of a subclassed layer or model."
   ]
  },
  {
   "cell_type": "markdown",
   "metadata": {},
   "source": [
    "Listing 7.16 Creating a subclassed model that includes a Functional model"
   ]
  },
  {
   "cell_type": "code",
   "execution_count": 40,
   "metadata": {},
   "outputs": [],
   "source": [
    "inputs = keras.Input(shape=(64,))\n",
    "outputs = layers.Dense(1,activation='sigmoid')(inputs)\n",
    "binary_classifier = keras.Model(inputs=inputs,outputs=outputs)\n"
   ]
  },
  {
   "cell_type": "code",
   "execution_count": 41,
   "metadata": {},
   "outputs": [],
   "source": [
    "class MyModel(keras.Model):\n",
    "    def __init__(self,num_class = 2):\n",
    "        super().__init__()\n",
    "        self.dense = layers.Dense(64,activation='relu')\n",
    "        self.classifier= binary_classifier\n",
    "    def call(self,inputs):\n",
    "        features = self.dense(inputs)\n",
    "        return self.classifier(features)\n",
    "\n",
    "model = MyModel()(inputs)"
   ]
  },
  {
   "cell_type": "markdown",
   "metadata": {},
   "source": [
    "In the book it was typed as \n",
    "\n",
    "model = MyModel()\n",
    "\n",
    "but I suggusted it should be \n",
    "\n",
    "model = Mymodel()(inputs)"
   ]
  },
  {
   "cell_type": "markdown",
   "metadata": {},
   "source": [
    "### 7.2.5 Remember: Use the right tool for the job"
   ]
  },
  {
   "cell_type": "markdown",
   "metadata": {},
   "source": [
    " In general, the Functional API provides you with a pretty good trade-off between\n",
    "ease of use and flexibility. \n",
    "\n",
    "It also gives you direct access to layer connectivity, which is\n",
    "very powerful for use cases such as model plotting or feature extraction. If you can use\n",
    "the Functional API—that is, if your model can be expressed as a directed acyclic graph\n",
    "of layers—I recommend using it over model subclassing"
   ]
  },
  {
   "cell_type": "markdown",
   "metadata": {},
   "source": [
    " Going forward, all examples in this book will use the Functional API, simply\n",
    "because all the models we will work with are expressible as graphs of layers. We will,\n",
    "however, make frequent use of subclassed layers. \n",
    "\n",
    "\n",
    "In general, using Functional models\n",
    "that include subclassed layers provides the best of both worlds: high development flexibility while retaining the advantages of the Functional API"
   ]
  },
  {
   "cell_type": "markdown",
   "metadata": {},
   "source": [
    "## 7.3 Using built-in training and evaluation loops"
   ]
  },
  {
   "cell_type": "markdown",
   "metadata": {},
   "source": [
    "Keras provides you with different workflows for training models. \n",
    "\n",
    "They can be as simple as calling fit() on your data, or as advanced as writing a new training algorithm from scratch"
   ]
  },
  {
   "cell_type": "markdown",
   "metadata": {},
   "source": [
    "Listing 7.17 The standard workflow: compile(), fit(), evaluate(), predict()"
   ]
  },
  {
   "cell_type": "code",
   "execution_count": 42,
   "metadata": {},
   "outputs": [],
   "source": [
    "from keras.datasets import mnist\n",
    "import numpy as np\n",
    "def get_mnist_model():\n",
    "    inputs = keras.Input(shape=(28*28,))\n",
    "    features = layers.Dense(512,activation=\"relu\")(inputs)\n",
    "    features = layers.Dropout(0.5)(features)\n",
    "    outputs = layers.Dense(10,activation='softmax')(features)\n",
    "    model = keras.Model(inputs=inputs,outputs=outputs)\n",
    "    return model\n"
   ]
  },
  {
   "cell_type": "code",
   "execution_count": 43,
   "metadata": {},
   "outputs": [],
   "source": [
    "(images,labels),(test_images,test_labels) = mnist.load_data()\n",
    "\n",
    "images = images.reshape((60000,28*28))\n",
    "images = images.astype('float32')/255\n",
    "\n",
    "\n",
    "test_images = test_images.reshape((10000,28*28))\n",
    "test_images = test_images.astype('float32')/255\n",
    "\n",
    "train_images,val_images = images[10000:],images[:10000]\n",
    "\n",
    "\n",
    "train_labels,val_labels = labels[10000:],labels[:10000]"
   ]
  },
  {
   "cell_type": "code",
   "execution_count": 44,
   "metadata": {},
   "outputs": [],
   "source": [
    "model = get_mnist_model()\n",
    "model.compile(\n",
    "            optimizer = keras.optimizers.RMSprop(),\n",
    "            loss = keras.losses.SparseCategoricalCrossentropy(),\n",
    "            metrics = ['accuracy']\n",
    ")\n"
   ]
  },
  {
   "cell_type": "code",
   "execution_count": 45,
   "metadata": {},
   "outputs": [
    {
     "name": "stdout",
     "output_type": "stream",
     "text": [
      "Epoch 1/3\n",
      "1563/1563 [==============================] - 10s 6ms/step - loss: 0.2950 - accuracy: 0.9118 - val_loss: 0.1592 - val_accuracy: 0.9534\n",
      "Epoch 2/3\n",
      "1563/1563 [==============================] - 9s 6ms/step - loss: 0.1677 - accuracy: 0.9539 - val_loss: 0.1191 - val_accuracy: 0.9675\n",
      "Epoch 3/3\n",
      "1563/1563 [==============================] - 9s 6ms/step - loss: 0.1405 - accuracy: 0.9625 - val_loss: 0.1158 - val_accuracy: 0.9701\n"
     ]
    },
    {
     "data": {
      "text/plain": [
       "<keras.callbacks.History at 0x258a1f26610>"
      ]
     },
     "execution_count": 45,
     "metadata": {},
     "output_type": "execute_result"
    }
   ],
   "source": [
    "model.fit(train_images,train_labels,\n",
    "            epochs = 3,\n",
    "            validation_data = (val_images,val_labels)\n",
    "            \n",
    "            )\n"
   ]
  },
  {
   "cell_type": "code",
   "execution_count": 46,
   "metadata": {},
   "outputs": [
    {
     "name": "stdout",
     "output_type": "stream",
     "text": [
      "313/313 [==============================] - 1s 3ms/step - loss: 0.1139 - accuracy: 0.9715\n"
     ]
    }
   ],
   "source": [
    "test_metric = model.evaluate(test_images,test_labels)"
   ]
  },
  {
   "cell_type": "code",
   "execution_count": 47,
   "metadata": {},
   "outputs": [
    {
     "name": "stdout",
     "output_type": "stream",
     "text": [
      "313/313 [==============================] - 0s 1ms/step\n"
     ]
    }
   ],
   "source": [
    "predictions = model.predict(test_images)"
   ]
  },
  {
   "cell_type": "markdown",
   "metadata": {},
   "source": [
    "There are a couple of ways you can customize this simple workflow:\n",
    "\n",
    "1.  Provide your own custom metrics.\n",
    "2.  Pass callbacks to the fit() method to schedule actions to be taken at specific\n",
    "points during training."
   ]
  },
  {
   "cell_type": "markdown",
   "metadata": {},
   "source": [
    "### 7.3.1 Writing your own metrics"
   ]
  },
  {
   "cell_type": "markdown",
   "metadata": {},
   "source": [
    "Commonly used metrics for classification and regression are\n",
    "already part of the built-in keras.metrics module, and most of the time that’s what\n",
    "you will use. But if you’re doing anything out of the ordinary, you will need to be able\n",
    "to write your own metrics. It’s simple!"
   ]
  },
  {
   "cell_type": "markdown",
   "metadata": {},
   "source": [
    "A Keras metric is a subclass of the keras.metrics.Metric class. Like layers, a metric has an internal state stored in TensorFlow variables. \n",
    "\n",
    "Unlike layers, these variables aren’t updated via backpropagation, so you have to write the state-update logic yourself, which happens in the __update_state()__ method"
   ]
  },
  {
   "cell_type": "markdown",
   "metadata": {},
   "source": [
    "Listing 7.18 Implementing a custom metric by subclassing the Metric class"
   ]
  },
  {
   "cell_type": "code",
   "execution_count": 48,
   "metadata": {},
   "outputs": [],
   "source": [
    "import tensorflow as tf\n",
    "class RootMeanSquaredError(keras.metrics.Metric):\n",
    "    ## Define the state variables in theconstructor. Like for layers, you have access to\n",
    "    ##the add_weight() method.\n",
    "    def __init__(self,name = 'rmse',**kwargs):\n",
    "        super().__init__(name=name,**kwargs)\n",
    "        self.mse_sum = self.add_weight(name='mse_sum',initializer = 'zeros')\n",
    "        self.total_samples = self.add_weight( name='total_samples',initializer='zeros',dtype ='int32' )\n",
    "\n",
    "\n",
    "### To match MNIST model, we expect categorical predictions and integer labels\n",
    "    def update_state(self,y_true,y_pred,sample_weight = None):\n",
    "        y_true = tf.one_hot(y_true,depth=tf.shape(y_pred)[1])\n",
    "        mse = tf.reduce_sum(tf.square(y_true-y_pred ))\n",
    "        self.mse_sum.assign_add(mse)\n",
    "        num_samples = tf.shape(y_pred)[0]\n",
    "        self.total_samples.assign_add(num_samples)\n",
    "###Implement the state update logic in update_state(). The y_true argument\n",
    "##is the targets (or labels) for one batch, while y_pred represents the\n",
    "# corresponding predictions from the model. You can ignore the\n",
    "# sample_weight argument—we won’t use it here.\n",
    "\n",
    "    def result(self):\n",
    "        return tf.sqrt(self.mse_sum/tf.cast( self.total_samples ,tf.float32))\n",
    "\n",
    "    def reset_state(self):\n",
    "        self.mse_sum.assign(0.)\n",
    "        self.total_samples.assign(0)"
   ]
  },
  {
   "cell_type": "markdown",
   "metadata": {},
   "source": [
    "Meanwhile, you also need to expose a way to reset the metric state without having to\n",
    "reinstantiate it—this enables the same metric objects to be used across different\n",
    "epochs of training or across both training and evaluation. \n",
    "\n",
    "You do this with the\n",
    "__reset_state()__ method"
   ]
  },
  {
   "cell_type": "markdown",
   "metadata": {},
   "source": [
    "It can be used like built-in one"
   ]
  },
  {
   "cell_type": "code",
   "execution_count": 49,
   "metadata": {},
   "outputs": [
    {
     "name": "stdout",
     "output_type": "stream",
     "text": [
      "Epoch 1/3\n",
      "1563/1563 [==============================] - 11s 6ms/step - loss: 0.2961 - accuracy: 0.9120 - rmse: 7.1807 - val_loss: 0.1476 - val_accuracy: 0.9553 - val_rmse: 7.3446\n",
      "Epoch 2/3\n",
      "1563/1563 [==============================] - 10s 6ms/step - loss: 0.1692 - accuracy: 0.9537 - rmse: 7.3517 - val_loss: 0.1188 - val_accuracy: 0.9692 - val_rmse: 7.4062\n",
      "Epoch 3/3\n",
      "1563/1563 [==============================] - 10s 6ms/step - loss: 0.1394 - accuracy: 0.9621 - rmse: 7.3885 - val_loss: 0.1155 - val_accuracy: 0.9697 - val_rmse: 7.4221\n",
      "313/313 [==============================] - 1s 3ms/step - loss: 0.1026 - accuracy: 0.9731 - rmse: 7.4359\n"
     ]
    }
   ],
   "source": [
    "model = get_mnist_model()\n",
    "model.compile(optimizer=\"rmsprop\",\n",
    " loss=\"sparse_categorical_crossentropy\",\n",
    " metrics=[\"accuracy\", RootMeanSquaredError()])\n",
    "model.fit(train_images, train_labels,\n",
    " epochs=3,\n",
    " validation_data=(val_images, val_labels))\n",
    "test_metrics = model.evaluate(test_images, test_labels)"
   ]
  },
  {
   "cell_type": "markdown",
   "metadata": {},
   "source": [
    "### 7.3.2 Using callbacks"
   ]
  },
  {
   "cell_type": "markdown",
   "metadata": {},
   "source": [
    "If you want to avoid bad outcomes (and\n",
    "thus wasted paper airplanes), it’s smarter to use, not a paper plane, but a drone that\n",
    "can sense its environment, send data back to its operator, and automatically make steering decisions based on its current state. \n",
    "\n",
    "The Keras __callbacks__ API will help you\n",
    "transform your call to model.fit() from a paper airplane into a smart, autonomous\n",
    "drone that can self-introspect and dynamically take action."
   ]
  },
  {
   "cell_type": "markdown",
   "metadata": {},
   "source": [
    "A callback is an object (a class instance implementing specific methods) that is\n",
    "passed to the model in the call to fit() and that is called by the model at various\n",
    "points during training. \n",
    "\n",
    "It has access to all the available data about the state of the\n",
    "model and its performance, and it can take action: interrupt training, save a model,\n",
    "load a different weight set, or otherwise alter the state of the model."
   ]
  },
  {
   "cell_type": "markdown",
   "metadata": {},
   "source": [
    "Here are some examples of ways you can use callbacks:\n",
    "+ $Model checkpointing$—Saving the current state of the model at different points\n",
    "during training.\n",
    "\n",
    "+ $Early stopping$—Interrupting training when the validation loss is no longer\n",
    "improving (and of course, saving the best model obtained during training).\n",
    "\n",
    "+ $Dynamically-adjusting-the-value-of-certain-parameters-during-training$—Such as the\n",
    "learning rate of the optimizer.\n",
    "\n",
    "+ $Logging-training-and-validation-metrics-during-training,-or-visualizing-the-representations-learned-by-the-model-as they’re-updated$ —The fit() progress bar that you’re\n",
    "familiar with is in fact a callback!"
   ]
  },
  {
   "cell_type": "markdown",
   "metadata": {},
   "source": [
    "The keras.callbacks module includes a number of built-in callbacks (this is not an\n",
    "exhaustive list):\n",
    "\n",
    "keras.callbacks.ModelCheckpoint\n",
    "\n",
    "keras.callbacks.EarlyStopping\n",
    "\n",
    "keras.callbacks.LearningRateScheduler\n",
    "\n",
    "keras.callbacks.ReduceLROnPlateau\n",
    "\n",
    "keras.callbacks.CSVLogger"
   ]
  },
  {
   "cell_type": "markdown",
   "metadata": {},
   "source": [
    "#### THE EARLYSTOPPING AND MODELCHECKPOINT CALLBACKS"
   ]
  },
  {
   "cell_type": "markdown",
   "metadata": {},
   "source": [
    "A much better way to\n",
    " handle this is to stop training when you measure that the validation loss is no longer\n",
    " improving. This can be achieved using the EarlyStopping callback\n",
    "\n",
    "The EarlyStopping callback interrupts training once a target metric being monitored has stopped improving for a fixed number of epochs.\n",
    "\n",
    "For instance, this callback\n",
    "allows you to interrupt training as soon as you start overfitting, thus avoiding having to\n",
    "retrain your model for a smaller number of epochs.\n",
    "\n",
    "\n",
    "This callback is typically used in combination with __ModelCheckpoint__, which lets you continually save the model during\n",
    "training (and, optionally, save only the current best model so far: the version of the\n",
    "model that achieved the best performance at the end of an epoch)"
   ]
  },
  {
   "cell_type": "markdown",
   "metadata": {},
   "source": [
    "Listing 7.19 Using the callbacks argument in the fit() method"
   ]
  },
  {
   "cell_type": "code",
   "execution_count": 50,
   "metadata": {},
   "outputs": [],
   "source": [
    "\n",
    "# Callbacks are passed to the model via the\n",
    "# callbacks argument in fit(), which takes a list of\n",
    "# callbacks. You can pass any number of callbacks.\n",
    "callbacks_list = [\n",
    "    # Interrupts training when improvement stops\n",
    "    keras.callbacks.EarlyStopping(\n",
    "    #  Monitors the model’s validation accuracy\n",
    "        monitor = 'val_accuracy',\n",
    "    # Interrupts training when accuracy has stopped improving for two epochs\n",
    "        patience = 2\n",
    "    ),\n",
    "\n",
    "    #Saves the current weights after every epoch\n",
    "    keras.callbacks.ModelCheckpoint(\n",
    "        #Path to the destination model file\n",
    "        filepath = 'checkpoint_path.keras',\n",
    "        # These two arguments mean you won’t overwrite the model file unless val_loss \n",
    "        # has improved, which allows you to keep the best model seen during training\n",
    "        monitor = 'val_accuracy',\n",
    "        save_best_only = True\n",
    "    )\n",
    "]"
   ]
  },
  {
   "cell_type": "code",
   "execution_count": 51,
   "metadata": {},
   "outputs": [
    {
     "name": "stdout",
     "output_type": "stream",
     "text": [
      "Epoch 1/5\n",
      "1563/1563 [==============================] - 9s 6ms/step - loss: 0.2964 - accuracy: 0.9121 - val_loss: 0.1549 - val_accuracy: 0.9543\n",
      "Epoch 2/5\n",
      "1563/1563 [==============================] - 12s 7ms/step - loss: 0.1652 - accuracy: 0.9523 - val_loss: 0.1243 - val_accuracy: 0.9660\n",
      "Epoch 3/5\n",
      "1563/1563 [==============================] - 11s 7ms/step - loss: 0.1393 - accuracy: 0.9627 - val_loss: 0.1133 - val_accuracy: 0.9715\n",
      "Epoch 4/5\n",
      "1563/1563 [==============================] - 10s 6ms/step - loss: 0.1290 - accuracy: 0.9665 - val_loss: 0.1104 - val_accuracy: 0.9733\n",
      "Epoch 5/5\n",
      "1563/1563 [==============================] - 10s 7ms/step - loss: 0.1131 - accuracy: 0.9714 - val_loss: 0.1132 - val_accuracy: 0.9739\n"
     ]
    },
    {
     "data": {
      "text/plain": [
       "<keras.callbacks.History at 0x258ad2fbfa0>"
      ]
     },
     "execution_count": 51,
     "metadata": {},
     "output_type": "execute_result"
    }
   ],
   "source": [
    "model = get_mnist_model()\n",
    "\n",
    "model.compile(optimizer=\"rmsprop\",\n",
    " loss=\"sparse_categorical_crossentropy\",\n",
    " metrics=[\"accuracy\"]) \n",
    "\n",
    "model.fit(train_images, train_labels, \n",
    " epochs=5, \n",
    " callbacks=callbacks_list, \n",
    " validation_data=(val_images, val_labels))"
   ]
  },
  {
   "cell_type": "markdown",
   "metadata": {},
   "source": [
    "Note that you can always save models manually after training as well—just call\n",
    "\n",
    "__model.save('my_checkpoint_path')__ \n",
    "\n",
    "To reload the model you’ve saved, just use \n",
    "\n",
    "\n",
    "__model = keras.models.load_model(\"checkpoint_path.keras\")__"
   ]
  },
  {
   "cell_type": "markdown",
   "metadata": {},
   "source": [
    "### 7.2.3 Writing your own callbacks"
   ]
  },
  {
   "cell_type": "code",
   "execution_count": null,
   "metadata": {},
   "outputs": [],
   "source": []
  },
  {
   "cell_type": "code",
   "execution_count": null,
   "metadata": {},
   "outputs": [],
   "source": []
  }
 ],
 "metadata": {
  "kernelspec": {
   "display_name": "Python 3.9.11 64-bit",
   "language": "python",
   "name": "python3"
  },
  "language_info": {
   "codemirror_mode": {
    "name": "ipython",
    "version": 3
   },
   "file_extension": ".py",
   "mimetype": "text/x-python",
   "name": "python",
   "nbconvert_exporter": "python",
   "pygments_lexer": "ipython3",
   "version": "3.9.11"
  },
  "orig_nbformat": 4,
  "vscode": {
   "interpreter": {
    "hash": "e450050b432e843bda3c41bf3272c133bfc370a7003f3e377e27f87a49ce1127"
   }
  }
 },
 "nbformat": 4,
 "nbformat_minor": 2
}
