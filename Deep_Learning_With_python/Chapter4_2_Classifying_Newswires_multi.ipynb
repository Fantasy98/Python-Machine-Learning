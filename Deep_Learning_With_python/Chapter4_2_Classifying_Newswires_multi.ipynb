{
 "cells": [
  {
   "cell_type": "markdown",
   "metadata": {},
   "source": [
    "# Chapter 4.2 Classifying Newswires Multiclass Classification "
   ]
  },
  {
   "cell_type": "markdown",
   "metadata": {},
   "source": [
    "In this section, we’ll build a model to classify Reuters newswires into 46 mutually\n",
    "exclusive topics. \n",
    "\n",
    "Because we have many classes, this problem is an instance of multiclass classification, and because each data point should be classified into only one category, the problem is more specifically an instance of single-label multiclass classification.\n",
    "\n",
    "If each data point could belong to multiple categories (in this case, topics), we’d be\n",
    "facing a multilabel multiclass classification problem."
   ]
  },
  {
   "cell_type": "markdown",
   "metadata": {},
   "source": [
    "### 4.2.1 The Reuters DataSet"
   ]
  },
  {
   "cell_type": "markdown",
   "metadata": {},
   "source": [
    "You’ll work with the Reuters dataset, a set of short newswires and their topics, published\n",
    "by Reuters in 1986. It’s a simple, widely used toy dataset for text classification. There\n",
    "are 46 different topics; some topics are more represented than others, but each topic\n",
    "has at least 10 examples in the training set."
   ]
  },
  {
   "cell_type": "markdown",
   "metadata": {},
   "source": [
    "Listing 4.11 Loading the Reuters Dataset"
   ]
  },
  {
   "cell_type": "code",
   "execution_count": 1,
   "metadata": {},
   "outputs": [],
   "source": [
    "from tensorflow import keras\n",
    "from keras.datasets import reuters \n",
    "\n",
    "(train_data,train_labels),(test_data,test_labels) = reuters.load_data(num_words= 10000)"
   ]
  },
  {
   "cell_type": "code",
   "execution_count": 2,
   "metadata": {},
   "outputs": [
    {
     "name": "stdout",
     "output_type": "stream",
     "text": [
      "8982\n",
      "2246\n"
     ]
    }
   ],
   "source": [
    "print(len(train_data))\n",
    "print(len(test_data))"
   ]
  },
  {
   "cell_type": "code",
   "execution_count": 3,
   "metadata": {},
   "outputs": [
    {
     "name": "stdout",
     "output_type": "stream",
     "text": [
      "[1, 245, 273, 207, 156, 53, 74, 160, 26, 14, 46, 296, 26, 39, 74, 2979, 3554, 14, 46, 4689, 4329, 86, 61, 3499, 4795, 14, 61, 451, 4329, 17, 12]\n"
     ]
    }
   ],
   "source": [
    "print(train_data[10])"
   ]
  },
  {
   "cell_type": "markdown",
   "metadata": {},
   "source": [
    "Listing 4.12 Decoding newswires back to text"
   ]
  },
  {
   "cell_type": "code",
   "execution_count": 4,
   "metadata": {},
   "outputs": [
    {
     "name": "stdout",
     "output_type": "stream",
     "text": [
      "???saidasaresultofitsdecemberacquisitionofspacecoitexpectsearningspersharein1987of115to130dlrspershareupfrom70ctsin1986thecompanysaidpretaxnetshouldrisetonineto10mlndlrsfromsixmlndlrsin1986andrentaloperationrevenuesto19to22mlndlrsfrom125mlndlrsitsaidcashflowpersharethisyearshouldbe250tothreedlrsreuter3\n"
     ]
    }
   ],
   "source": [
    "word_index = reuters.get_word_index()\n",
    "revers_word_index = dict( (value,key) for (key,value) in word_index.items()  )\n",
    "\n",
    "decoded_newswire = \"\".join( [revers_word_index.get(i-3,\"?\") for i in train_data[0]  ]           )\n",
    "print(decoded_newswire)"
   ]
  },
  {
   "cell_type": "code",
   "execution_count": 5,
   "metadata": {},
   "outputs": [],
   "source": [
    "import numpy as np\n",
    "def vectorize_sequence(sequences,num_dim = 10000):\n",
    "    results  = np.zeros((len(sequences),num_dim))\n",
    "    for i, sequence in enumerate(sequences):\n",
    "        for j in sequence:\n",
    "            results[i,j] = 1\n",
    "    return results"
   ]
  },
  {
   "cell_type": "markdown",
   "metadata": {},
   "source": [
    "List 4.13 Encoding the input data"
   ]
  },
  {
   "cell_type": "code",
   "execution_count": 6,
   "metadata": {},
   "outputs": [],
   "source": [
    "x_train = vectorize_sequence(train_data).astype(\"float32\")\n",
    "x_test = vectorize_sequence(test_data).astype(\"float32\")"
   ]
  },
  {
   "cell_type": "markdown",
   "metadata": {},
   "source": [
    "List 4.14 Encoding the labels"
   ]
  },
  {
   "cell_type": "code",
   "execution_count": 7,
   "metadata": {},
   "outputs": [],
   "source": [
    "def to_one_hot (labels,dimension = 46):\n",
    "    results = np.zeros((len(labels),dimension))\n",
    "    for i , label in enumerate(labels):\n",
    "        results[i,label] = 1\n",
    "    return results\n",
    "\n",
    "\n",
    "y_train  = to_one_hot(train_labels).astype(\"float32\")\n",
    "y_test  = to_one_hot(test_labels).astype(\"float32\")\n"
   ]
  },
  {
   "cell_type": "markdown",
   "metadata": {},
   "source": [
    "There is a built-in method"
   ]
  },
  {
   "cell_type": "code",
   "execution_count": 8,
   "metadata": {},
   "outputs": [],
   "source": [
    "from tensorflow.keras.utils import to_categorical\n",
    "y_train = to_categorical(train_labels)\n",
    "y_test = to_categorical(test_labels)\n"
   ]
  },
  {
   "cell_type": "markdown",
   "metadata": {},
   "source": [
    "### 4.2.3 Builing your model"
   ]
  },
  {
   "cell_type": "markdown",
   "metadata": {},
   "source": [
    "In a stack of Dense layers like those we’ve been using, each layer can only access\n",
    "information present in the output of the previous layer. \n",
    "\n",
    "If one layer drops some information relevant to the classification problem, this information can never be\n",
    "recovered by later layers: each layer can potentially become an information bottleneck.\n",
    "\n",
    "In the previous example, we used 16-dimensional intermediate layers, but a\n",
    "16-dimensional space may be too limited to learn to separate 46 different classes:\n",
    "such small layers may act as information bottlenecks, permanently dropping relevant information."
   ]
  },
  {
   "cell_type": "markdown",
   "metadata": {},
   "source": [
    "Listing 4.15 Model definition"
   ]
  },
  {
   "cell_type": "code",
   "execution_count": 9,
   "metadata": {},
   "outputs": [],
   "source": [
    "from tensorflow import keras\n",
    "from keras import layers\n",
    "\n",
    "\n",
    "\n",
    "model = keras.Sequential([\n",
    "                        layers.Dense(units=64, activation='relu'),\n",
    "                        layers.Dense(units=64, activation='relu'),\n",
    "                        layers.Dense(units=46, activation='softmax'),\n",
    "                        \n",
    "])"
   ]
  },
  {
   "cell_type": "markdown",
   "metadata": {},
   "source": [
    "+ First, we end the model with a Dense layer of size 46. This means for each input\n",
    "sample, the network will output a 46-dimensional vector. Each entry in this vector\n",
    "(each dimension) will encode a different output class.\n",
    "\n",
    "\n",
    "+ Second, the last layer uses a softmax activation. It means the model will output a probability distribution over the 46 different output classes—for every input sample, the model will produce a 46-dimensional output vector, where output[i] is the probability that the sample belongs to class i. The 46 scores will sum to 1."
   ]
  },
  {
   "cell_type": "markdown",
   "metadata": {},
   "source": [
    "The best loss function to use in this case is categorical_crossentropy. It measures the distance between two probability distributions."
   ]
  },
  {
   "cell_type": "markdown",
   "metadata": {},
   "source": [
    " By minimizing the distance between these two distributions, you train the model to output something as close as possible to the true labels."
   ]
  },
  {
   "cell_type": "markdown",
   "metadata": {},
   "source": [
    "Listing 4.16 Compiling the model\n",
    "\n",
    "\n",
    "When you are mentioning keras.metrics.Accuracy() you are explicitly asking the library to calculate the metric Accuracy which is simple comparison between how many target values matches the predicted values.\n",
    "\n",
    "However, when you mention the string accuracy then depending on the type of loss you have chosen a different Metric gets selected. This is what is mentioned in the documentation of Keras,"
   ]
  },
  {
   "cell_type": "code",
   "execution_count": 54,
   "metadata": {},
   "outputs": [],
   "source": [
    "model.compile(\n",
    "            optimizer=keras.optimizers.RMSprop(learning_rate=0.001),\n",
    "            loss = keras.losses.CategoricalCrossentropy(),\n",
    "            metrics = ['accuracy']\n",
    "                )"
   ]
  },
  {
   "cell_type": "markdown",
   "metadata": {},
   "source": [
    "### 4.2.4 Validating your approach"
   ]
  },
  {
   "cell_type": "markdown",
   "metadata": {},
   "source": [
    "Listing 4.17 Setting aside validation set "
   ]
  },
  {
   "cell_type": "code",
   "execution_count": 55,
   "metadata": {},
   "outputs": [],
   "source": [
    "x_val = x_train[:1000]\n",
    "y_val = y_train[:1000]\n",
    "\n",
    "pratial_x_train = x_train[1000:]\n",
    "pratial_y_train = y_train[1000:]"
   ]
  },
  {
   "cell_type": "markdown",
   "metadata": {},
   "source": [
    "List 4.18 Training the model "
   ]
  },
  {
   "cell_type": "code",
   "execution_count": 56,
   "metadata": {},
   "outputs": [
    {
     "name": "stdout",
     "output_type": "stream",
     "text": [
      "Epoch 1/20\n",
      "16/16 [==============================] - 1s 34ms/step - loss: 0.1284 - accuracy: 0.9567 - val_loss: 0.5007 - val_accuracy: 0.9010\n",
      "Epoch 2/20\n",
      "16/16 [==============================] - 0s 18ms/step - loss: 0.0977 - accuracy: 0.9597 - val_loss: 0.5538 - val_accuracy: 0.9010\n",
      "Epoch 3/20\n",
      "16/16 [==============================] - 0s 18ms/step - loss: 0.0934 - accuracy: 0.9589 - val_loss: 0.5535 - val_accuracy: 0.8910\n",
      "Epoch 4/20\n",
      "16/16 [==============================] - 0s 19ms/step - loss: 0.0921 - accuracy: 0.9592 - val_loss: 0.5698 - val_accuracy: 0.8990\n",
      "Epoch 5/20\n",
      "16/16 [==============================] - 0s 18ms/step - loss: 0.0926 - accuracy: 0.9584 - val_loss: 0.5817 - val_accuracy: 0.8840\n",
      "Epoch 6/20\n",
      "16/16 [==============================] - 0s 18ms/step - loss: 0.0927 - accuracy: 0.9592 - val_loss: 0.5852 - val_accuracy: 0.8830\n",
      "Epoch 7/20\n",
      "16/16 [==============================] - 0s 18ms/step - loss: 0.0917 - accuracy: 0.9582 - val_loss: 0.5970 - val_accuracy: 0.8900\n",
      "Epoch 8/20\n",
      "16/16 [==============================] - 0s 20ms/step - loss: 0.0916 - accuracy: 0.9585 - val_loss: 0.6156 - val_accuracy: 0.8850\n",
      "Epoch 9/20\n",
      "16/16 [==============================] - 0s 18ms/step - loss: 0.0904 - accuracy: 0.9588 - val_loss: 0.6032 - val_accuracy: 0.8890\n",
      "Epoch 10/20\n",
      "16/16 [==============================] - 0s 19ms/step - loss: 0.0869 - accuracy: 0.9585 - val_loss: 0.6377 - val_accuracy: 0.8850\n",
      "Epoch 11/20\n",
      "16/16 [==============================] - 0s 19ms/step - loss: 0.0888 - accuracy: 0.9585 - val_loss: 0.6937 - val_accuracy: 0.8720\n",
      "Epoch 12/20\n",
      "16/16 [==============================] - 0s 20ms/step - loss: 0.0881 - accuracy: 0.9588 - val_loss: 0.6369 - val_accuracy: 0.8850\n",
      "Epoch 13/20\n",
      "16/16 [==============================] - 0s 19ms/step - loss: 0.0866 - accuracy: 0.9584 - val_loss: 0.6579 - val_accuracy: 0.8790\n",
      "Epoch 14/20\n",
      "16/16 [==============================] - 0s 20ms/step - loss: 0.0869 - accuracy: 0.9594 - val_loss: 0.6929 - val_accuracy: 0.8740\n",
      "Epoch 15/20\n",
      "16/16 [==============================] - 0s 19ms/step - loss: 0.0852 - accuracy: 0.9593 - val_loss: 0.6731 - val_accuracy: 0.8750\n",
      "Epoch 16/20\n",
      "16/16 [==============================] - 0s 19ms/step - loss: 0.0831 - accuracy: 0.9597 - val_loss: 0.6643 - val_accuracy: 0.8730\n",
      "Epoch 17/20\n",
      "16/16 [==============================] - 0s 18ms/step - loss: 0.0848 - accuracy: 0.9568 - val_loss: 0.6992 - val_accuracy: 0.8660\n",
      "Epoch 18/20\n",
      "16/16 [==============================] - 0s 18ms/step - loss: 0.0813 - accuracy: 0.9602 - val_loss: 0.6846 - val_accuracy: 0.8710\n",
      "Epoch 19/20\n",
      "16/16 [==============================] - 0s 22ms/step - loss: 0.0849 - accuracy: 0.9608 - val_loss: 0.7227 - val_accuracy: 0.8630\n",
      "Epoch 20/20\n",
      "16/16 [==============================] - 0s 17ms/step - loss: 0.0818 - accuracy: 0.9582 - val_loss: 0.7233 - val_accuracy: 0.8640\n"
     ]
    }
   ],
   "source": [
    "history = model.fit(\n",
    "        pratial_x_train,\n",
    "        pratial_y_train,\n",
    "        epochs = 20,\n",
    "        batch_size = 512,\n",
    "        validation_data = (x_val,y_val)\n",
    ")"
   ]
  },
  {
   "cell_type": "code",
   "execution_count": 57,
   "metadata": {},
   "outputs": [],
   "source": [
    "history_dict = history.history\n",
    "\n",
    "loss = history_dict['loss']\n",
    "accuracy = history_dict['accuracy']\n",
    "\n",
    "val_loss = history_dict['val_loss']\n",
    "val_accuracy = history_dict['val_accuracy']"
   ]
  },
  {
   "cell_type": "code",
   "execution_count": 58,
   "metadata": {},
   "outputs": [
    {
     "data": {
      "image/png": "[encoded data removed]",
      "text/plain": [
       "<Figure size 432x288 with 1 Axes>"
      ]
     },
     "metadata": {
      "needs_background": "light"
     },
     "output_type": "display_data"
    }
   ],
   "source": [
    "from matplotlib import pyplot as plt\n",
    "\n",
    "epoch = np.arange(1,len(loss)+1)\n",
    "\n",
    "plt.plot(epoch,loss,'o-r',lw = 2.5,label = 'Loss of training')\n",
    "plt.plot(epoch,val_loss,'o-b',lw = 2.5,label = 'Loss of validation')\n",
    "plt.xlabel('Epochs')\n",
    "plt.ylabel('Loss')\n",
    "plt.legend()\n",
    "plt.show()"
   ]
  },
  {
   "cell_type": "code",
   "execution_count": 59,
   "metadata": {},
   "outputs": [
    {
     "data": {
      "image/png": "[encoded data removed]",
      "text/plain": [
       "<Figure size 432x288 with 1 Axes>"
      ]
     },
     "metadata": {
      "needs_background": "light"
     },
     "output_type": "display_data"
    }
   ],
   "source": [
    "from matplotlib import pyplot as plt\n",
    "\n",
    "epoch = np.arange(1,len(loss)+1)\n",
    "plt.clf()\n",
    "plt.plot(epoch,accuracy,'o-r',lw = 2.5,label = 'Accuracy of training')\n",
    "plt.plot(epoch,val_accuracy,'o-b',lw = 2.5,label = 'Accuracy of validation')\n",
    "plt.xlabel('Epochs')\n",
    "plt.ylabel('Accuracy')\n",
    "plt.legend()\n",
    "plt.show()"
   ]
  },
  {
   "cell_type": "markdown",
   "metadata": {},
   "source": [
    "Listing 4.21 Retraining a model from scratch"
   ]
  },
  {
   "cell_type": "code",
   "execution_count": 60,
   "metadata": {},
   "outputs": [],
   "source": [
    "model = keras.Sequential([\n",
    "                        layers.Dense(units=64,activation='relu'),\n",
    "                        layers.Dense(units=64,activation='relu'),\n",
    "                        layers.Dense(units=46,activation='softmax')\n",
    "                        \n",
    "])"
   ]
  },
  {
   "cell_type": "code",
   "execution_count": 61,
   "metadata": {},
   "outputs": [],
   "source": [
    "model.compile( \n",
    "                optimizer = keras.optimizers.RMSprop(),\n",
    "                loss = keras.losses.CategoricalCrossentropy(),\n",
    "                metrics = ['accuracy']\n",
    "            )"
   ]
  },
  {
   "cell_type": "code",
   "execution_count": 62,
   "metadata": {},
   "outputs": [
    {
     "name": "stdout",
     "output_type": "stream",
     "text": [
      "Epoch 1/9\n",
      "18/18 [==============================] - 1s 16ms/step - loss: 2.3946 - accuracy: 0.5377\n",
      "Epoch 2/9\n",
      "18/18 [==============================] - 0s 20ms/step - loss: 1.3179 - accuracy: 0.7143\n",
      "Epoch 3/9\n",
      "18/18 [==============================] - 0s 18ms/step - loss: 0.9830 - accuracy: 0.7828\n",
      "Epoch 4/9\n",
      "18/18 [==============================] - 0s 17ms/step - loss: 0.7688 - accuracy: 0.8333\n",
      "Epoch 5/9\n",
      "18/18 [==============================] - 0s 16ms/step - loss: 0.6049 - accuracy: 0.8725\n",
      "Epoch 6/9\n",
      "18/18 [==============================] - 0s 15ms/step - loss: 0.4811 - accuracy: 0.8991\n",
      "Epoch 7/9\n",
      "18/18 [==============================] - 0s 15ms/step - loss: 0.3883 - accuracy: 0.9202\n",
      "Epoch 8/9\n",
      "18/18 [==============================] - 0s 16ms/step - loss: 0.3176 - accuracy: 0.9330\n",
      "Epoch 9/9\n",
      "18/18 [==============================] - 0s 14ms/step - loss: 0.2638 - accuracy: 0.9383\n"
     ]
    },
    {
     "data": {
      "text/plain": [
       "<keras.callbacks.History at 0x21d7384a790>"
      ]
     },
     "execution_count": 62,
     "metadata": {},
     "output_type": "execute_result"
    }
   ],
   "source": [
    "model.fit(x_train,y_train,epochs=9,batch_size=512)"
   ]
  },
  {
   "cell_type": "code",
   "execution_count": 63,
   "metadata": {},
   "outputs": [
    {
     "name": "stdout",
     "output_type": "stream",
     "text": [
      "71/71 [==============================] - 0s 2ms/step - loss: 0.9363 - accuracy: 0.7974\n"
     ]
    },
    {
     "data": {
      "text/plain": [
       "[0.9362921118736267, 0.7974176406860352]"
      ]
     },
     "execution_count": 63,
     "metadata": {},
     "output_type": "execute_result"
    }
   ],
   "source": [
    "model.evaluate(x_test,y_test)"
   ]
  },
  {
   "cell_type": "markdown",
   "metadata": {},
   "source": [
    "With a balanced binary classification\n",
    "problem, the accuracy reached by a purely random classifier would be 50%. \n",
    "\n",
    "But in this case, we have 46 classes, and they may not be equally represented. \n",
    "\n",
    "What would be the accuracy of a random baseline? We could try quickly implementing one to check\n",
    "this empirically"
   ]
  },
  {
   "cell_type": "code",
   "execution_count": 64,
   "metadata": {},
   "outputs": [
    {
     "data": {
      "text/plain": [
       "0.18699910952804988"
      ]
     },
     "execution_count": 64,
     "metadata": {},
     "output_type": "execute_result"
    }
   ],
   "source": [
    "import copy\n",
    "test_labels_copy = copy.copy(test_labels)\n",
    "\n",
    "np.random.shuffle(test_labels_copy)\n",
    "\n",
    "hits_array = np.array(test_labels) == np.array(test_labels_copy)\n",
    "hits_array.mean()"
   ]
  },
  {
   "cell_type": "markdown",
   "metadata": {},
   "source": [
    "As you can see, the random classifier would score around 19% "
   ]
  },
  {
   "cell_type": "markdown",
   "metadata": {},
   "source": [
    "### 4.2.5 Generating predictions on new data"
   ]
  },
  {
   "cell_type": "code",
   "execution_count": 65,
   "metadata": {},
   "outputs": [
    {
     "name": "stdout",
     "output_type": "stream",
     "text": [
      "71/71 [==============================] - 0s 2ms/step\n"
     ]
    }
   ],
   "source": [
    "predictions = model.predict(x_test)"
   ]
  },
  {
   "cell_type": "code",
   "execution_count": 66,
   "metadata": {},
   "outputs": [
    {
     "data": {
      "text/plain": [
       "(46,)"
      ]
     },
     "execution_count": 66,
     "metadata": {},
     "output_type": "execute_result"
    }
   ],
   "source": [
    "predictions[0].shape"
   ]
  },
  {
   "cell_type": "code",
   "execution_count": 67,
   "metadata": {},
   "outputs": [
    {
     "data": {
      "text/plain": [
       "1.0"
      ]
     },
     "execution_count": 67,
     "metadata": {},
     "output_type": "execute_result"
    }
   ],
   "source": [
    "np.sum(predictions[0])"
   ]
  },
  {
   "cell_type": "code",
   "execution_count": 68,
   "metadata": {},
   "outputs": [
    {
     "data": {
      "text/plain": [
       "3"
      ]
     },
     "execution_count": 68,
     "metadata": {},
     "output_type": "execute_result"
    }
   ],
   "source": [
    "np.argmax(predictions[0])"
   ]
  },
  {
   "cell_type": "markdown",
   "metadata": {},
   "source": [
    "### 4.2.6 A different way to handle the labels and the loss"
   ]
  },
  {
   "cell_type": "markdown",
   "metadata": {},
   "source": [
    "We mentioned earlier that another way to encode the labels would be to cast them as\n",
    "an integer tensor, like this:"
   ]
  },
  {
   "cell_type": "markdown",
   "metadata": {},
   "source": [
    "y_train = np.array(train_labels)\n",
    "\n",
    "\n",
    "y_test = np.array(test_labels)"
   ]
  },
  {
   "cell_type": "markdown",
   "metadata": {},
   "source": [
    "The only thing this approach would change is the choice of the loss function. \n",
    "\n",
    "The loss function used in listing 4.21, categorical_crossentropy, expects the labels to follow\n",
    "a categorical encoding. With integer labels, you should use sparse_categorical_\n",
    "crossentropy"
   ]
  },
  {
   "cell_type": "markdown",
   "metadata": {},
   "source": [
    "model.compile(optimizer=\"rmsprop\",\n",
    " \n",
    " loss=\"sparse_categorical_crossentropy\",\n",
    " \n",
    " \n",
    " metrics=[\"accuracy\"])\n",
    "\n",
    "\n",
    "\n",
    "This new loss function is still mathematically the same as categorical_crossentropy;\n",
    "it just has a different interface."
   ]
  },
  {
   "cell_type": "markdown",
   "metadata": {},
   "source": [
    "### 4.2.7 The Importance of having sufficiently Large intermediate layers"
   ]
  },
  {
   "cell_type": "markdown",
   "metadata": {},
   "source": [
    "We mentioned earlier that because the final outputs are 46-dimensional, you should\n",
    "avoid intermediate layers with many fewer than 46 units. \n",
    "\n",
    "Now let’s see what happens\n",
    "when we introduce an information bottleneck by having intermediate layers that are\n",
    "significantly less than 46-dimensional: for example, 4-dimensional."
   ]
  },
  {
   "cell_type": "markdown",
   "metadata": {},
   "source": [
    "Listing 4.22 A model with an information bottleneck"
   ]
  },
  {
   "cell_type": "code",
   "execution_count": 70,
   "metadata": {},
   "outputs": [
    {
     "name": "stdout",
     "output_type": "stream",
     "text": [
      "Epoch 1/20\n",
      "16/16 [==============================] - 1s 27ms/step - loss: 3.5257 - accuracy: 0.2610 - val_loss: 3.1903 - val_accuracy: 0.3800\n",
      "Epoch 2/20\n",
      "16/16 [==============================] - 0s 20ms/step - loss: 2.8870 - accuracy: 0.4311 - val_loss: 2.6591 - val_accuracy: 0.4300\n",
      "Epoch 3/20\n",
      "16/16 [==============================] - 0s 24ms/step - loss: 2.3392 - accuracy: 0.5174 - val_loss: 2.2033 - val_accuracy: 0.5710\n",
      "Epoch 4/20\n",
      "16/16 [==============================] - 0s 20ms/step - loss: 1.8912 - accuracy: 0.6507 - val_loss: 1.8602 - val_accuracy: 0.6340\n",
      "Epoch 5/20\n",
      "16/16 [==============================] - 0s 19ms/step - loss: 1.5667 - accuracy: 0.6840 - val_loss: 1.6420 - val_accuracy: 0.6460\n",
      "Epoch 6/20\n",
      "16/16 [==============================] - 0s 19ms/step - loss: 1.3652 - accuracy: 0.6928 - val_loss: 1.5166 - val_accuracy: 0.6590\n",
      "Epoch 7/20\n",
      "16/16 [==============================] - 0s 19ms/step - loss: 1.2385 - accuracy: 0.7037 - val_loss: 1.4484 - val_accuracy: 0.6610\n",
      "Epoch 8/20\n",
      "16/16 [==============================] - 0s 18ms/step - loss: 1.1469 - accuracy: 0.7134 - val_loss: 1.4102 - val_accuracy: 0.6610\n",
      "Epoch 9/20\n",
      "16/16 [==============================] - 0s 18ms/step - loss: 1.0709 - accuracy: 0.7190 - val_loss: 1.3813 - val_accuracy: 0.6600\n",
      "Epoch 10/20\n",
      "16/16 [==============================] - 0s 20ms/step - loss: 1.0025 - accuracy: 0.7280 - val_loss: 1.3600 - val_accuracy: 0.6780\n",
      "Epoch 11/20\n",
      "16/16 [==============================] - 0s 21ms/step - loss: 0.9464 - accuracy: 0.7444 - val_loss: 1.3458 - val_accuracy: 0.6750\n",
      "Epoch 12/20\n",
      "16/16 [==============================] - 0s 20ms/step - loss: 0.8913 - accuracy: 0.7655 - val_loss: 1.3539 - val_accuracy: 0.6720\n",
      "Epoch 13/20\n",
      "16/16 [==============================] - 0s 21ms/step - loss: 0.8468 - accuracy: 0.7818 - val_loss: 1.3373 - val_accuracy: 0.6880\n",
      "Epoch 14/20\n",
      "16/16 [==============================] - 0s 20ms/step - loss: 0.8065 - accuracy: 0.7935 - val_loss: 1.3307 - val_accuracy: 0.6980\n",
      "Epoch 15/20\n",
      "16/16 [==============================] - 0s 20ms/step - loss: 0.7669 - accuracy: 0.7985 - val_loss: 1.3324 - val_accuracy: 0.6980\n",
      "Epoch 16/20\n",
      "16/16 [==============================] - 0s 21ms/step - loss: 0.7355 - accuracy: 0.8033 - val_loss: 1.3477 - val_accuracy: 0.6950\n",
      "Epoch 17/20\n",
      "16/16 [==============================] - 0s 21ms/step - loss: 0.7045 - accuracy: 0.8071 - val_loss: 1.3624 - val_accuracy: 0.6970\n",
      "Epoch 18/20\n",
      "16/16 [==============================] - 0s 24ms/step - loss: 0.6763 - accuracy: 0.8120 - val_loss: 1.3687 - val_accuracy: 0.6990\n",
      "Epoch 19/20\n",
      "16/16 [==============================] - 0s 19ms/step - loss: 0.6512 - accuracy: 0.8151 - val_loss: 1.3800 - val_accuracy: 0.6990\n",
      "Epoch 20/20\n",
      "16/16 [==============================] - 0s 20ms/step - loss: 0.6277 - accuracy: 0.8220 - val_loss: 1.3942 - val_accuracy: 0.7000\n"
     ]
    },
    {
     "data": {
      "text/plain": [
       "<keras.callbacks.History at 0x21d894e2d00>"
      ]
     },
     "execution_count": 70,
     "metadata": {},
     "output_type": "execute_result"
    }
   ],
   "source": [
    "model = keras.Sequential([\n",
    "        layers.Dense(64,activation='relu'),\n",
    "        layers.Dense(4,activation='relu'),\n",
    "        layers.Dense(46,activation='softmax')\n",
    "])\n",
    "\n",
    "model.compile(   \n",
    "        optimizer = keras.optimizers.RMSprop(),\n",
    "        loss = keras.losses.CategoricalCrossentropy(),\n",
    "        metrics = ['accuracy']\n",
    ")\n",
    "\n",
    "model.fit(pratial_x_train,pratial_y_train,epochs=20,batch_size=512,validation_data=(x_val,y_val))"
   ]
  },
  {
   "cell_type": "markdown",
   "metadata": {},
   "source": [
    "The model now peaks at ~71% validation accuracy, an 8% absolute drop. This drop is\n",
    "mostly due to the fact that we’re trying to compress a lot of information into an intermediate\n",
    "space that is too low-dimensional. \n",
    "\n",
    "The model is able to cram most of the necessary\n",
    "information into these four-dimensional representations, but not all of it"
   ]
  },
  {
   "cell_type": "markdown",
   "metadata": {},
   "source": [
    "### 4.2.8 Further experiments \n",
    "\n",
    "+ Try using larger or smaller layers: 32 units, 128 units, and so on.\n",
    "\n",
    "+ You used two intermediate layers before the final softmax classification layer.\n",
    "Now try using a single intermediate layer, or three intermediate layers."
   ]
  },
  {
   "cell_type": "markdown",
   "metadata": {},
   "source": []
  }
 ],
 "metadata": {
  "kernelspec": {
   "display_name": "Python 3.9.11 64-bit",
   "language": "python",
   "name": "python3"
  },
  "language_info": {
   "codemirror_mode": {
    "name": "ipython",
    "version": 3
   },
   "file_extension": ".py",
   "mimetype": "text/x-python",
   "name": "python",
   "nbconvert_exporter": "python",
   "pygments_lexer": "ipython3",
   "version": "3.9.11"
  },
  "orig_nbformat": 4,
  "vscode": {
   "interpreter": {
    "hash": "e450050b432e843bda3c41bf3272c133bfc370a7003f3e377e27f87a49ce1127"
   }
  }
 },
 "nbformat": 4,
 "nbformat_minor": 2
}
