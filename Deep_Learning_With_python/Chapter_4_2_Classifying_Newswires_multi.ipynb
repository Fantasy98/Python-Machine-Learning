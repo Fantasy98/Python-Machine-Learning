{
 "cells": [
  {
   "cell_type": "markdown",
   "metadata": {},
   "source": [
    "# Chapter 4.2 Classifying Newswires Multiclass Classification "
   ]
  },
  {
   "cell_type": "markdown",
   "metadata": {},
   "source": [
    "In this section, we’ll build a model to classify Reuters newswires into 46 mutually\n",
    "exclusive topics. \n",
    "\n",
    "Because we have many classes, this problem is an instance of multiclass classification, and because each data point should be classified into only one category, the problem is more specifically an instance of single-label multiclass classification.\n",
    "\n",
    "If each data point could belong to multiple categories (in this case, topics), we’d be\n",
    "facing a multilabel multiclass classification problem."
   ]
  },
  {
   "cell_type": "markdown",
   "metadata": {},
   "source": [
    "### 4.2.1 The Reuters DataSet"
   ]
  },
  {
   "cell_type": "markdown",
   "metadata": {},
   "source": [
    "You’ll work with the Reuters dataset, a set of short newswires and their topics, published\n",
    "by Reuters in 1986. It’s a simple, widely used toy dataset for text classification. There\n",
    "are 46 different topics; some topics are more represented than others, but each topic\n",
    "has at least 10 examples in the training set."
   ]
  },
  {
   "cell_type": "markdown",
   "metadata": {},
   "source": [
    "Listing 4.11 Loading the Reuters Dataset"
   ]
  },
  {
   "cell_type": "code",
   "execution_count": 76,
   "metadata": {},
   "outputs": [],
   "source": [
    "from tensorflow import keras\n",
    "from keras.datasets import reuters \n",
    "\n",
    "(train_data,train_labels),(test_data,test_labels) = reuters.load_data(num_words= 10000)"
   ]
  },
  {
   "cell_type": "code",
   "execution_count": 77,
   "metadata": {},
   "outputs": [
    {
     "name": "stdout",
     "output_type": "stream",
     "text": [
      "8982\n",
      "2246\n"
     ]
    }
   ],
   "source": [
    "print(len(train_data))\n",
    "print(len(test_data))"
   ]
  },
  {
   "cell_type": "code",
   "execution_count": 78,
   "metadata": {},
   "outputs": [
    {
     "name": "stdout",
     "output_type": "stream",
     "text": [
      "[1, 245, 273, 207, 156, 53, 74, 160, 26, 14, 46, 296, 26, 39, 74, 2979, 3554, 14, 46, 4689, 4329, 86, 61, 3499, 4795, 14, 61, 451, 4329, 17, 12]\n"
     ]
    }
   ],
   "source": [
    "print(train_data[10])"
   ]
  },
  {
   "cell_type": "markdown",
   "metadata": {},
   "source": [
    "Listing 4.12 Decoding newswires back to text"
   ]
  },
  {
   "cell_type": "code",
   "execution_count": 79,
   "metadata": {},
   "outputs": [
    {
     "name": "stdout",
     "output_type": "stream",
     "text": [
      "???saidasaresultofitsdecemberacquisitionofspacecoitexpectsearningspersharein1987of115to130dlrspershareupfrom70ctsin1986thecompanysaidpretaxnetshouldrisetonineto10mlndlrsfromsixmlndlrsin1986andrentaloperationrevenuesto19to22mlndlrsfrom125mlndlrsitsaidcashflowpersharethisyearshouldbe250tothreedlrsreuter3\n"
     ]
    }
   ],
   "source": [
    "word_index = reuters.get_word_index()\n",
    "revers_word_index = dict( (value,key) for (key,value) in word_index.items()  )\n",
    "\n",
    "decoded_newswire = \"\".join( [revers_word_index.get(i-3,\"?\") for i in train_data[0]  ]           )\n",
    "print(decoded_newswire)"
   ]
  },
  {
   "cell_type": "code",
   "execution_count": 80,
   "metadata": {},
   "outputs": [],
   "source": [
    "import numpy as np\n",
    "def vectorize_sequence(sequences,num_dim = 10000):\n",
    "    results  = np.zeros((len(sequences),num_dim))\n",
    "    for i, sequence in enumerate(sequences):\n",
    "        for j in sequence:\n",
    "            results[i,j] = 1\n",
    "    return results"
   ]
  },
  {
   "cell_type": "markdown",
   "metadata": {},
   "source": [
    "List 4.13 Encoding the input data"
   ]
  },
  {
   "cell_type": "code",
   "execution_count": 81,
   "metadata": {},
   "outputs": [],
   "source": [
    "x_train = vectorize_sequence(train_data).astype(\"float32\")\n",
    "x_test = vectorize_sequence(test_data).astype(\"float32\")"
   ]
  },
  {
   "cell_type": "markdown",
   "metadata": {},
   "source": [
    "List 4.14 Encoding the labels"
   ]
  },
  {
   "cell_type": "code",
   "execution_count": 82,
   "metadata": {},
   "outputs": [],
   "source": [
    "def to_one_hot (labels,dimension = 46):\n",
    "    results = np.zeros((len(labels),dimension))\n",
    "    for i , label in enumerate(labels):\n",
    "        results[i,label] = 1\n",
    "    return results\n",
    "\n",
    "\n",
    "y_train  = to_one_hot(train_labels).astype(\"float32\")\n",
    "y_test  = to_one_hot(test_labels).astype(\"float32\")\n"
   ]
  },
  {
   "cell_type": "markdown",
   "metadata": {},
   "source": [
    "There is a built-in method"
   ]
  },
  {
   "cell_type": "code",
   "execution_count": 83,
   "metadata": {},
   "outputs": [],
   "source": [
    "from tensorflow.keras.utils import to_categorical\n",
    "y_train = to_categorical(train_labels)\n",
    "y_test = to_categorical(test_labels)\n"
   ]
  },
  {
   "cell_type": "markdown",
   "metadata": {},
   "source": [
    "### 4.2.3 Builing your model"
   ]
  },
  {
   "cell_type": "markdown",
   "metadata": {},
   "source": [
    "In a stack of Dense layers like those we’ve been using, each layer can only access\n",
    "information present in the output of the previous layer. \n",
    "\n",
    "If one layer drops some information relevant to the classification problem, this information can never be\n",
    "recovered by later layers: each layer can potentially become an information bottleneck.\n",
    "\n",
    "In the previous example, we used 16-dimensional intermediate layers, but a\n",
    "16-dimensional space may be too limited to learn to separate 46 different classes:\n",
    "such small layers may act as information bottlenecks, permanently dropping relevant information."
   ]
  },
  {
   "cell_type": "markdown",
   "metadata": {},
   "source": [
    "Listing 4.15 Model definition"
   ]
  },
  {
   "cell_type": "code",
   "execution_count": 84,
   "metadata": {},
   "outputs": [],
   "source": [
    "from tensorflow import keras\n",
    "from keras import layers\n",
    "\n",
    "\n",
    "\n",
    "model = keras.Sequential([\n",
    "                        layers.Dense(units=64, activation='relu'),\n",
    "                        layers.Dense(units=64, activation='relu'),\n",
    "                        layers.Dense(units=46, activation='softmax'),\n",
    "                        \n",
    "])"
   ]
  },
  {
   "cell_type": "markdown",
   "metadata": {},
   "source": [
    "+ First, we end the model with a Dense layer of size 46. This means for each input\n",
    "sample, the network will output a 46-dimensional vector. Each entry in this vector\n",
    "(each dimension) will encode a different output class.\n",
    "\n",
    "\n",
    "+ Second, the last layer uses a softmax activation. It means the model will output a probability distribution over the 46 different output classes—for every input sample, the model will produce a 46-dimensional output vector, where output[i] is the probability that the sample belongs to class i. The 46 scores will sum to 1."
   ]
  },
  {
   "cell_type": "markdown",
   "metadata": {},
   "source": [
    "The best loss function to use in this case is categorical_crossentropy. It measures the distance between two probability distributions."
   ]
  },
  {
   "cell_type": "markdown",
   "metadata": {},
   "source": [
    " By minimizing the distance between these two distributions, you train the model to output something as close as possible to the true labels."
   ]
  },
  {
   "cell_type": "markdown",
   "metadata": {},
   "source": [
    "Listing 4.16 Compiling the model"
   ]
  },
  {
   "cell_type": "code",
   "execution_count": 85,
   "metadata": {},
   "outputs": [],
   "source": [
    "model.compile(\n",
    "            optimizer=keras.optimizers.RMSprop(learning_rate=0.001),\n",
    "            loss = keras.losses.CategoricalCrossentropy(),\n",
    "            metrics = [keras.metrics.Accuracy()]\n",
    "\n",
    "                )"
   ]
  },
  {
   "cell_type": "markdown",
   "metadata": {},
   "source": [
    "### 4.2.4 Validating your approach"
   ]
  },
  {
   "cell_type": "markdown",
   "metadata": {},
   "source": [
    "Listing 4.17 Setting aside validation set "
   ]
  },
  {
   "cell_type": "code",
   "execution_count": 86,
   "metadata": {},
   "outputs": [],
   "source": [
    "x_val = x_train[:1000]\n",
    "y_val = y_train[:1000]\n",
    "\n",
    "pratial_x_train = x_train[1000:]\n",
    "pratial_y_train = y_train[1000:]"
   ]
  },
  {
   "cell_type": "markdown",
   "metadata": {},
   "source": [
    "List 4.18 Training the model "
   ]
  },
  {
   "cell_type": "code",
   "execution_count": 87,
   "metadata": {},
   "outputs": [
    {
     "name": "stdout",
     "output_type": "stream",
     "text": [
      "Epoch 1/40\n",
      "16/16 [==============================] - 1s 24ms/step - loss: 2.5563 - accuracy: 0.0000e+00 - val_loss: 1.6427 - val_accuracy: 0.0000e+00\n",
      "Epoch 2/40\n",
      "16/16 [==============================] - 0s 20ms/step - loss: 1.3761 - accuracy: 0.0000e+00 - val_loss: 1.2719 - val_accuracy: 0.0000e+00\n",
      "Epoch 3/40\n",
      "16/16 [==============================] - 0s 18ms/step - loss: 1.0401 - accuracy: 0.0000e+00 - val_loss: 1.1229 - val_accuracy: 0.0000e+00\n",
      "Epoch 4/40\n",
      "16/16 [==============================] - 0s 17ms/step - loss: 0.8228 - accuracy: 0.0000e+00 - val_loss: 1.0261 - val_accuracy: 0.0000e+00\n",
      "Epoch 5/40\n",
      "16/16 [==============================] - 0s 18ms/step - loss: 0.6602 - accuracy: 0.0000e+00 - val_loss: 0.9639 - val_accuracy: 0.0000e+00\n",
      "Epoch 6/40\n",
      "16/16 [==============================] - 0s 16ms/step - loss: 0.5263 - accuracy: 0.0000e+00 - val_loss: 0.9104 - val_accuracy: 0.0000e+00\n",
      "Epoch 7/40\n",
      "16/16 [==============================] - 0s 17ms/step - loss: 0.4226 - accuracy: 2.7235e-06 - val_loss: 0.9017 - val_accuracy: 0.0000e+00\n",
      "Epoch 8/40\n",
      "16/16 [==============================] - 0s 17ms/step - loss: 0.3415 - accuracy: 8.1706e-06 - val_loss: 0.8907 - val_accuracy: 0.0000e+00\n",
      "Epoch 9/40\n",
      "16/16 [==============================] - 0s 19ms/step - loss: 0.2892 - accuracy: 1.3618e-05 - val_loss: 0.8754 - val_accuracy: 0.0000e+00\n",
      "Epoch 10/40\n",
      "16/16 [==============================] - 0s 17ms/step - loss: 0.2411 - accuracy: 2.7235e-05 - val_loss: 0.9294 - val_accuracy: 0.0000e+00\n",
      "Epoch 11/40\n",
      "16/16 [==============================] - 0s 17ms/step - loss: 0.2098 - accuracy: 3.2682e-05 - val_loss: 0.9094 - val_accuracy: 1.0870e-04\n",
      "Epoch 12/40\n",
      "16/16 [==============================] - 0s 17ms/step - loss: 0.1814 - accuracy: 5.9917e-05 - val_loss: 1.0270 - val_accuracy: 0.0000e+00\n",
      "Epoch 13/40\n",
      "16/16 [==============================] - 0s 17ms/step - loss: 0.1648 - accuracy: 7.6259e-05 - val_loss: 0.9481 - val_accuracy: 1.7391e-04\n",
      "Epoch 14/40\n",
      "16/16 [==============================] - 0s 16ms/step - loss: 0.1522 - accuracy: 7.8982e-05 - val_loss: 0.9240 - val_accuracy: 2.1739e-05\n",
      "Epoch 15/40\n",
      "16/16 [==============================] - 0s 17ms/step - loss: 0.1417 - accuracy: 1.1983e-04 - val_loss: 0.9742 - val_accuracy: 6.5217e-05\n",
      "Epoch 16/40\n",
      "16/16 [==============================] - 0s 18ms/step - loss: 0.1324 - accuracy: 1.2801e-04 - val_loss: 0.9919 - val_accuracy: 2.1739e-04\n",
      "Epoch 17/40\n",
      "16/16 [==============================] - 0s 19ms/step - loss: 0.1238 - accuracy: 1.6886e-04 - val_loss: 0.9969 - val_accuracy: 1.3043e-04\n",
      "Epoch 18/40\n",
      "16/16 [==============================] - 0s 16ms/step - loss: 0.1214 - accuracy: 1.5796e-04 - val_loss: 1.0705 - val_accuracy: 1.7391e-04\n",
      "Epoch 19/40\n",
      "16/16 [==============================] - 0s 17ms/step - loss: 0.1165 - accuracy: 1.9882e-04 - val_loss: 1.0101 - val_accuracy: 1.5217e-04\n",
      "Epoch 20/40\n",
      "16/16 [==============================] - 0s 19ms/step - loss: 0.1114 - accuracy: 2.2061e-04 - val_loss: 1.0298 - val_accuracy: 1.0870e-04\n",
      "Epoch 21/40\n",
      "16/16 [==============================] - 0s 16ms/step - loss: 0.1067 - accuracy: 2.4784e-04 - val_loss: 1.0651 - val_accuracy: 1.9565e-04\n",
      "Epoch 22/40\n",
      "16/16 [==============================] - 0s 17ms/step - loss: 0.1054 - accuracy: 2.6418e-04 - val_loss: 1.0758 - val_accuracy: 1.5217e-04\n",
      "Epoch 23/40\n",
      "16/16 [==============================] - 0s 18ms/step - loss: 0.1044 - accuracy: 2.9142e-04 - val_loss: 1.0829 - val_accuracy: 1.3043e-04\n",
      "Epoch 24/40\n",
      "16/16 [==============================] - 0s 18ms/step - loss: 0.1010 - accuracy: 3.1593e-04 - val_loss: 1.1559 - val_accuracy: 4.1304e-04\n",
      "Epoch 25/40\n",
      "16/16 [==============================] - 0s 16ms/step - loss: 0.0976 - accuracy: 3.9219e-04 - val_loss: 1.2345 - val_accuracy: 2.8261e-04\n",
      "Epoch 26/40\n",
      "16/16 [==============================] - 0s 16ms/step - loss: 0.1007 - accuracy: 3.6768e-04 - val_loss: 1.1470 - val_accuracy: 3.6957e-04\n",
      "Epoch 27/40\n",
      "16/16 [==============================] - 0s 18ms/step - loss: 0.0997 - accuracy: 4.0308e-04 - val_loss: 1.1549 - val_accuracy: 3.9130e-04\n",
      "Epoch 28/40\n",
      "16/16 [==============================] - 0s 17ms/step - loss: 0.0992 - accuracy: 4.2759e-04 - val_loss: 1.1536 - val_accuracy: 4.3478e-04\n",
      "Epoch 29/40\n",
      "16/16 [==============================] - 0s 16ms/step - loss: 0.0970 - accuracy: 4.5210e-04 - val_loss: 1.1696 - val_accuracy: 3.2609e-04\n",
      "Epoch 30/40\n",
      "16/16 [==============================] - 0s 17ms/step - loss: 0.0918 - accuracy: 4.7389e-04 - val_loss: 1.2164 - val_accuracy: 3.9130e-04\n",
      "Epoch 31/40\n",
      "16/16 [==============================] - 0s 18ms/step - loss: 0.0943 - accuracy: 5.4743e-04 - val_loss: 1.1938 - val_accuracy: 3.6957e-04\n",
      "Epoch 32/40\n",
      "16/16 [==============================] - 0s 17ms/step - loss: 0.0904 - accuracy: 5.3381e-04 - val_loss: 1.2088 - val_accuracy: 4.5652e-04\n",
      "Epoch 33/40\n",
      "16/16 [==============================] - 0s 16ms/step - loss: 0.0929 - accuracy: 5.5560e-04 - val_loss: 1.2728 - val_accuracy: 3.0435e-04\n",
      "Epoch 34/40\n",
      "16/16 [==============================] - 0s 17ms/step - loss: 0.0906 - accuracy: 5.7194e-04 - val_loss: 1.1970 - val_accuracy: 2.8261e-04\n",
      "Epoch 35/40\n",
      "16/16 [==============================] - 0s 19ms/step - loss: 0.0908 - accuracy: 5.7466e-04 - val_loss: 1.2922 - val_accuracy: 3.4783e-04\n",
      "Epoch 36/40\n",
      "16/16 [==============================] - 0s 16ms/step - loss: 0.0893 - accuracy: 5.7739e-04 - val_loss: 1.2994 - val_accuracy: 4.7826e-04\n",
      "Epoch 37/40\n",
      "16/16 [==============================] - 0s 16ms/step - loss: 0.0905 - accuracy: 6.0734e-04 - val_loss: 1.2751 - val_accuracy: 4.5652e-04\n",
      "Epoch 38/40\n",
      "16/16 [==============================] - 0s 18ms/step - loss: 0.0891 - accuracy: 6.1552e-04 - val_loss: 1.2117 - val_accuracy: 3.4783e-04\n",
      "Epoch 39/40\n",
      "16/16 [==============================] - 0s 20ms/step - loss: 0.0832 - accuracy: 6.3458e-04 - val_loss: 1.2588 - val_accuracy: 3.4783e-04\n",
      "Epoch 40/40\n",
      "16/16 [==============================] - 0s 18ms/step - loss: 0.0890 - accuracy: 6.5364e-04 - val_loss: 1.2510 - val_accuracy: 3.4783e-04\n"
     ]
    }
   ],
   "source": [
    "history = model.fit(\n",
    "        pratial_x_train,\n",
    "        pratial_y_train,\n",
    "        epochs = 40,\n",
    "        batch_size = 512,\n",
    "        validation_data = (x_val,y_val)\n",
    ")"
   ]
  },
  {
   "cell_type": "code",
   "execution_count": 88,
   "metadata": {},
   "outputs": [],
   "source": [
    "history_dict = history.history\n",
    "\n",
    "loss = history_dict['loss']\n",
    "accuracy = history_dict['accuracy']\n",
    "\n",
    "val_loss = history_dict['val_loss']\n",
    "val_accuracy = history_dict['val_accuracy']"
   ]
  },
  {
   "cell_type": "code",
   "execution_count": 92,
   "metadata": {},
   "outputs": [
    {
     "data": {
      "image/png": "[encoded data removed]",
      "text/plain": [
       "<Figure size 432x288 with 1 Axes>"
      ]
     },
     "metadata": {
      "needs_background": "light"
     },
     "output_type": "display_data"
    }
   ],
   "source": [
    "from matplotlib import pyplot as plt\n",
    "\n",
    "epoch = np.arange(1,len(loss)+1)\n",
    "\n",
    "plt.plot(epoch,loss,'o-r',lw = 2.5,label = 'Loss of training')\n",
    "plt.plot(epoch,val_loss,'o-b',lw = 2.5,label = 'Loss of validation')\n",
    "plt.xlabel('Epochs')\n",
    "plt.ylabel('Loss')\n",
    "plt.legend()\n",
    "plt.show()"
   ]
  },
  {
   "cell_type": "code",
   "execution_count": 93,
   "metadata": {},
   "outputs": [
    {
     "data": {
      "image/png": "[encoded data removed]",
      "text/plain": [
       "<Figure size 432x288 with 1 Axes>"
      ]
     },
     "metadata": {
      "needs_background": "light"
     },
     "output_type": "display_data"
    }
   ],
   "source": [
    "from matplotlib import pyplot as plt\n",
    "\n",
    "epoch = np.arange(1,len(loss)+1)\n",
    "plt.clf()\n",
    "plt.plot(epoch,accuracy,'o-r',lw = 2.5,label = 'Accuracy of training')\n",
    "plt.plot(epoch,val_accuracy,'o-b',lw = 2.5,label = 'Accuracy of validation')\n",
    "plt.xlabel('Epochs')\n",
    "plt.ylabel('Accuracy')\n",
    "plt.legend()\n",
    "plt.show()"
   ]
  },
  {
   "cell_type": "code",
   "execution_count": null,
   "metadata": {},
   "outputs": [],
   "source": []
  }
 ],
 "metadata": {
  "kernelspec": {
   "display_name": "Python 3.9.11 64-bit",
   "language": "python",
   "name": "python3"
  },
  "language_info": {
   "codemirror_mode": {
    "name": "ipython",
    "version": 3
   },
   "file_extension": ".py",
   "mimetype": "text/x-python",
   "name": "python",
   "nbconvert_exporter": "python",
   "pygments_lexer": "ipython3",
   "version": "3.9.11"
  },
  "orig_nbformat": 4,
  "vscode": {
   "interpreter": {
    "hash": "e450050b432e843bda3c41bf3272c133bfc370a7003f3e377e27f87a49ce1127"
   }
  }
 },
 "nbformat": 4,
 "nbformat_minor": 2
}
