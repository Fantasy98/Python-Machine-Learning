{
 "cells": [
  {
   "cell_type": "markdown",
   "metadata": {},
   "source": [
    "# Tutorial :  Installation of Pytorch,Tensorflow, TensorBoard and Graphiz"
   ]
  },
  {
   "cell_type": "markdown",
   "metadata": {},
   "source": [
    "## 1. pip path check\n",
    "+ __pip__ is a library that mangage all the site-packages in python\n",
    "\n",
    "+ We are going to use __pip__ to install pytroch and tensorflow"
   ]
  },
  {
   "cell_type": "markdown",
   "metadata": {},
   "source": [
    "### 1.1 Check the verison of __pip__"
   ]
  },
  {
   "cell_type": "code",
   "execution_count": 8,
   "metadata": {},
   "outputs": [
    {
     "name": "stdout",
     "output_type": "stream",
     "text": [
      "22.1.2\n"
     ]
    }
   ],
   "source": [
    "import pip \n",
    "\n",
    "print(pip.__version__)"
   ]
  },
  {
   "cell_type": "markdown",
   "metadata": {},
   "source": [
    "If it's not __22.1.2__ please update:\n",
    "\n",
    "1. Call the terminal : $ctrl$ + ~ \n",
    "\n",
    "2. Input: __python -m pip install --upgrade pip__\n",
    "\n",
    "3. Press  $Enter$"
   ]
  },
  {
   "cell_type": "markdown",
   "metadata": {},
   "source": [
    "Then check again"
   ]
  },
  {
   "cell_type": "code",
   "execution_count": 9,
   "metadata": {},
   "outputs": [
    {
     "data": {
      "text/plain": [
       "'22.1.2'"
      ]
     },
     "execution_count": 9,
     "metadata": {},
     "output_type": "execute_result"
    }
   ],
   "source": [
    "pip.__version__"
   ]
  },
  {
   "cell_type": "markdown",
   "metadata": {},
   "source": [
    "### 1.2 Check the instal path of __pip__\n",
    "\n",
    "Make Sure it's the same path with Python"
   ]
  },
  {
   "cell_type": "code",
   "execution_count": 10,
   "metadata": {},
   "outputs": [
    {
     "name": "stdout",
     "output_type": "stream",
     "text": [
      "True\n"
     ]
    }
   ],
   "source": [
    "pip.__path__\n",
    "print(\"Python\" in pip.__path__[0] )"
   ]
  },
  {
   "cell_type": "markdown",
   "metadata": {},
   "source": [
    "## 2 Pytroch Installation"
   ]
  },
  {
   "cell_type": "markdown",
   "metadata": {},
   "source": [
    "### 2.1 Matching the Version of __CUDA__ "
   ]
  },
  {
   "cell_type": "markdown",
   "metadata": {},
   "source": [
    "Visit :https://pytorch.org/\n",
    "to check the verison "
   ]
  },
  {
   "cell_type": "markdown",
   "metadata": {},
   "source": [
    "For our case: \n",
    "\n",
    "1. Call the terminal : $ctrl$ + ~ \n",
    "\n",
    "2. Input: __pip3 install torch torchvision torchaudio --extra-index-url https://download.pytorch.org/whl/cu116__\n",
    "\n",
    "3. Press  $Enter$"
   ]
  },
  {
   "cell_type": "markdown",
   "metadata": {},
   "source": [
    "### 2.2 Does GPU work for us ? "
   ]
  },
  {
   "cell_type": "markdown",
   "metadata": {},
   "source": [
    "Run the following code, if result shows __\"cuda:0\"__, cheers ! "
   ]
  },
  {
   "cell_type": "code",
   "execution_count": 11,
   "metadata": {},
   "outputs": [
    {
     "name": "stdout",
     "output_type": "stream",
     "text": [
      "cuda:0\n"
     ]
    }
   ],
   "source": [
    "import torch\n",
    "\n",
    "device = torch.device(\"cuda:0\" if torch.cuda.is_available() else \"CPU\")\n",
    "\n",
    "print(device)"
   ]
  },
  {
   "cell_type": "markdown",
   "metadata": {},
   "source": [
    "Another way to examine the GPU, is assigning a tensor to CUDA. \n",
    "\n",
    "(Also an example of leverarging GPU in __pytorch__)"
   ]
  },
  {
   "cell_type": "code",
   "execution_count": 12,
   "metadata": {},
   "outputs": [
    {
     "name": "stdout",
     "output_type": "stream",
     "text": [
      "tensor([[4., 1.]], device='cuda:0')\n"
     ]
    }
   ],
   "source": [
    "vector = torch.tensor([[4.0,1.0]]).to(device='cuda')\n",
    "\n",
    "print(vector)"
   ]
  },
  {
   "cell_type": "markdown",
   "metadata": {},
   "source": [
    "## 3 Tensorflow Installation"
   ]
  },
  {
   "cell_type": "markdown",
   "metadata": {},
   "source": [
    "For __Tensorflow__ you do not have to check the version, but you need make sure installed version is GPU not CPU"
   ]
  },
  {
   "cell_type": "markdown",
   "metadata": {},
   "source": [
    "For our case: \n",
    "\n",
    "1. Call the terminal : $ctrl$ + ~ \n",
    "\n",
    "2. Input: __pip install tensorflow-gpu__\n",
    "\n",
    "3. Press  $Enter$"
   ]
  },
  {
   "cell_type": "markdown",
   "metadata": {},
   "source": [
    "### 3.1 Does GPU work for us ?"
   ]
  },
  {
   "cell_type": "markdown",
   "metadata": {},
   "source": [
    "If you installed GPU version, __Tensorflow__ runs everything based on GPU without manual assignment\n",
    "\n"
   ]
  },
  {
   "cell_type": "markdown",
   "metadata": {},
   "source": [
    "#### 3.1.1 Build with GPU support ?\n",
    "Check if the outputs are $True$\n"
   ]
  },
  {
   "cell_type": "code",
   "execution_count": 13,
   "metadata": {},
   "outputs": [
    {
     "name": "stdout",
     "output_type": "stream",
     "text": [
      "Is tensorflow bulit with GPU supprot?\n",
      "True\n",
      "\n",
      "Is tensorflow bulit with CUDA?\n",
      "True\n"
     ]
    }
   ],
   "source": [
    "import tensorflow as tf\n",
    "print(\"Is tensorflow bulit with GPU supprot?\\n{}\".format(tf.test.is_built_with_gpu_support()))\n",
    "print(\"\\nIs tensorflow bulit with CUDA?\\n{}\".format(tf.test.is_built_with_cuda()))\n",
    "\n"
   ]
  },
  {
   "cell_type": "markdown",
   "metadata": {},
   "source": [
    "Keep in mind how many Invidia GPU you have, the number should be identical :)"
   ]
  },
  {
   "cell_type": "code",
   "execution_count": 14,
   "metadata": {},
   "outputs": [
    {
     "name": "stdout",
     "output_type": "stream",
     "text": [
      "Num GPUs Available:  1\n"
     ]
    }
   ],
   "source": [
    "import tensorflow as tf\n",
    "\n",
    "print(\"Num GPUs Available: \", len(tf.config.list_physical_devices('GPU')))"
   ]
  },
  {
   "cell_type": "markdown",
   "metadata": {},
   "source": [
    "#### 3.1.2 Show the device name\n",
    "\n",
    "I offer another script in TEST.py where can check detailed information"
   ]
  },
  {
   "cell_type": "code",
   "execution_count": 15,
   "metadata": {},
   "outputs": [
    {
     "data": {
      "text/plain": [
       "'/device:GPU:0'"
      ]
     },
     "execution_count": 15,
     "metadata": {},
     "output_type": "execute_result"
    }
   ],
   "source": [
    "tf.test.gpu_device_name()"
   ]
  },
  {
   "cell_type": "markdown",
   "metadata": {},
   "source": [
    "## 4  Install __graphiz__ and __pydot__"
   ]
  },
  {
   "cell_type": "markdown",
   "metadata": {},
   "source": [
    "### 4.1 graphiz"
   ]
  },
  {
   "cell_type": "markdown",
   "metadata": {},
   "source": [
    "1. Call the terminal : $ctrl$ + ~ \n",
    "\n",
    "2. Input: __pip install graphiz__\n",
    "\n",
    "3. Press  $Enter$"
   ]
  },
  {
   "cell_type": "markdown",
   "metadata": {},
   "source": [
    "### 4.2 pydot "
   ]
  },
  {
   "cell_type": "markdown",
   "metadata": {},
   "source": [
    "1. Call the terminal : $ctrl$ + ~ \n",
    "\n",
    "2. Input: __pip install pydot_ng__\n",
    "\n",
    "3. Press  $Enter$"
   ]
  },
  {
   "cell_type": "markdown",
   "metadata": {},
   "source": [
    "## 5 Check if the tensorboard work"
   ]
  },
  {
   "cell_type": "markdown",
   "metadata": {},
   "source": [
    "The __graphiz__ and __pydot__ are necessary for the tensorborad and __plot_model()__ function in Tensorflow"
   ]
  },
  {
   "cell_type": "markdown",
   "metadata": {},
   "source": [
    "### 5.1 Check  graphiz\n",
    "\n",
    "Ignore the process, just check if you can see the figure "
   ]
  },
  {
   "cell_type": "code",
   "execution_count": 16,
   "metadata": {},
   "outputs": [],
   "source": [
    "from tensorflow import keras\n",
    "from keras.datasets import mnist\n",
    "from keras import layers\n",
    "(images,labels),(test_images,test_labels) = mnist.load_data()\n",
    "\n",
    "images = images.reshape((60000,28*28))\n",
    "images = images.astype('float32')/255\n",
    "\n",
    "\n",
    "test_images = test_images.reshape((10000,28*28))\n",
    "test_images = test_images.astype('float32')/255\n",
    "\n",
    "train_images,val_images = images[10000:],images[:10000]\n",
    "\n",
    "\n",
    "train_labels,val_labels = labels[10000:],labels[:10000]\n",
    "\n",
    "\n",
    "import numpy as np\n",
    "def get_mnist_model():\n",
    "    inputs = keras.Input(shape=(28*28,))\n",
    "    features = layers.Dense(512,activation=\"relu\")(inputs)\n",
    "    features = layers.Dropout(0.5)(features)\n",
    "    outputs = layers.Dense(10,activation='softmax')(features)\n",
    "    model = keras.Model(inputs=inputs,outputs=outputs)\n",
    "    return model"
   ]
  },
  {
   "cell_type": "code",
   "execution_count": 17,
   "metadata": {},
   "outputs": [
    {
     "data": {
      "image/png": "[encoded data removed]",
      "text/plain": [
       "<IPython.core.display.Image object>"
      ]
     },
     "execution_count": 17,
     "metadata": {},
     "output_type": "execute_result"
    }
   ],
   "source": [
    "model = get_mnist_model()\n",
    "keras.utils.plot_model(model,'Test.png',show_layer_activations=True,show_dtype=True,show_layer_names=True)\n"
   ]
  },
  {
   "cell_type": "markdown",
   "metadata": {},
   "source": [
    "### 5.2 Check Tensorboard."
   ]
  },
  {
   "cell_type": "markdown",
   "metadata": {},
   "source": [
    "We will going to use a model of mnist"
   ]
  },
  {
   "cell_type": "code",
   "execution_count": 18,
   "metadata": {},
   "outputs": [],
   "source": [
    "model = get_mnist_model()\n",
    "\n",
    "model.compile(optimizer= keras.optimizers.RMSprop(),\n",
    "                loss = keras.losses.SparseCategoricalCrossentropy(),\n",
    "                metrics = ['accuracy']\n",
    "                )\n",
    "\n",
    "from keras.callbacks import TensorBoard\n",
    "callback = [  TensorBoard(log_dir=\"E:\\\\Python-Machine-Learning\\\\Deep_Learning_With_python\\\\Test\\\\\") ]"
   ]
  },
  {
   "cell_type": "code",
   "execution_count": 19,
   "metadata": {},
   "outputs": [
    {
     "name": "stdout",
     "output_type": "stream",
     "text": [
      "Epoch 1/3\n",
      "1563/1563 [==============================] - 17s 9ms/step - loss: 0.2906 - accuracy: 0.9153 - val_loss: 0.1477 - val_accuracy: 0.9577\n",
      "Epoch 2/3\n",
      "1563/1563 [==============================] - 14s 9ms/step - loss: 0.1668 - accuracy: 0.9540 - val_loss: 0.1311 - val_accuracy: 0.9649\n",
      "Epoch 3/3\n",
      "1563/1563 [==============================] - 13s 8ms/step - loss: 0.1403 - accuracy: 0.9626 - val_loss: 0.1237 - val_accuracy: 0.9690\n"
     ]
    },
    {
     "data": {
      "text/plain": [
       "<keras.callbacks.History at 0x254332c5fd0>"
      ]
     },
     "execution_count": 19,
     "metadata": {},
     "output_type": "execute_result"
    }
   ],
   "source": [
    "model.fit(train_images,train_labels,\n",
    "            epochs = 3,\n",
    "            validation_data = (val_images,val_labels),\n",
    "            callbacks = callback\n",
    "            )"
   ]
  },
  {
   "cell_type": "markdown",
   "metadata": {},
   "source": [
    "During Running, Vscode will recommand you to install a plugin, just install it and you can check the tensorboard in VScode."
   ]
  },
  {
   "cell_type": "markdown",
   "metadata": {},
   "source": [
    "In the VSCODE, you have installed a plug-in for tensorboard.\n",
    "\n",
    "__However, you should change the path you load file every time__.\n",
    "\n",
    "The way to change the folder is \n",
    "\n",
    "1.  ctrl+shift+p \n",
    "\n",
    "2.  type: Python : Launch TensorBoard\n",
    "\n",
    "3. Choose the folder or type the path \n",
    "\n",
    "4. Then the tensorboard window will appear!"
   ]
  }
 ],
 "metadata": {
  "kernelspec": {
   "display_name": "Python 3.9.11 64-bit",
   "language": "python",
   "name": "python3"
  },
  "language_info": {
   "codemirror_mode": {
    "name": "ipython",
    "version": 3
   },
   "file_extension": ".py",
   "mimetype": "text/x-python",
   "name": "python",
   "nbconvert_exporter": "python",
   "pygments_lexer": "ipython3",
   "version": "3.9.11"
  },
  "orig_nbformat": 4,
  "vscode": {
   "interpreter": {
    "hash": "e450050b432e843bda3c41bf3272c133bfc370a7003f3e377e27f87a49ce1127"
   }
  }
 },
 "nbformat": 4,
 "nbformat_minor": 2
}
